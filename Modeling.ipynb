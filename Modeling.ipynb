{
 "cells": [
  {
   "cell_type": "code",
   "execution_count": null,
   "metadata": {},
   "outputs": [],
   "source": [
    "# imports\n",
    "import os\n",
    "import random\n",
    "\n",
    "import pandas as pd\n",
    "import numpy as np\n",
    "\n",
    "from copy import deepcopy\n",
    "\n",
    "from matplotlib import pyplot as plt\n",
    "import seaborn as sns\n",
    "\n",
    "sns.set()\n",
    "\n",
    "import json\n",
    "\n",
    "import project.download_content as content\n",
    "\n",
    "from collections import Counter\n",
    "\n",
    "import notebooks_utils.analysis as utils\n",
    "from notebooks_utils import visuals\n",
    "\n",
    "from IPython.display import display\n",
    "\n",
    "from plotly import graph_objects as go\n",
    "\n",
    "from plotly.offline import download_plotlyjs, init_notebook_mode, plot, iplot\n",
    "init_notebook_mode(connected=True)\n",
    "\n",
    "sns.set_palette(sns.diverging_palette(255, 133, l=60, n=12, center=\"dark\"))\n",
    "\n",
    "%matplotlib inline\n",
    "\n",
    "METAPATH = os.path.join(content.DATAPATH, 'METADATA')"
   ]
  },
  {
   "cell_type": "markdown",
   "metadata": {},
   "source": [
    "## Prepare data"
   ]
  },
  {
   "cell_type": "markdown",
   "metadata": {},
   "source": [
    "Inspired in the EDA notebook inside this project"
   ]
  },
  {
   "cell_type": "markdown",
   "metadata": {},
   "source": [
    "### Wrangling"
   ]
  },
  {
   "cell_type": "code",
   "execution_count": null,
   "metadata": {},
   "outputs": [],
   "source": [
    "# metadata general files\n",
    "df_classes_raw = pd.read_csv(METAPATH + \"/class-descriptions-boxable.csv\",\n",
    "                         names=['class_encode', 'class_name'])\n",
    "with open(METAPATH + \"/bbox_labels_600_hierarchy.json\") as f:\n",
    "    dict_hierarchy_raw = json.load(f)\n",
    "    \n",
    "df_train = pd.read_csv(METAPATH + \"/train-annotations-bbox.csv\")\n",
    "df_val = pd.read_csv(METAPATH + \"/validation-annotations-bbox.csv\")\n",
    "df_test = pd.read_csv(METAPATH + \"/test-annotations-bbox.csv\")"
   ]
  },
  {
   "cell_type": "code",
   "execution_count": null,
   "metadata": {},
   "outputs": [],
   "source": [
    "# cleaning\n",
    "df_train = df_train.drop_duplicates()\n",
    "df_val = df_val.drop_duplicates()\n",
    "df_test = df_test.drop_duplicates()"
   ]
  },
  {
   "cell_type": "code",
   "execution_count": null,
   "metadata": {},
   "outputs": [],
   "source": [
    "# creating a hierarchical dict with semantic labels\n",
    "def changing_to_semantic(tree, *args):\n",
    "    try:\n",
    "        tree['LabelName'] = utils.semantic_name(tree['LabelName'])\n",
    "    except KeyError:\n",
    "        tree['LabelName'] = 'Entity'\n",
    "    \n",
    "    if 'Subcategory' in tree.keys():\n",
    "        for subcat in tree['Subcategory']:\n",
    "            changing_to_semantic(subcat, *args, tree['LabelName'])\n",
    "            \n",
    "dict_hierarchy = deepcopy(dict_hierarchy_raw)\n",
    "changing_to_semantic(dict_hierarchy)"
   ]
  },
  {
   "cell_type": "code",
   "execution_count": null,
   "metadata": {},
   "outputs": [],
   "source": [
    "#adding label to the first node\n",
    "df_encodes = pd.concat([pd.DataFrame([['/m/0bl9f', 'Entity']],\n",
    "                                     columns=['class_encode', 'class_name']),\n",
    "                        df_classes_raw],\n",
    "                       ignore_index=True)"
   ]
  },
  {
   "cell_type": "code",
   "execution_count": null,
   "metadata": {
    "run_control": {
     "marked": false
    }
   },
   "outputs": [],
   "source": [
    "# creating a df to show in a tabular form the relation between classes\n",
    "df_hierarchy = pd.DataFrame(utils.tabularize_hierarchy_dict(dict_hierarchy,\n",
    "                                                            df_encodes),\n",
    "                            columns=['Id', 'Label', 'IdParent',\n",
    "                                     'LabelParent', 'Depth', 'Leaf'])\n"
   ]
  },
  {
   "cell_type": "code",
   "execution_count": null,
   "metadata": {},
   "outputs": [],
   "source": [
    "# creating a classes df\n",
    "df_classes = (df_hierarchy.merge(df_encodes, left_on='Label', right_on='class_name')\n",
    "                          .drop(columns=['class_name'])\n",
    "                          .rename(columns={'class_encode': 'Encode'})\n",
    "                          .merge(df_encodes, left_on='LabelParent', right_on='class_name')\n",
    "                          .drop(columns=['class_name'])\n",
    "                          .rename(columns={'class_encode': 'EncodeParent'})\n",
    "                          [['Id', 'Label', 'Encode',\n",
    "                            'IdParent', 'LabelParent', 'EncodeParent',\n",
    "                            'Depth', 'Leaf']])"
   ]
  },
  {
   "cell_type": "markdown",
   "metadata": {},
   "source": [
    "### Visualize DFs"
   ]
  },
  {
   "cell_type": "code",
   "execution_count": null,
   "metadata": {},
   "outputs": [],
   "source": [
    "display(df_train.head(2))\n",
    "display(df_val.head(2))\n",
    "display(df_test.head(2))\n",
    "display(df_classes.head(2))"
   ]
  }
 ],
 "metadata": {
  "kernelspec": {
   "display_name": "Python 3 [GPU]",
   "language": "python",
   "name": "python3-gpu"
  },
  "language_info": {
   "codemirror_mode": {
    "name": "ipython",
    "version": 3
   },
   "file_extension": ".py",
   "mimetype": "text/x-python",
   "name": "python",
   "nbconvert_exporter": "python",
   "pygments_lexer": "ipython3",
   "version": "3.7.3"
  },
  "toc": {
   "base_numbering": "",
   "nav_menu": {},
   "number_sections": false,
   "sideBar": true,
   "skip_h1_title": false,
   "title_cell": "Table of Contents",
   "title_sidebar": "Contents",
   "toc_cell": false,
   "toc_position": {},
   "toc_section_display": true,
   "toc_window_display": false
  }
 },
 "nbformat": 4,
 "nbformat_minor": 2
}
