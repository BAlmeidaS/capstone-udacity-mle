{
 "cells": [
  {
   "cell_type": "code",
   "execution_count": 1,
   "metadata": {
    "run_control": {
     "marked": false
    }
   },
   "outputs": [],
   "source": [
    "# imports\n",
    "import os\n",
    "os.sys.path.append(os.path.abspath(\"..\"))\n",
    "\n",
    "import numpy as np\n",
    "\n",
    "import h5py\n",
    "\n",
    "import project.download_content as content\n",
    "from project.utils import data\n",
    "\n",
    "from tqdm import tqdm\n",
    "\n",
    "tqdm.pandas()"
   ]
  },
  {
   "cell_type": "markdown",
   "metadata": {},
   "source": [
    "This notebook is about create the environment to start to train models."
   ]
  },
  {
   "cell_type": "markdown",
   "metadata": {},
   "source": [
    "## About boats?!"
   ]
  },
  {
   "cell_type": "markdown",
   "metadata": {},
   "source": [
    "To early exploration in modeling I chosen to work with boats bbox. They are the 30th most relevant class, this means that they are big enough to be isolated, but they are small enough to start a model exploration (stress cost functions, architectures, so on)."
   ]
  },
  {
   "cell_type": "code",
   "execution_count": 2,
   "metadata": {},
   "outputs": [],
   "source": [
    "boats = data.boats()"
   ]
  },
  {
   "cell_type": "code",
   "execution_count": 3,
   "metadata": {},
   "outputs": [
    {
     "data": {
      "text/html": [
       "<div>\n",
       "<style scoped>\n",
       "    .dataframe tbody tr th:only-of-type {\n",
       "        vertical-align: middle;\n",
       "    }\n",
       "\n",
       "    .dataframe tbody tr th {\n",
       "        vertical-align: top;\n",
       "    }\n",
       "\n",
       "    .dataframe thead th {\n",
       "        text-align: right;\n",
       "    }\n",
       "</style>\n",
       "<table border=\"1\" class=\"dataframe\">\n",
       "  <thead>\n",
       "    <tr style=\"text-align: right;\">\n",
       "      <th></th>\n",
       "      <th>cx</th>\n",
       "      <th>cy</th>\n",
       "      <th>w</th>\n",
       "      <th>h</th>\n",
       "    </tr>\n",
       "  </thead>\n",
       "  <tbody>\n",
       "    <tr>\n",
       "      <th>0</th>\n",
       "      <td>0.013158</td>\n",
       "      <td>0.013158</td>\n",
       "      <td>0.005263</td>\n",
       "      <td>0.005263</td>\n",
       "    </tr>\n",
       "    <tr>\n",
       "      <th>1</th>\n",
       "      <td>0.013158</td>\n",
       "      <td>0.013158</td>\n",
       "      <td>0.003722</td>\n",
       "      <td>0.007443</td>\n",
       "    </tr>\n",
       "    <tr>\n",
       "      <th>2</th>\n",
       "      <td>0.013158</td>\n",
       "      <td>0.013158</td>\n",
       "      <td>0.007443</td>\n",
       "      <td>0.003722</td>\n",
       "    </tr>\n",
       "    <tr>\n",
       "      <th>3</th>\n",
       "      <td>0.013158</td>\n",
       "      <td>0.013158</td>\n",
       "      <td>0.006862</td>\n",
       "      <td>0.006862</td>\n",
       "    </tr>\n",
       "    <tr>\n",
       "      <th>4</th>\n",
       "      <td>0.013158</td>\n",
       "      <td>0.039474</td>\n",
       "      <td>0.005263</td>\n",
       "      <td>0.005263</td>\n",
       "    </tr>\n",
       "    <tr>\n",
       "      <th>...</th>\n",
       "      <td>...</td>\n",
       "      <td>...</td>\n",
       "      <td>...</td>\n",
       "      <td>...</td>\n",
       "    </tr>\n",
       "    <tr>\n",
       "      <th>8727</th>\n",
       "      <td>0.833333</td>\n",
       "      <td>0.833333</td>\n",
       "      <td>0.275681</td>\n",
       "      <td>0.275681</td>\n",
       "    </tr>\n",
       "    <tr>\n",
       "      <th>8728</th>\n",
       "      <td>0.500000</td>\n",
       "      <td>0.500000</td>\n",
       "      <td>0.900000</td>\n",
       "      <td>0.900000</td>\n",
       "    </tr>\n",
       "    <tr>\n",
       "      <th>8729</th>\n",
       "      <td>0.500000</td>\n",
       "      <td>0.500000</td>\n",
       "      <td>0.636396</td>\n",
       "      <td>1.272792</td>\n",
       "    </tr>\n",
       "    <tr>\n",
       "      <th>8730</th>\n",
       "      <td>0.500000</td>\n",
       "      <td>0.500000</td>\n",
       "      <td>1.272792</td>\n",
       "      <td>0.636396</td>\n",
       "    </tr>\n",
       "    <tr>\n",
       "      <th>8731</th>\n",
       "      <td>0.500000</td>\n",
       "      <td>0.500000</td>\n",
       "      <td>0.967471</td>\n",
       "      <td>0.967471</td>\n",
       "    </tr>\n",
       "  </tbody>\n",
       "</table>\n",
       "<p>8732 rows × 4 columns</p>\n",
       "</div>"
      ],
      "text/plain": [
       "            cx        cy         w         h\n",
       "0     0.013158  0.013158  0.005263  0.005263\n",
       "1     0.013158  0.013158  0.003722  0.007443\n",
       "2     0.013158  0.013158  0.007443  0.003722\n",
       "3     0.013158  0.013158  0.006862  0.006862\n",
       "4     0.013158  0.039474  0.005263  0.005263\n",
       "...        ...       ...       ...       ...\n",
       "8727  0.833333  0.833333  0.275681  0.275681\n",
       "8728  0.500000  0.500000  0.900000  0.900000\n",
       "8729  0.500000  0.500000  0.636396  1.272792\n",
       "8730  0.500000  0.500000  1.272792  0.636396\n",
       "8731  0.500000  0.500000  0.967471  0.967471\n",
       "\n",
       "[8732 rows x 4 columns]"
      ]
     },
     "execution_count": 3,
     "metadata": {},
     "output_type": "execute_result"
    }
   ],
   "source": [
    "standard_bboxes = data.StandardBoudingBoxes(feature_map_sizes=[38, 19, 10, 5, 3, 1],\n",
    "                                            ratios_per_layer=[[1, 1/2, 2], \n",
    "                                                              [1, 1/2, 1/3, 2, 3],\n",
    "                                                              [1, 1/2, 1/3, 2, 3],\n",
    "                                                              [1, 1/2, 1/3, 2, 3],\n",
    "                                                              [1, 1/2, 2],\n",
    "                                                              [1, 1/2, 2]])\n",
    "\n",
    "standard_bboxes.references"
   ]
  },
  {
   "cell_type": "markdown",
   "metadata": {},
   "source": [
    "The following cell is mapping each bounding box to a bounding box (or a group of) that represents better them, among the defaults previously created."
   ]
  },
  {
   "cell_type": "code",
   "execution_count": 4,
   "metadata": {},
   "outputs": [
    {
     "name": "stderr",
     "output_type": "stream",
     "text": [
      "100%|██████████| 79113/79113 [05:45<00:00, 228.85it/s]\n"
     ]
    }
   ],
   "source": [
    "boats['bbox_ref'] = boats.progress_apply(standard_bboxes.match, axis=1)"
   ]
  },
  {
   "cell_type": "markdown",
   "metadata": {},
   "source": [
    "then, it is going to group each image and transforming each bounding box feature in a list. This is useful to create the training set used to fit models."
   ]
  },
  {
   "cell_type": "code",
   "execution_count": 5,
   "metadata": {},
   "outputs": [
    {
     "name": "stdout",
     "output_type": "stream",
     "text": [
      "CPU times: user 6.87 s, sys: 0 ns, total: 6.87 s\n",
      "Wall time: 6.88 s\n"
     ]
    },
    {
     "data": {
      "text/plain": [
       "(25478, 7)"
      ]
     },
     "execution_count": 5,
     "metadata": {},
     "output_type": "execute_result"
    }
   ],
   "source": [
    "%%time\n",
    "imgs = boats[['ImageID', 'Path']].drop_duplicates()\n",
    "imgs.set_index('ImageID', inplace=True)\n",
    "\n",
    "for c in ['cx', 'cy', 'w', 'h', 'bbox_ref']:\n",
    "    imgs = imgs.join(boats.groupby('ImageID')[c].apply(list))\n",
    "\n",
    "imgs.reset_index(inplace=True)\n",
    "imgs.shape"
   ]
  },
  {
   "cell_type": "markdown",
   "metadata": {},
   "source": [
    "At this point, we are creating the target dataset\n",
    "\n",
    "applying the transformations explain in page 5 of the [ssd paper](https://arxiv.org/pdf/1512.02325.pdf)"
   ]
  },
  {
   "cell_type": "code",
   "execution_count": 6,
   "metadata": {},
   "outputs": [
    {
     "data": {
      "text/plain": [
       "(25478, 8732, 6)"
      ]
     },
     "execution_count": 6,
     "metadata": {},
     "output_type": "execute_result"
    }
   ],
   "source": [
    "# This 6 is because the output of the model for each bbox found is 6: 2 classes + (cx, cy, w, h)\n",
    "target = np.zeros((imgs.shape[0],\n",
    "                   standard_bboxes.references.shape[0],\n",
    "                   6),\n",
    "                  dtype=np.float32)\n",
    "target[:][:] = [1,0,0,0,0,0]\n",
    "\n",
    "for i, r in imgs.iterrows():\n",
    "    for cx, cy, w, h, refs in zip(r.cx, r.cy, r.w, r.h, r.bbox_ref):\n",
    "        for id_ref in refs:\n",
    "            cx_d, cy_d, w_d, h_d = standard_bboxes.references.loc[id_ref]\n",
    "            \n",
    "            g_hat_cx = (cx - cx_d) / w_d\n",
    "            g_hat_cy = (cy - cy_d) / h_d\n",
    "            g_hat_w = np.log(w/w_d)\n",
    "            g_hat_h = np.log(h/h_d)\n",
    "            \n",
    "            target[i][int(id_ref)] = [0, 1, g_hat_cx, g_hat_cy, g_hat_w, g_hat_h]\n",
    "        \n",
    "target.shape"
   ]
  },
  {
   "cell_type": "markdown",
   "metadata": {},
   "source": [
    "### Hdf5"
   ]
  },
  {
   "cell_type": "code",
   "execution_count": 7,
   "metadata": {},
   "outputs": [],
   "source": [
    "filepath = os.path.join(content.DATAPATH, \"MODEL\", \"boats_300_vgg.h5\")"
   ]
  },
  {
   "cell_type": "code",
   "execution_count": 8,
   "metadata": {},
   "outputs": [],
   "source": [
    "imgs.to_hdf(filepath, key='X', mode='w')\n",
    "\n",
    "with h5py.File(filepath, 'a') as f:\n",
    "    f.create_dataset('y', data=target, dtype=np.float16)"
   ]
  },
  {
   "cell_type": "markdown",
   "metadata": {},
   "source": [
    "#### Reading"
   ]
  },
  {
   "cell_type": "code",
   "execution_count": 9,
   "metadata": {},
   "outputs": [],
   "source": [
    "boats = pd.read_hdf(filepath, 'X', mode='r')"
   ]
  },
  {
   "cell_type": "code",
   "execution_count": 10,
   "metadata": {},
   "outputs": [
    {
     "data": {
      "text/plain": [
       "(25478, 8732, 6)"
      ]
     },
     "execution_count": 10,
     "metadata": {},
     "output_type": "execute_result"
    }
   ],
   "source": [
    "with h5py.File(filepath, 'r') as f:\n",
    "    dset = f['y'][:]\n",
    "dset.shape"
   ]
  },
  {
   "cell_type": "code",
   "execution_count": 11,
   "metadata": {},
   "outputs": [
    {
     "data": {
      "text/html": [
       "<div>\n",
       "<style scoped>\n",
       "    .dataframe tbody tr th:only-of-type {\n",
       "        vertical-align: middle;\n",
       "    }\n",
       "\n",
       "    .dataframe tbody tr th {\n",
       "        vertical-align: top;\n",
       "    }\n",
       "\n",
       "    .dataframe thead th {\n",
       "        text-align: right;\n",
       "    }\n",
       "</style>\n",
       "<table border=\"1\" class=\"dataframe\">\n",
       "  <thead>\n",
       "    <tr style=\"text-align: right;\">\n",
       "      <th></th>\n",
       "      <th>ImageID</th>\n",
       "      <th>Path</th>\n",
       "      <th>cx</th>\n",
       "      <th>cy</th>\n",
       "      <th>w</th>\n",
       "      <th>h</th>\n",
       "      <th>bbox_ref</th>\n",
       "    </tr>\n",
       "  </thead>\n",
       "  <tbody>\n",
       "    <tr>\n",
       "      <th>0</th>\n",
       "      <td>00001bc2c4027449</td>\n",
       "      <td>data/TRAIN/train_0/00001bc2c4027449.jpg</td>\n",
       "      <td>[0.51625]</td>\n",
       "      <td>[0.5216665]</td>\n",
       "      <td>[0.4975]</td>\n",
       "      <td>[0.561667]</td>\n",
       "      <td>[[]]</td>\n",
       "    </tr>\n",
       "    <tr>\n",
       "      <th>1</th>\n",
       "      <td>0000c035a08c3770</td>\n",
       "      <td>data/TRAIN/train_0/0000c035a08c3770.jpg</td>\n",
       "      <td>[0.498124]</td>\n",
       "      <td>[0.48625]</td>\n",
       "      <td>[0.996248]</td>\n",
       "      <td>[0.9725]</td>\n",
       "      <td>[[8731]]</td>\n",
       "    </tr>\n",
       "  </tbody>\n",
       "</table>\n",
       "</div>"
      ],
      "text/plain": [
       "            ImageID                                     Path          cx           cy           w           h  bbox_ref\n",
       "0  00001bc2c4027449  data/TRAIN/train_0/00001bc2c4027449.jpg   [0.51625]  [0.5216665]    [0.4975]  [0.561667]      [[]]\n",
       "1  0000c035a08c3770  data/TRAIN/train_0/0000c035a08c3770.jpg  [0.498124]    [0.48625]  [0.996248]    [0.9725]  [[8731]]"
      ]
     },
     "execution_count": 11,
     "metadata": {},
     "output_type": "execute_result"
    }
   ],
   "source": [
    "boats.head(2)"
   ]
  },
  {
   "cell_type": "code",
   "execution_count": 12,
   "metadata": {},
   "outputs": [
    {
     "data": {
      "text/plain": [
       "cx    0.986842\n",
       "cy    0.776316\n",
       "w     0.005263\n",
       "h     0.005263\n",
       "Name: 5740, dtype: float64"
      ]
     },
     "execution_count": 12,
     "metadata": {},
     "output_type": "execute_result"
    }
   ],
   "source": [
    "standard_bboxes.references.iloc[5740]"
   ]
  },
  {
   "cell_type": "code",
   "execution_count": 15,
   "metadata": {},
   "outputs": [
    {
     "data": {
      "text/plain": [
       "array([ 0.      ,  1.      , -0.001939, -0.01421 ,  0.02931 ,  0.005184],\n",
       "      dtype=float16)"
      ]
     },
     "execution_count": 15,
     "metadata": {},
     "output_type": "execute_result"
    }
   ],
   "source": [
    "dset[1][8731]"
   ]
  }
 ],
 "metadata": {
  "kernelspec": {
   "display_name": "Python 3",
   "language": "python",
   "name": "python3"
  },
  "language_info": {
   "codemirror_mode": {
    "name": "ipython",
    "version": 3
   },
   "file_extension": ".py",
   "mimetype": "text/x-python",
   "name": "python",
   "nbconvert_exporter": "python",
   "pygments_lexer": "ipython3",
   "version": "3.7.3"
  },
  "toc": {
   "base_numbering": 1,
   "nav_menu": {},
   "number_sections": false,
   "sideBar": true,
   "skip_h1_title": false,
   "title_cell": "Table of Contents",
   "title_sidebar": "Contents",
   "toc_cell": false,
   "toc_position": {
    "height": "calc(100% - 180px)",
    "left": "10px",
    "top": "150px",
    "width": "270px"
   },
   "toc_section_display": true,
   "toc_window_display": true
  }
 },
 "nbformat": 4,
 "nbformat_minor": 2
}
