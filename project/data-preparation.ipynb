{
 "cells": [
  {
   "cell_type": "code",
   "execution_count": 1,
   "metadata": {
    "run_control": {
     "marked": false
    }
   },
   "outputs": [],
   "source": [
    "# imports\n",
    "import os\n",
    "os.sys.path.append(os.path.abspath(\"..\"))\n",
    "\n",
    "import numpy as np\n",
    "\n",
    "import h5py\n",
    "\n",
    "import project.download_content as content\n",
    "from project.utils import data\n",
    "\n",
    "from tqdm import tqdm\n",
    "\n",
    "import pickle\n",
    "\n",
    "tqdm.pandas()"
   ]
  },
  {
   "cell_type": "markdown",
   "metadata": {},
   "source": [
    "This notebook is about create the environment to start to train models."
   ]
  },
  {
   "cell_type": "markdown",
   "metadata": {},
   "source": [
    "## About boats?!"
   ]
  },
  {
   "cell_type": "markdown",
   "metadata": {},
   "source": [
    "To early exploration in modeling I chosen to work with boats bbox. They are the 30th most relevant class, this means that they are big enough to be isolated, but they are small enough to start a model exploration (stress cost functions, architectures, so on)."
   ]
  },
  {
   "cell_type": "code",
   "execution_count": 2,
   "metadata": {},
   "outputs": [],
   "source": [
    "all_data = data.all_train()"
   ]
  },
  {
   "cell_type": "code",
   "execution_count": 3,
   "metadata": {},
   "outputs": [
    {
     "name": "stdout",
     "output_type": "stream",
     "text": [
      "CPU times: user 59.9 s, sys: 3.65 s, total: 1min 3s\n",
      "Wall time: 1min 3s\n"
     ]
    }
   ],
   "source": [
    "%%time\n",
    "from sklearn.preprocessing import OneHotEncoder\n",
    "\n",
    "ohc = OneHotEncoder(sparse=False, dtype=np.bool)\n",
    "\n",
    "labels = ohc.fit_transform(all_data[['LabelSemantic']])\n",
    "\n",
    "all_data = all_data.join(pd.DataFrame(labels, \n",
    "                                      columns=[c[3:] for c in ohc.get_feature_names()]))"
   ]
  },
  {
   "cell_type": "markdown",
   "metadata": {},
   "source": [
    "saving the state of one hot encoding model preprocessor to re-use in train and test after"
   ]
  },
  {
   "cell_type": "code",
   "execution_count": 4,
   "metadata": {
    "run_control": {
     "marked": false
    }
   },
   "outputs": [],
   "source": [
    "modelpath = os.path.join(content.DATAPATH, \"MODEL\", \"ohc.pkl\")\n",
    "\n",
    "with open(modelpath, 'wb') as f:\n",
    "    pickle.dump(ohc, f)"
   ]
  },
  {
   "cell_type": "markdown",
   "metadata": {},
   "source": [
    "choosing five initial classes to start modeling"
   ]
  },
  {
   "cell_type": "code",
   "execution_count": 5,
   "metadata": {},
   "outputs": [
    {
     "data": {
      "text/plain": [
       "(241462, 16)"
      ]
     },
     "metadata": {},
     "output_type": "display_data"
    },
    {
     "data": {
      "text/html": [
       "<div>\n",
       "<style scoped>\n",
       "    .dataframe tbody tr th:only-of-type {\n",
       "        vertical-align: middle;\n",
       "    }\n",
       "\n",
       "    .dataframe tbody tr th {\n",
       "        vertical-align: top;\n",
       "    }\n",
       "\n",
       "    .dataframe thead th {\n",
       "        text-align: right;\n",
       "    }\n",
       "</style>\n",
       "<table border=\"1\" class=\"dataframe\">\n",
       "  <thead>\n",
       "    <tr style=\"text-align: right;\">\n",
       "      <th></th>\n",
       "      <th>ImageID</th>\n",
       "      <th>LabelName</th>\n",
       "      <th>IsOccluded</th>\n",
       "      <th>IsTruncated</th>\n",
       "      <th>IsGroupOf</th>\n",
       "      <th>IsDepiction</th>\n",
       "      <th>IsInside</th>\n",
       "      <th>Path</th>\n",
       "      <th>LabelSemantic</th>\n",
       "      <th>cx</th>\n",
       "      <th>cy</th>\n",
       "      <th>w</th>\n",
       "      <th>h</th>\n",
       "      <th>boat</th>\n",
       "      <th>land_vehicle</th>\n",
       "      <th>skyscraper</th>\n",
       "    </tr>\n",
       "  </thead>\n",
       "  <tbody>\n",
       "    <tr>\n",
       "      <th>78</th>\n",
       "      <td>00001bc2c4027449</td>\n",
       "      <td>/m/019jd</td>\n",
       "      <td>1</td>\n",
       "      <td>0</td>\n",
       "      <td>0</td>\n",
       "      <td>0</td>\n",
       "      <td>0</td>\n",
       "      <td>data/TRAIN/train_0/00001bc2c4027449.jpg</td>\n",
       "      <td>boat</td>\n",
       "      <td>0.516250</td>\n",
       "      <td>0.521667</td>\n",
       "      <td>0.497500</td>\n",
       "      <td>0.561667</td>\n",
       "      <td>True</td>\n",
       "      <td>False</td>\n",
       "      <td>False</td>\n",
       "    </tr>\n",
       "    <tr>\n",
       "      <th>212</th>\n",
       "      <td>0000339d0372e7e6</td>\n",
       "      <td>/m/079cl</td>\n",
       "      <td>1</td>\n",
       "      <td>0</td>\n",
       "      <td>0</td>\n",
       "      <td>0</td>\n",
       "      <td>0</td>\n",
       "      <td>data/TRAIN/train_0/0000339d0372e7e6.jpg</td>\n",
       "      <td>skyscraper</td>\n",
       "      <td>0.382188</td>\n",
       "      <td>0.687675</td>\n",
       "      <td>0.056875</td>\n",
       "      <td>0.126050</td>\n",
       "      <td>False</td>\n",
       "      <td>False</td>\n",
       "      <td>True</td>\n",
       "    </tr>\n",
       "    <tr>\n",
       "      <th>213</th>\n",
       "      <td>0000339d0372e7e6</td>\n",
       "      <td>/m/079cl</td>\n",
       "      <td>1</td>\n",
       "      <td>0</td>\n",
       "      <td>0</td>\n",
       "      <td>0</td>\n",
       "      <td>0</td>\n",
       "      <td>data/TRAIN/train_0/0000339d0372e7e6.jpg</td>\n",
       "      <td>skyscraper</td>\n",
       "      <td>0.382188</td>\n",
       "      <td>0.683474</td>\n",
       "      <td>0.029375</td>\n",
       "      <td>0.102707</td>\n",
       "      <td>False</td>\n",
       "      <td>False</td>\n",
       "      <td>True</td>\n",
       "    </tr>\n",
       "    <tr>\n",
       "      <th>214</th>\n",
       "      <td>0000339d0372e7e6</td>\n",
       "      <td>/m/079cl</td>\n",
       "      <td>1</td>\n",
       "      <td>1</td>\n",
       "      <td>1</td>\n",
       "      <td>0</td>\n",
       "      <td>0</td>\n",
       "      <td>data/TRAIN/train_0/0000339d0372e7e6.jpg</td>\n",
       "      <td>skyscraper</td>\n",
       "      <td>0.519062</td>\n",
       "      <td>0.782446</td>\n",
       "      <td>0.174375</td>\n",
       "      <td>0.330532</td>\n",
       "      <td>False</td>\n",
       "      <td>False</td>\n",
       "      <td>True</td>\n",
       "    </tr>\n",
       "    <tr>\n",
       "      <th>215</th>\n",
       "      <td>0000339d0372e7e6</td>\n",
       "      <td>/m/079cl</td>\n",
       "      <td>1</td>\n",
       "      <td>0</td>\n",
       "      <td>0</td>\n",
       "      <td>0</td>\n",
       "      <td>0</td>\n",
       "      <td>data/TRAIN/train_0/0000339d0372e7e6.jpg</td>\n",
       "      <td>skyscraper</td>\n",
       "      <td>0.516563</td>\n",
       "      <td>0.790850</td>\n",
       "      <td>0.079375</td>\n",
       "      <td>0.229692</td>\n",
       "      <td>False</td>\n",
       "      <td>False</td>\n",
       "      <td>True</td>\n",
       "    </tr>\n",
       "  </tbody>\n",
       "</table>\n",
       "</div>"
      ],
      "text/plain": [
       "              ImageID LabelName  IsOccluded  IsTruncated  IsGroupOf  IsDepiction  IsInside                                     Path LabelSemantic        cx        cy         w         h   boat  land_vehicle  skyscraper\n",
       "78   00001bc2c4027449  /m/019jd           1            0          0            0         0  data/TRAIN/train_0/00001bc2c4027449.jpg          boat  0.516250  0.521667  0.497500  0.561667   True         False       False\n",
       "212  0000339d0372e7e6  /m/079cl           1            0          0            0         0  data/TRAIN/train_0/0000339d0372e7e6.jpg    skyscraper  0.382188  0.687675  0.056875  0.126050  False         False        True\n",
       "213  0000339d0372e7e6  /m/079cl           1            0          0            0         0  data/TRAIN/train_0/0000339d0372e7e6.jpg    skyscraper  0.382188  0.683474  0.029375  0.102707  False         False        True\n",
       "214  0000339d0372e7e6  /m/079cl           1            1          1            0         0  data/TRAIN/train_0/0000339d0372e7e6.jpg    skyscraper  0.519062  0.782446  0.174375  0.330532  False         False        True\n",
       "215  0000339d0372e7e6  /m/079cl           1            0          0            0         0  data/TRAIN/train_0/0000339d0372e7e6.jpg    skyscraper  0.516563  0.790850  0.079375  0.229692  False         False        True"
      ]
     },
     "execution_count": 5,
     "metadata": {},
     "output_type": "execute_result"
    }
   ],
   "source": [
    "cols = ['boat', 'land_vehicle', 'skyscraper']\n",
    "part_data = (all_data.query(f\"LabelSemantic in {cols}\")\n",
    "                     [['ImageID',\n",
    "                       'LabelName',\n",
    "                       'IsOccluded',\n",
    "                       'IsTruncated',\n",
    "                       'IsGroupOf',\n",
    "                       'IsDepiction',\n",
    "                       'IsInside',\n",
    "                       'Path',\n",
    "                       'LabelSemantic',\n",
    "                       'cx',\n",
    "                       'cy',\n",
    "                       'w',\n",
    "                       'h',\n",
    "                       'boat',\n",
    "                       'land_vehicle',\n",
    "                       'skyscraper']])\n",
    "display(part_data.shape)\n",
    "part_data.head(5)"
   ]
  },
  {
   "cell_type": "markdown",
   "metadata": {},
   "source": [
    "creating the default bounding boxes:"
   ]
  },
  {
   "cell_type": "code",
   "execution_count": 6,
   "metadata": {},
   "outputs": [
    {
     "data": {
      "text/html": [
       "<div>\n",
       "<style scoped>\n",
       "    .dataframe tbody tr th:only-of-type {\n",
       "        vertical-align: middle;\n",
       "    }\n",
       "\n",
       "    .dataframe tbody tr th {\n",
       "        vertical-align: top;\n",
       "    }\n",
       "\n",
       "    .dataframe thead th {\n",
       "        text-align: right;\n",
       "    }\n",
       "</style>\n",
       "<table border=\"1\" class=\"dataframe\">\n",
       "  <thead>\n",
       "    <tr style=\"text-align: right;\">\n",
       "      <th></th>\n",
       "      <th>cx</th>\n",
       "      <th>cy</th>\n",
       "      <th>w</th>\n",
       "      <th>h</th>\n",
       "    </tr>\n",
       "  </thead>\n",
       "  <tbody>\n",
       "    <tr>\n",
       "      <th>0</th>\n",
       "      <td>0.013158</td>\n",
       "      <td>0.013158</td>\n",
       "      <td>0.005263</td>\n",
       "      <td>0.005263</td>\n",
       "    </tr>\n",
       "    <tr>\n",
       "      <th>1</th>\n",
       "      <td>0.013158</td>\n",
       "      <td>0.013158</td>\n",
       "      <td>0.003722</td>\n",
       "      <td>0.007443</td>\n",
       "    </tr>\n",
       "    <tr>\n",
       "      <th>2</th>\n",
       "      <td>0.013158</td>\n",
       "      <td>0.013158</td>\n",
       "      <td>0.007443</td>\n",
       "      <td>0.003722</td>\n",
       "    </tr>\n",
       "    <tr>\n",
       "      <th>3</th>\n",
       "      <td>0.013158</td>\n",
       "      <td>0.013158</td>\n",
       "      <td>0.006862</td>\n",
       "      <td>0.006862</td>\n",
       "    </tr>\n",
       "    <tr>\n",
       "      <th>4</th>\n",
       "      <td>0.013158</td>\n",
       "      <td>0.039474</td>\n",
       "      <td>0.005263</td>\n",
       "      <td>0.005263</td>\n",
       "    </tr>\n",
       "    <tr>\n",
       "      <th>...</th>\n",
       "      <td>...</td>\n",
       "      <td>...</td>\n",
       "      <td>...</td>\n",
       "      <td>...</td>\n",
       "    </tr>\n",
       "    <tr>\n",
       "      <th>8727</th>\n",
       "      <td>0.833333</td>\n",
       "      <td>0.833333</td>\n",
       "      <td>0.275681</td>\n",
       "      <td>0.275681</td>\n",
       "    </tr>\n",
       "    <tr>\n",
       "      <th>8728</th>\n",
       "      <td>0.500000</td>\n",
       "      <td>0.500000</td>\n",
       "      <td>0.900000</td>\n",
       "      <td>0.900000</td>\n",
       "    </tr>\n",
       "    <tr>\n",
       "      <th>8729</th>\n",
       "      <td>0.500000</td>\n",
       "      <td>0.500000</td>\n",
       "      <td>0.636396</td>\n",
       "      <td>1.272792</td>\n",
       "    </tr>\n",
       "    <tr>\n",
       "      <th>8730</th>\n",
       "      <td>0.500000</td>\n",
       "      <td>0.500000</td>\n",
       "      <td>1.272792</td>\n",
       "      <td>0.636396</td>\n",
       "    </tr>\n",
       "    <tr>\n",
       "      <th>8731</th>\n",
       "      <td>0.500000</td>\n",
       "      <td>0.500000</td>\n",
       "      <td>0.967471</td>\n",
       "      <td>0.967471</td>\n",
       "    </tr>\n",
       "  </tbody>\n",
       "</table>\n",
       "<p>8732 rows × 4 columns</p>\n",
       "</div>"
      ],
      "text/plain": [
       "            cx        cy         w         h\n",
       "0     0.013158  0.013158  0.005263  0.005263\n",
       "1     0.013158  0.013158  0.003722  0.007443\n",
       "2     0.013158  0.013158  0.007443  0.003722\n",
       "3     0.013158  0.013158  0.006862  0.006862\n",
       "4     0.013158  0.039474  0.005263  0.005263\n",
       "...        ...       ...       ...       ...\n",
       "8727  0.833333  0.833333  0.275681  0.275681\n",
       "8728  0.500000  0.500000  0.900000  0.900000\n",
       "8729  0.500000  0.500000  0.636396  1.272792\n",
       "8730  0.500000  0.500000  1.272792  0.636396\n",
       "8731  0.500000  0.500000  0.967471  0.967471\n",
       "\n",
       "[8732 rows x 4 columns]"
      ]
     },
     "execution_count": 6,
     "metadata": {},
     "output_type": "execute_result"
    }
   ],
   "source": [
    "standard_bboxes = data.StandardBoudingBoxes(feature_map_sizes=[38, 19, 10, 5, 3, 1],\n",
    "                                            ratios_per_layer=[[1, 1/2, 2], \n",
    "                                                              [1, 1/2, 1/3, 2, 3],\n",
    "                                                              [1, 1/2, 1/3, 2, 3],\n",
    "                                                              [1, 1/2, 1/3, 2, 3],\n",
    "                                                              [1, 1/2, 2],\n",
    "                                                              [1, 1/2, 2]])\n",
    "\n",
    "standard_bboxes.references"
   ]
  },
  {
   "cell_type": "markdown",
   "metadata": {},
   "source": [
    "The following cell is mapping each bounding box to a bounding box (or a group of) that represents better them, among the defaults previously created."
   ]
  },
  {
   "cell_type": "code",
   "execution_count": 7,
   "metadata": {},
   "outputs": [
    {
     "name": "stderr",
     "output_type": "stream",
     "text": [
      "100%|██████████| 241462/241462 [17:45<00:00, 226.67it/s]\n"
     ]
    }
   ],
   "source": [
    "part_data['bbox_ref'] = part_data.progress_apply(standard_bboxes.match, axis=1)"
   ]
  },
  {
   "cell_type": "markdown",
   "metadata": {},
   "source": [
    "then, it is going to group each image and transforming each bounding box feature in a list. This is useful to create the training set used to fit models."
   ]
  },
  {
   "cell_type": "code",
   "execution_count": 13,
   "metadata": {},
   "outputs": [
    {
     "name": "stdout",
     "output_type": "stream",
     "text": [
      "CPU times: user 30.9 s, sys: 81.2 ms, total: 31 s\n",
      "Wall time: 31 s\n"
     ]
    },
    {
     "data": {
      "text/plain": [
       "(74924, 10)"
      ]
     },
     "execution_count": 13,
     "metadata": {},
     "output_type": "execute_result"
    }
   ],
   "source": [
    "%%time\n",
    "imgs = part_data[['ImageID', 'Path']].drop_duplicates()\n",
    "imgs.set_index('ImageID', inplace=True)\n",
    "\n",
    "for c in ['cx', 'cy', 'w', 'h', 'bbox_ref'] + cols:\n",
    "    imgs = imgs.join(part_data.groupby('ImageID')[c].apply(list))\n",
    "\n",
    "imgs.reset_index(inplace=True)\n",
    "imgs.shape"
   ]
  },
  {
   "cell_type": "markdown",
   "metadata": {},
   "source": [
    "At this point, we are creating the target dataset\n",
    "\n",
    "applying the transformations explain in page 5 of the [ssd paper](https://arxiv.org/pdf/1512.02325.pdf)"
   ]
  },
  {
   "cell_type": "code",
   "execution_count": 60,
   "metadata": {},
   "outputs": [
    {
     "data": {
      "text/plain": [
       "(74924, 8732, 8)"
      ]
     },
     "execution_count": 60,
     "metadata": {},
     "output_type": "execute_result"
    }
   ],
   "source": [
    "# This 6 is because the output of the model for each bbox found is 6: 2 classes + (cx, cy, w, h)\n",
    "target = np.zeros((imgs.shape[0],\n",
    "                   standard_bboxes.references.shape[0],\n",
    "                   (1 + len(cols) + 4)),\n",
    "                  dtype=np.float32)\n",
    "target[:][:] = [1] + [0] * len(cols) + [0,0,0,0]\n",
    "\n",
    "for i, row in imgs[:10].iterrows():\n",
    "    for cx, cy, w, h, refs, *labels in zip(row.cx, row.cy, row.w, row.h, row.bbox_ref, *row[7:]):\n",
    "        for id_ref in refs:\n",
    "#             import ipdb; ipdb.set_trace()\n",
    "            cx_d, cy_d, w_d, h_d = standard_bboxes.references.loc[id_ref]\n",
    "            \n",
    "            g_hat_cx = (cx - cx_d) / w_d\n",
    "            g_hat_cy = (cy - cy_d) / h_d\n",
    "            g_hat_w = np.log(w/w_d)\n",
    "            g_hat_h = np.log(h/h_d)\n",
    "            \n",
    "            target[i][int(id_ref)] = [0] + labels + [g_hat_cx, g_hat_cy, g_hat_w, g_hat_h]\n",
    "        \n",
    "target.shape"
   ]
  },
  {
   "cell_type": "markdown",
   "metadata": {},
   "source": [
    "### Hdf5"
   ]
  },
  {
   "cell_type": "code",
   "execution_count": 61,
   "metadata": {},
   "outputs": [],
   "source": [
    "filepath = os.path.join(content.DATAPATH, \"MODEL\", \"part_data_300_vgg.h5\")"
   ]
  },
  {
   "cell_type": "code",
   "execution_count": 62,
   "metadata": {},
   "outputs": [],
   "source": [
    "imgs.to_hdf(filepath, key='X', mode='w')\n",
    "\n",
    "with h5py.File(filepath, 'a') as f:\n",
    "    f.create_dataset('y', data=target, dtype=np.float16)"
   ]
  },
  {
   "cell_type": "markdown",
   "metadata": {},
   "source": [
    "#### Reading"
   ]
  },
  {
   "cell_type": "code",
   "execution_count": 63,
   "metadata": {},
   "outputs": [],
   "source": [
    "part_data = pd.read_hdf(filepath, 'X', mode='r')"
   ]
  },
  {
   "cell_type": "code",
   "execution_count": 64,
   "metadata": {},
   "outputs": [
    {
     "data": {
      "text/plain": [
       "(74924, 8732, 8)"
      ]
     },
     "execution_count": 64,
     "metadata": {},
     "output_type": "execute_result"
    }
   ],
   "source": [
    "with h5py.File(filepath, 'r') as f:\n",
    "    dset = f['y'][:]\n",
    "dset.shape"
   ]
  },
  {
   "cell_type": "code",
   "execution_count": 67,
   "metadata": {},
   "outputs": [
    {
     "data": {
      "text/html": [
       "<div>\n",
       "<style scoped>\n",
       "    .dataframe tbody tr th:only-of-type {\n",
       "        vertical-align: middle;\n",
       "    }\n",
       "\n",
       "    .dataframe tbody tr th {\n",
       "        vertical-align: top;\n",
       "    }\n",
       "\n",
       "    .dataframe thead th {\n",
       "        text-align: right;\n",
       "    }\n",
       "</style>\n",
       "<table border=\"1\" class=\"dataframe\">\n",
       "  <thead>\n",
       "    <tr style=\"text-align: right;\">\n",
       "      <th></th>\n",
       "      <th>ImageID</th>\n",
       "      <th>Path</th>\n",
       "      <th>cx</th>\n",
       "      <th>cy</th>\n",
       "      <th>w</th>\n",
       "      <th>h</th>\n",
       "      <th>bbox_ref</th>\n",
       "      <th>boat</th>\n",
       "      <th>land_vehicle</th>\n",
       "      <th>skyscraper</th>\n",
       "    </tr>\n",
       "  </thead>\n",
       "  <tbody>\n",
       "    <tr>\n",
       "      <th>0</th>\n",
       "      <td>00001bc2c4027449</td>\n",
       "      <td>data/TRAIN/train_0/00001bc2c4027449.jpg</td>\n",
       "      <td>[0.51625]</td>\n",
       "      <td>[0.5216665]</td>\n",
       "      <td>[0.4975]</td>\n",
       "      <td>[0.561667]</td>\n",
       "      <td>[[]]</td>\n",
       "      <td>[True]</td>\n",
       "      <td>[False]</td>\n",
       "      <td>[False]</td>\n",
       "    </tr>\n",
       "    <tr>\n",
       "      <th>1</th>\n",
       "      <td>0000339d0372e7e6</td>\n",
       "      <td>data/TRAIN/train_0/0000339d0372e7e6.jpg</td>\n",
       "      <td>[0.3821875, 0.3821875, 0.5190625, 0.5165625, 0...</td>\n",
       "      <td>[0.687675, 0.6834735000000001, 0.7824460000000...</td>\n",
       "      <td>[0.056875000000000016, 0.02937499999999998, 0....</td>\n",
       "      <td>[0.12605, 0.102707, 0.33053200000000005, 0.229...</td>\n",
       "      <td>[[], [], [8713], [], [], [], [], []]</td>\n",
       "      <td>[False, False, False, False, False, False, Fal...</td>\n",
       "      <td>[False, False, False, False, False, False, Fal...</td>\n",
       "      <td>[True, True, True, True, True, True, True, True]</td>\n",
       "    </tr>\n",
       "  </tbody>\n",
       "</table>\n",
       "</div>"
      ],
      "text/plain": [
       "            ImageID                                     Path                                                 cx                                                 cy                                                  w                                                  h                              bbox_ref                                               boat                                       land_vehicle                                        skyscraper\n",
       "0  00001bc2c4027449  data/TRAIN/train_0/00001bc2c4027449.jpg                                          [0.51625]                                        [0.5216665]                                           [0.4975]                                         [0.561667]                                  [[]]                                             [True]                                            [False]                                           [False]\n",
       "1  0000339d0372e7e6  data/TRAIN/train_0/0000339d0372e7e6.jpg  [0.3821875, 0.3821875, 0.5190625, 0.5165625, 0...  [0.687675, 0.6834735000000001, 0.7824460000000...  [0.056875000000000016, 0.02937499999999998, 0....  [0.12605, 0.102707, 0.33053200000000005, 0.229...  [[], [], [8713], [], [], [], [], []]  [False, False, False, False, False, False, Fal...  [False, False, False, False, False, False, Fal...  [True, True, True, True, True, True, True, True]"
      ]
     },
     "execution_count": 67,
     "metadata": {},
     "output_type": "execute_result"
    }
   ],
   "source": [
    "part_data.head(2)"
   ]
  },
  {
   "cell_type": "code",
   "execution_count": 68,
   "metadata": {},
   "outputs": [
    {
     "data": {
      "text/plain": [
       "cx    0.500000\n",
       "cy    0.833333\n",
       "w     0.179134\n",
       "h     0.358267\n",
       "Name: 8713, dtype: float64"
      ]
     },
     "execution_count": 68,
     "metadata": {},
     "output_type": "execute_result"
    }
   ],
   "source": [
    "standard_bboxes.references.iloc[8713]"
   ]
  },
  {
   "cell_type": "code",
   "execution_count": 69,
   "metadata": {},
   "outputs": [
    {
     "data": {
      "text/plain": [
       "array([ 0.     ,  0.     ,  0.     ,  1.     ,  0.10645, -0.1421 ,\n",
       "       -0.02693, -0.08057], dtype=float16)"
      ]
     },
     "execution_count": 69,
     "metadata": {},
     "output_type": "execute_result"
    }
   ],
   "source": [
    "dset[1][8713]"
   ]
  }
 ],
 "metadata": {
  "kernelspec": {
   "display_name": "Python 3",
   "language": "python",
   "name": "python3"
  },
  "language_info": {
   "codemirror_mode": {
    "name": "ipython",
    "version": 3
   },
   "file_extension": ".py",
   "mimetype": "text/x-python",
   "name": "python",
   "nbconvert_exporter": "python",
   "pygments_lexer": "ipython3",
   "version": "3.7.3"
  },
  "toc": {
   "base_numbering": 1,
   "nav_menu": {},
   "number_sections": false,
   "sideBar": true,
   "skip_h1_title": false,
   "title_cell": "Table of Contents",
   "title_sidebar": "Contents",
   "toc_cell": false,
   "toc_position": {
    "height": "calc(100% - 180px)",
    "left": "10px",
    "top": "150px",
    "width": "270px"
   },
   "toc_section_display": true,
   "toc_window_display": false
  }
 },
 "nbformat": 4,
 "nbformat_minor": 2
}
