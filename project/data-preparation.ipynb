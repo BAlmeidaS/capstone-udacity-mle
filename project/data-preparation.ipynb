{
 "cells": [
  {
   "cell_type": "code",
   "execution_count": 1,
   "metadata": {
    "run_control": {
     "marked": false
    }
   },
   "outputs": [],
   "source": [
    "# imports\n",
    "import os\n",
    "os.sys.path.append(os.path.abspath(\"..\"))\n",
    "\n",
    "import numpy as np\n",
    "import pandas as pd\n",
    "\n",
    "import h5py\n",
    "\n",
    "import project.download_content as content\n",
    "from project.utils import data\n",
    "\n",
    "from tqdm import tqdm\n",
    "\n",
    "import pickle\n",
    "\n",
    "modelpath = os.path.join(content.DATAPATH, \"MODEL\")\n",
    "\n",
    "tqdm.pandas()"
   ]
  },
  {
   "cell_type": "markdown",
   "metadata": {},
   "source": [
    "This notebook is about create the environment to start to train models."
   ]
  },
  {
   "cell_type": "markdown",
   "metadata": {},
   "source": [
    "## About boats?!"
   ]
  },
  {
   "cell_type": "markdown",
   "metadata": {},
   "source": [
    "To early exploration in modeling I chosen to work with boats bbox. They are the 30th most relevant class, this means that they are big enough to be isolated, but they are small enough to start a model exploration (stress cost functions, architectures, so on)."
   ]
  },
  {
   "cell_type": "code",
   "execution_count": 2,
   "metadata": {},
   "outputs": [
    {
     "data": {
      "text/html": [
       "<div>\n",
       "<style scoped>\n",
       "    .dataframe tbody tr th:only-of-type {\n",
       "        vertical-align: middle;\n",
       "    }\n",
       "\n",
       "    .dataframe tbody tr th {\n",
       "        vertical-align: top;\n",
       "    }\n",
       "\n",
       "    .dataframe thead th {\n",
       "        text-align: right;\n",
       "    }\n",
       "</style>\n",
       "<table border=\"1\" class=\"dataframe\">\n",
       "  <thead>\n",
       "    <tr style=\"text-align: right;\">\n",
       "      <th></th>\n",
       "      <th>ImageID</th>\n",
       "      <th>LabelName</th>\n",
       "      <th>IsOccluded</th>\n",
       "      <th>IsTruncated</th>\n",
       "      <th>IsGroupOf</th>\n",
       "      <th>IsDepiction</th>\n",
       "      <th>IsInside</th>\n",
       "      <th>Path</th>\n",
       "      <th>LabelSemantic</th>\n",
       "      <th>cx</th>\n",
       "      <th>cy</th>\n",
       "      <th>w</th>\n",
       "      <th>h</th>\n",
       "      <th>boat</th>\n",
       "      <th>land_vehicle</th>\n",
       "      <th>skyscraper</th>\n",
       "      <th>bbox_ref</th>\n",
       "      <th>bbox_count</th>\n",
       "    </tr>\n",
       "  </thead>\n",
       "  <tbody>\n",
       "    <tr>\n",
       "      <th>0</th>\n",
       "      <td>00001bc2c4027449</td>\n",
       "      <td>/m/019jd</td>\n",
       "      <td>1</td>\n",
       "      <td>0</td>\n",
       "      <td>0</td>\n",
       "      <td>0</td>\n",
       "      <td>0</td>\n",
       "      <td>data/TRAIN/train_0/00001bc2c4027449.jpg</td>\n",
       "      <td>boat</td>\n",
       "      <td>0.516250</td>\n",
       "      <td>0.521667</td>\n",
       "      <td>0.497500</td>\n",
       "      <td>0.561667</td>\n",
       "      <td>True</td>\n",
       "      <td>False</td>\n",
       "      <td>False</td>\n",
       "      <td>[]</td>\n",
       "      <td>0</td>\n",
       "    </tr>\n",
       "    <tr>\n",
       "      <th>1</th>\n",
       "      <td>0000339d0372e7e6</td>\n",
       "      <td>/m/079cl</td>\n",
       "      <td>1</td>\n",
       "      <td>0</td>\n",
       "      <td>0</td>\n",
       "      <td>0</td>\n",
       "      <td>0</td>\n",
       "      <td>data/TRAIN/train_0/0000339d0372e7e6.jpg</td>\n",
       "      <td>skyscraper</td>\n",
       "      <td>0.382188</td>\n",
       "      <td>0.687675</td>\n",
       "      <td>0.056875</td>\n",
       "      <td>0.126050</td>\n",
       "      <td>False</td>\n",
       "      <td>False</td>\n",
       "      <td>True</td>\n",
       "      <td>[]</td>\n",
       "      <td>0</td>\n",
       "    </tr>\n",
       "    <tr>\n",
       "      <th>2</th>\n",
       "      <td>0000339d0372e7e6</td>\n",
       "      <td>/m/079cl</td>\n",
       "      <td>1</td>\n",
       "      <td>0</td>\n",
       "      <td>0</td>\n",
       "      <td>0</td>\n",
       "      <td>0</td>\n",
       "      <td>data/TRAIN/train_0/0000339d0372e7e6.jpg</td>\n",
       "      <td>skyscraper</td>\n",
       "      <td>0.382188</td>\n",
       "      <td>0.683474</td>\n",
       "      <td>0.029375</td>\n",
       "      <td>0.102707</td>\n",
       "      <td>False</td>\n",
       "      <td>False</td>\n",
       "      <td>True</td>\n",
       "      <td>[]</td>\n",
       "      <td>0</td>\n",
       "    </tr>\n",
       "    <tr>\n",
       "      <th>3</th>\n",
       "      <td>0000339d0372e7e6</td>\n",
       "      <td>/m/079cl</td>\n",
       "      <td>1</td>\n",
       "      <td>1</td>\n",
       "      <td>1</td>\n",
       "      <td>0</td>\n",
       "      <td>0</td>\n",
       "      <td>data/TRAIN/train_0/0000339d0372e7e6.jpg</td>\n",
       "      <td>skyscraper</td>\n",
       "      <td>0.519062</td>\n",
       "      <td>0.782446</td>\n",
       "      <td>0.174375</td>\n",
       "      <td>0.330532</td>\n",
       "      <td>False</td>\n",
       "      <td>False</td>\n",
       "      <td>True</td>\n",
       "      <td>[8712, 8713]</td>\n",
       "      <td>2</td>\n",
       "    </tr>\n",
       "    <tr>\n",
       "      <th>4</th>\n",
       "      <td>0000339d0372e7e6</td>\n",
       "      <td>/m/079cl</td>\n",
       "      <td>1</td>\n",
       "      <td>0</td>\n",
       "      <td>0</td>\n",
       "      <td>0</td>\n",
       "      <td>0</td>\n",
       "      <td>data/TRAIN/train_0/0000339d0372e7e6.jpg</td>\n",
       "      <td>skyscraper</td>\n",
       "      <td>0.516563</td>\n",
       "      <td>0.790850</td>\n",
       "      <td>0.079375</td>\n",
       "      <td>0.229692</td>\n",
       "      <td>False</td>\n",
       "      <td>False</td>\n",
       "      <td>True</td>\n",
       "      <td>[]</td>\n",
       "      <td>0</td>\n",
       "    </tr>\n",
       "  </tbody>\n",
       "</table>\n",
       "</div>"
      ],
      "text/plain": [
       "            ImageID LabelName  IsOccluded  IsTruncated  IsGroupOf  IsDepiction  IsInside                                     Path LabelSemantic        cx        cy         w         h   boat  land_vehicle  skyscraper      bbox_ref  bbox_count\n",
       "0  00001bc2c4027449  /m/019jd           1            0          0            0         0  data/TRAIN/train_0/00001bc2c4027449.jpg          boat  0.516250  0.521667  0.497500  0.561667   True         False       False            []           0\n",
       "1  0000339d0372e7e6  /m/079cl           1            0          0            0         0  data/TRAIN/train_0/0000339d0372e7e6.jpg    skyscraper  0.382188  0.687675  0.056875  0.126050  False         False        True            []           0\n",
       "2  0000339d0372e7e6  /m/079cl           1            0          0            0         0  data/TRAIN/train_0/0000339d0372e7e6.jpg    skyscraper  0.382188  0.683474  0.029375  0.102707  False         False        True            []           0\n",
       "3  0000339d0372e7e6  /m/079cl           1            1          1            0         0  data/TRAIN/train_0/0000339d0372e7e6.jpg    skyscraper  0.519062  0.782446  0.174375  0.330532  False         False        True  [8712, 8713]           2\n",
       "4  0000339d0372e7e6  /m/079cl           1            0          0            0         0  data/TRAIN/train_0/0000339d0372e7e6.jpg    skyscraper  0.516563  0.790850  0.079375  0.229692  False         False        True            []           0"
      ]
     },
     "execution_count": 2,
     "metadata": {},
     "output_type": "execute_result"
    }
   ],
   "source": [
    "#reading all train csvs\n",
    "all_train = pd.concat(\n",
    "    [pd.read_csv(os.path.join(modelpath, f'train_preprocessed_{i}.csv')) for i in range(8)]\n",
    ")\n",
    "all_train['bbox_ref'] = all_train.bbox_ref.apply(lambda x: [int(k) for k \n",
    "                                                            in filter(lambda a: a, x[1:-1].split(' '))])\n",
    "all_train['bbox_count'] = all_train.bbox_ref.apply(lambda x: len(x))\n",
    "all_train.head(5)"
   ]
  },
  {
   "cell_type": "code",
   "execution_count": 3,
   "metadata": {},
   "outputs": [
    {
     "data": {
      "text/html": [
       "<div>\n",
       "<style scoped>\n",
       "    .dataframe tbody tr th:only-of-type {\n",
       "        vertical-align: middle;\n",
       "    }\n",
       "\n",
       "    .dataframe tbody tr th {\n",
       "        vertical-align: top;\n",
       "    }\n",
       "\n",
       "    .dataframe thead th {\n",
       "        text-align: right;\n",
       "    }\n",
       "</style>\n",
       "<table border=\"1\" class=\"dataframe\">\n",
       "  <thead>\n",
       "    <tr style=\"text-align: right;\">\n",
       "      <th></th>\n",
       "      <th>ImageID</th>\n",
       "      <th>LabelName</th>\n",
       "      <th>IsOccluded</th>\n",
       "      <th>IsTruncated</th>\n",
       "      <th>IsGroupOf</th>\n",
       "      <th>IsDepiction</th>\n",
       "      <th>IsInside</th>\n",
       "      <th>Path</th>\n",
       "      <th>LabelSemantic</th>\n",
       "      <th>cx</th>\n",
       "      <th>cy</th>\n",
       "      <th>w</th>\n",
       "      <th>h</th>\n",
       "      <th>boat</th>\n",
       "      <th>land_vehicle</th>\n",
       "      <th>skyscraper</th>\n",
       "      <th>bbox_ref</th>\n",
       "      <th>bbox_count</th>\n",
       "    </tr>\n",
       "  </thead>\n",
       "  <tbody>\n",
       "    <tr>\n",
       "      <th>2336</th>\n",
       "      <td>5f12df8a5b56bcb1</td>\n",
       "      <td>/m/079cl</td>\n",
       "      <td>1</td>\n",
       "      <td>0</td>\n",
       "      <td>0</td>\n",
       "      <td>0</td>\n",
       "      <td>0</td>\n",
       "      <td>data/TRAIN/train_5/5f12df8a5b56bcb1.jpg</td>\n",
       "      <td>skyscraper</td>\n",
       "      <td>0.713437</td>\n",
       "      <td>0.500417</td>\n",
       "      <td>0.100625</td>\n",
       "      <td>0.079167</td>\n",
       "      <td>False</td>\n",
       "      <td>False</td>\n",
       "      <td>True</td>\n",
       "      <td>[8644, 8647]</td>\n",
       "      <td>2</td>\n",
       "    </tr>\n",
       "    <tr>\n",
       "      <th>23685</th>\n",
       "      <td>f8a779759756a936</td>\n",
       "      <td>/m/019jd</td>\n",
       "      <td>1</td>\n",
       "      <td>1</td>\n",
       "      <td>0</td>\n",
       "      <td>0</td>\n",
       "      <td>0</td>\n",
       "      <td>data/TRAIN/train_f/f8a779759756a936.jpg</td>\n",
       "      <td>boat</td>\n",
       "      <td>0.469375</td>\n",
       "      <td>0.485459</td>\n",
       "      <td>0.916250</td>\n",
       "      <td>0.663227</td>\n",
       "      <td>True</td>\n",
       "      <td>False</td>\n",
       "      <td>False</td>\n",
       "      <td>[8728, 8730, 8731]</td>\n",
       "      <td>3</td>\n",
       "    </tr>\n",
       "    <tr>\n",
       "      <th>20961</th>\n",
       "      <td>9464222fcbb5f608</td>\n",
       "      <td>/m/01prls</td>\n",
       "      <td>1</td>\n",
       "      <td>1</td>\n",
       "      <td>0</td>\n",
       "      <td>0</td>\n",
       "      <td>0</td>\n",
       "      <td>data/TRAIN/train_9/9464222fcbb5f608.jpg</td>\n",
       "      <td>land_vehicle</td>\n",
       "      <td>0.838816</td>\n",
       "      <td>0.437812</td>\n",
       "      <td>0.320489</td>\n",
       "      <td>0.295625</td>\n",
       "      <td>False</td>\n",
       "      <td>True</td>\n",
       "      <td>False</td>\n",
       "      <td>[8720, 8722, 8723]</td>\n",
       "      <td>3</td>\n",
       "    </tr>\n",
       "    <tr>\n",
       "      <th>28793</th>\n",
       "      <td>3a9423a2a5d3c594</td>\n",
       "      <td>/m/079cl</td>\n",
       "      <td>1</td>\n",
       "      <td>0</td>\n",
       "      <td>0</td>\n",
       "      <td>0</td>\n",
       "      <td>0</td>\n",
       "      <td>data/TRAIN/train_3/3a9423a2a5d3c594.jpg</td>\n",
       "      <td>skyscraper</td>\n",
       "      <td>0.845625</td>\n",
       "      <td>0.648333</td>\n",
       "      <td>0.030000</td>\n",
       "      <td>0.105000</td>\n",
       "      <td>False</td>\n",
       "      <td>False</td>\n",
       "      <td>True</td>\n",
       "      <td>[8459, 8460]</td>\n",
       "      <td>2</td>\n",
       "    </tr>\n",
       "    <tr>\n",
       "      <th>9809</th>\n",
       "      <td>c87b9e81c490a73e</td>\n",
       "      <td>/m/019jd</td>\n",
       "      <td>0</td>\n",
       "      <td>0</td>\n",
       "      <td>0</td>\n",
       "      <td>0</td>\n",
       "      <td>0</td>\n",
       "      <td>data/TRAIN/train_c/c87b9e81c490a73e.jpg</td>\n",
       "      <td>boat</td>\n",
       "      <td>0.645625</td>\n",
       "      <td>0.535481</td>\n",
       "      <td>0.043750</td>\n",
       "      <td>0.047619</td>\n",
       "      <td>True</td>\n",
       "      <td>False</td>\n",
       "      <td>False</td>\n",
       "      <td>[8333]</td>\n",
       "      <td>1</td>\n",
       "    </tr>\n",
       "  </tbody>\n",
       "</table>\n",
       "</div>"
      ],
      "text/plain": [
       "                ImageID  LabelName  IsOccluded  IsTruncated  IsGroupOf  IsDepiction  IsInside                                     Path LabelSemantic        cx        cy         w         h   boat  land_vehicle  skyscraper            bbox_ref  bbox_count\n",
       "2336   5f12df8a5b56bcb1   /m/079cl           1            0          0            0         0  data/TRAIN/train_5/5f12df8a5b56bcb1.jpg    skyscraper  0.713437  0.500417  0.100625  0.079167  False         False        True        [8644, 8647]           2\n",
       "23685  f8a779759756a936   /m/019jd           1            1          0            0         0  data/TRAIN/train_f/f8a779759756a936.jpg          boat  0.469375  0.485459  0.916250  0.663227   True         False       False  [8728, 8730, 8731]           3\n",
       "20961  9464222fcbb5f608  /m/01prls           1            1          0            0         0  data/TRAIN/train_9/9464222fcbb5f608.jpg  land_vehicle  0.838816  0.437812  0.320489  0.295625  False          True       False  [8720, 8722, 8723]           3\n",
       "28793  3a9423a2a5d3c594   /m/079cl           1            0          0            0         0  data/TRAIN/train_3/3a9423a2a5d3c594.jpg    skyscraper  0.845625  0.648333  0.030000  0.105000  False         False        True        [8459, 8460]           2\n",
       "9809   c87b9e81c490a73e   /m/019jd           0            0          0            0         0  data/TRAIN/train_c/c87b9e81c490a73e.jpg          boat  0.645625  0.535481  0.043750  0.047619   True         False       False              [8333]           1"
      ]
     },
     "metadata": {},
     "output_type": "display_data"
    },
    {
     "data": {
      "text/plain": [
       "(36480, 18)"
      ]
     },
     "execution_count": 3,
     "metadata": {},
     "output_type": "execute_result"
    }
   ],
   "source": [
    "train = (pd.concat([all_train.query(\"bbox_count > 0\")])\n",
    "           .sample(frac=1, random_state=17))\n",
    "display(train.head(5))\n",
    "train.shape"
   ]
  },
  {
   "cell_type": "markdown",
   "metadata": {},
   "source": [
    "creating the default bounding boxes:"
   ]
  },
  {
   "cell_type": "code",
   "execution_count": 4,
   "metadata": {},
   "outputs": [
    {
     "data": {
      "text/plain": [
       "array([[0.01315789, 0.01315789, 0.00526316, 0.00526316],\n",
       "       [0.01315789, 0.01315789, 0.00372161, 0.00744323],\n",
       "       [0.01315789, 0.01315789, 0.00744323, 0.00372161],\n",
       "       ...,\n",
       "       [0.5       , 0.5       , 0.6363961 , 1.27279221],\n",
       "       [0.5       , 0.5       , 1.27279221, 0.6363961 ],\n",
       "       [0.5       , 0.5       , 0.96747093, 0.96747093]])"
      ]
     },
     "execution_count": 4,
     "metadata": {},
     "output_type": "execute_result"
    }
   ],
   "source": [
    "standard_bboxes = data.StandardBoudingBoxes(feature_map_sizes=[38, 19, 10, 5, 3, 1],\n",
    "                                            ratios_per_layer=[[1, 1/2, 2], \n",
    "                                                              [1, 1/2, 1/3, 2, 3],\n",
    "                                                              [1, 1/2, 1/3, 2, 3],\n",
    "                                                              [1, 1/2, 1/3, 2, 3],\n",
    "                                                              [1, 1/2, 2],\n",
    "                                                              [1, 1/2, 2]])\n",
    "\n",
    "standard_bboxes.references.values"
   ]
  },
  {
   "cell_type": "code",
   "execution_count": 5,
   "metadata": {},
   "outputs": [
    {
     "data": {
      "text/plain": [
       "(31944, 11)"
      ]
     },
     "metadata": {},
     "output_type": "display_data"
    },
    {
     "name": "stdout",
     "output_type": "stream",
     "text": [
      "CPU times: user 14.8 s, sys: 36.3 ms, total: 14.9 s\n",
      "Wall time: 14.9 s\n"
     ]
    },
    {
     "data": {
      "text/html": [
       "<div>\n",
       "<style scoped>\n",
       "    .dataframe tbody tr th:only-of-type {\n",
       "        vertical-align: middle;\n",
       "    }\n",
       "\n",
       "    .dataframe tbody tr th {\n",
       "        vertical-align: top;\n",
       "    }\n",
       "\n",
       "    .dataframe thead th {\n",
       "        text-align: right;\n",
       "    }\n",
       "</style>\n",
       "<table border=\"1\" class=\"dataframe\">\n",
       "  <thead>\n",
       "    <tr style=\"text-align: right;\">\n",
       "      <th></th>\n",
       "      <th>ImageID</th>\n",
       "      <th>Path</th>\n",
       "      <th>cx</th>\n",
       "      <th>cy</th>\n",
       "      <th>w</th>\n",
       "      <th>h</th>\n",
       "      <th>bbox_ref</th>\n",
       "      <th>LabelSemantic</th>\n",
       "      <th>boat</th>\n",
       "      <th>land_vehicle</th>\n",
       "      <th>skyscraper</th>\n",
       "    </tr>\n",
       "  </thead>\n",
       "  <tbody>\n",
       "    <tr>\n",
       "      <th>0</th>\n",
       "      <td>5f12df8a5b56bcb1</td>\n",
       "      <td>data/TRAIN/train_5/5f12df8a5b56bcb1.jpg</td>\n",
       "      <td>[0.7134375]</td>\n",
       "      <td>[0.5004165]</td>\n",
       "      <td>[0.10062500000000008]</td>\n",
       "      <td>[0.07916700000000004]</td>\n",
       "      <td>[[8644, 8647]]</td>\n",
       "      <td>[skyscraper]</td>\n",
       "      <td>[False]</td>\n",
       "      <td>[False]</td>\n",
       "      <td>[True]</td>\n",
       "    </tr>\n",
       "    <tr>\n",
       "      <th>1</th>\n",
       "      <td>f8a779759756a936</td>\n",
       "      <td>data/TRAIN/train_f/f8a779759756a936.jpg</td>\n",
       "      <td>[0.469375]</td>\n",
       "      <td>[0.4854594999999999]</td>\n",
       "      <td>[0.91625]</td>\n",
       "      <td>[0.6632269999999999]</td>\n",
       "      <td>[[8728, 8730, 8731]]</td>\n",
       "      <td>[boat]</td>\n",
       "      <td>[True]</td>\n",
       "      <td>[False]</td>\n",
       "      <td>[False]</td>\n",
       "    </tr>\n",
       "    <tr>\n",
       "      <th>2</th>\n",
       "      <td>9464222fcbb5f608</td>\n",
       "      <td>data/TRAIN/train_9/9464222fcbb5f608.jpg</td>\n",
       "      <td>[0.8388155]</td>\n",
       "      <td>[0.4378125]</td>\n",
       "      <td>[0.320489]</td>\n",
       "      <td>[0.295625]</td>\n",
       "      <td>[[8720, 8722, 8723]]</td>\n",
       "      <td>[land_vehicle]</td>\n",
       "      <td>[False]</td>\n",
       "      <td>[True]</td>\n",
       "      <td>[False]</td>\n",
       "    </tr>\n",
       "    <tr>\n",
       "      <th>3</th>\n",
       "      <td>3a9423a2a5d3c594</td>\n",
       "      <td>data/TRAIN/train_3/3a9423a2a5d3c594.jpg</td>\n",
       "      <td>[0.845625]</td>\n",
       "      <td>[0.648333]</td>\n",
       "      <td>[0.030000000000000027]</td>\n",
       "      <td>[0.1050000000000001]</td>\n",
       "      <td>[[8459, 8460]]</td>\n",
       "      <td>[skyscraper]</td>\n",
       "      <td>[False]</td>\n",
       "      <td>[False]</td>\n",
       "      <td>[True]</td>\n",
       "    </tr>\n",
       "    <tr>\n",
       "      <th>4</th>\n",
       "      <td>c87b9e81c490a73e</td>\n",
       "      <td>data/TRAIN/train_c/c87b9e81c490a73e.jpg</td>\n",
       "      <td>[0.645625]</td>\n",
       "      <td>[0.5354805]</td>\n",
       "      <td>[0.04374999999999996]</td>\n",
       "      <td>[0.04761899999999997]</td>\n",
       "      <td>[[8333]]</td>\n",
       "      <td>[boat]</td>\n",
       "      <td>[True]</td>\n",
       "      <td>[False]</td>\n",
       "      <td>[False]</td>\n",
       "    </tr>\n",
       "  </tbody>\n",
       "</table>\n",
       "</div>"
      ],
      "text/plain": [
       "            ImageID                                     Path           cx                    cy                       w                      h              bbox_ref   LabelSemantic     boat land_vehicle skyscraper\n",
       "0  5f12df8a5b56bcb1  data/TRAIN/train_5/5f12df8a5b56bcb1.jpg  [0.7134375]           [0.5004165]   [0.10062500000000008]  [0.07916700000000004]        [[8644, 8647]]    [skyscraper]  [False]      [False]     [True]\n",
       "1  f8a779759756a936  data/TRAIN/train_f/f8a779759756a936.jpg   [0.469375]  [0.4854594999999999]               [0.91625]   [0.6632269999999999]  [[8728, 8730, 8731]]          [boat]   [True]      [False]    [False]\n",
       "2  9464222fcbb5f608  data/TRAIN/train_9/9464222fcbb5f608.jpg  [0.8388155]           [0.4378125]              [0.320489]             [0.295625]  [[8720, 8722, 8723]]  [land_vehicle]  [False]       [True]    [False]\n",
       "3  3a9423a2a5d3c594  data/TRAIN/train_3/3a9423a2a5d3c594.jpg   [0.845625]            [0.648333]  [0.030000000000000027]   [0.1050000000000001]        [[8459, 8460]]    [skyscraper]  [False]      [False]     [True]\n",
       "4  c87b9e81c490a73e  data/TRAIN/train_c/c87b9e81c490a73e.jpg   [0.645625]           [0.5354805]   [0.04374999999999996]  [0.04761899999999997]              [[8333]]          [boat]   [True]      [False]    [False]"
      ]
     },
     "execution_count": 5,
     "metadata": {},
     "output_type": "execute_result"
    }
   ],
   "source": [
    "%%time\n",
    "imgs = train[['ImageID', 'Path']].drop_duplicates()\n",
    "#getting the one hot encodes columns\n",
    "dummy_classes = list(train.columns[13:-2])\n",
    "\n",
    "imgs.set_index('ImageID', inplace=True)\n",
    "\n",
    "for c in ['cx', 'cy', 'w', 'h', 'bbox_ref', 'LabelSemantic'] + dummy_classes:\n",
    "    imgs = imgs.join(train.groupby('ImageID')[c].apply(list))\n",
    "\n",
    "imgs.reset_index(inplace=True)\n",
    "display(imgs.shape)\n",
    "imgs.head()"
   ]
  },
  {
   "cell_type": "markdown",
   "metadata": {},
   "source": [
    "At this point, we are creating the target dataset\n",
    "\n",
    "applying the transformations explain in page 5 of the [ssd paper](https://arxiv.org/pdf/1512.02325.pdf)"
   ]
  },
  {
   "cell_type": "code",
   "execution_count": 6,
   "metadata": {},
   "outputs": [
    {
     "data": {
      "text/plain": [
       "(31944, 8732, 8)"
      ]
     },
     "execution_count": 6,
     "metadata": {},
     "output_type": "execute_result"
    }
   ],
   "source": [
    "# This 6 is because the output of the model for each bbox found is 6: 2 classes + (cx, cy, w, h)\n",
    "target = np.zeros((imgs.shape[0],\n",
    "                   standard_bboxes.references.shape[0],\n",
    "                   (1 + len(dummy_classes) + 4)),\n",
    "                  dtype=np.float32)\n",
    "target[:][:] = [1] + [0] * len(dummy_classes) + [0,0,0,0]\n",
    "\n",
    "for i, row in imgs.iterrows():\n",
    "    for cx, cy, w, h, refs, *labels in zip(row.cx, row.cy, row.w, row.h, row.bbox_ref, *row[8:]):\n",
    "        for id_ref in refs:\n",
    "            target[i][int(id_ref)] = [0] + labels + [cx, cy, w, h]\n",
    "        \n",
    "target.shape"
   ]
  },
  {
   "cell_type": "code",
   "execution_count": 7,
   "metadata": {},
   "outputs": [
    {
     "name": "stdout",
     "output_type": "stream",
     "text": [
      "3 8644\n",
      "3 8647\n"
     ]
    }
   ],
   "source": [
    "for i, r in enumerate(target[0]):\n",
    "    if r[1] == 1:\n",
    "        print(1, i, r[-4], r[-3], r[-2], r[-1])\n",
    "    if r[2] == 1:\n",
    "        print(2, i)\n",
    "    if r[3] == 1:\n",
    "        print(3, i)"
   ]
  },
  {
   "cell_type": "markdown",
   "metadata": {},
   "source": [
    "### Hdf5"
   ]
  },
  {
   "cell_type": "code",
   "execution_count": 8,
   "metadata": {},
   "outputs": [],
   "source": [
    "filepath = os.path.join(content.DATAPATH, \"MODEL\", \"part_data_300_vgg.h5\")"
   ]
  },
  {
   "cell_type": "code",
   "execution_count": 9,
   "metadata": {},
   "outputs": [],
   "source": [
    "imgs.to_hdf(filepath, key='X', mode='w')\n",
    "\n",
    "with h5py.File(filepath, 'a') as f:\n",
    "    f.create_dataset('y', data=target, dtype=np.float16)"
   ]
  },
  {
   "cell_type": "markdown",
   "metadata": {},
   "source": [
    "#### Reading"
   ]
  },
  {
   "cell_type": "code",
   "execution_count": 10,
   "metadata": {},
   "outputs": [],
   "source": [
    "read_data = pd.read_hdf(filepath, 'X', mode='r')"
   ]
  },
  {
   "cell_type": "code",
   "execution_count": 11,
   "metadata": {},
   "outputs": [
    {
     "data": {
      "text/plain": [
       "(31944, 8732, 8)"
      ]
     },
     "execution_count": 11,
     "metadata": {},
     "output_type": "execute_result"
    }
   ],
   "source": [
    "with h5py.File(filepath, 'r') as f:\n",
    "    dset = f['y'][:]\n",
    "dset.shape"
   ]
  },
  {
   "cell_type": "code",
   "execution_count": 12,
   "metadata": {},
   "outputs": [
    {
     "data": {
      "text/html": [
       "<div>\n",
       "<style scoped>\n",
       "    .dataframe tbody tr th:only-of-type {\n",
       "        vertical-align: middle;\n",
       "    }\n",
       "\n",
       "    .dataframe tbody tr th {\n",
       "        vertical-align: top;\n",
       "    }\n",
       "\n",
       "    .dataframe thead th {\n",
       "        text-align: right;\n",
       "    }\n",
       "</style>\n",
       "<table border=\"1\" class=\"dataframe\">\n",
       "  <thead>\n",
       "    <tr style=\"text-align: right;\">\n",
       "      <th></th>\n",
       "      <th>ImageID</th>\n",
       "      <th>Path</th>\n",
       "      <th>cx</th>\n",
       "      <th>cy</th>\n",
       "      <th>w</th>\n",
       "      <th>h</th>\n",
       "      <th>bbox_ref</th>\n",
       "      <th>LabelSemantic</th>\n",
       "      <th>boat</th>\n",
       "      <th>land_vehicle</th>\n",
       "      <th>skyscraper</th>\n",
       "    </tr>\n",
       "  </thead>\n",
       "  <tbody>\n",
       "    <tr>\n",
       "      <th>0</th>\n",
       "      <td>5f12df8a5b56bcb1</td>\n",
       "      <td>data/TRAIN/train_5/5f12df8a5b56bcb1.jpg</td>\n",
       "      <td>[0.7134375]</td>\n",
       "      <td>[0.5004165]</td>\n",
       "      <td>[0.10062500000000008]</td>\n",
       "      <td>[0.07916700000000004]</td>\n",
       "      <td>[[8644, 8647]]</td>\n",
       "      <td>[skyscraper]</td>\n",
       "      <td>[False]</td>\n",
       "      <td>[False]</td>\n",
       "      <td>[True]</td>\n",
       "    </tr>\n",
       "    <tr>\n",
       "      <th>1</th>\n",
       "      <td>f8a779759756a936</td>\n",
       "      <td>data/TRAIN/train_f/f8a779759756a936.jpg</td>\n",
       "      <td>[0.469375]</td>\n",
       "      <td>[0.4854594999999999]</td>\n",
       "      <td>[0.91625]</td>\n",
       "      <td>[0.6632269999999999]</td>\n",
       "      <td>[[8728, 8730, 8731]]</td>\n",
       "      <td>[boat]</td>\n",
       "      <td>[True]</td>\n",
       "      <td>[False]</td>\n",
       "      <td>[False]</td>\n",
       "    </tr>\n",
       "    <tr>\n",
       "      <th>2</th>\n",
       "      <td>9464222fcbb5f608</td>\n",
       "      <td>data/TRAIN/train_9/9464222fcbb5f608.jpg</td>\n",
       "      <td>[0.8388155]</td>\n",
       "      <td>[0.4378125]</td>\n",
       "      <td>[0.320489]</td>\n",
       "      <td>[0.295625]</td>\n",
       "      <td>[[8720, 8722, 8723]]</td>\n",
       "      <td>[land_vehicle]</td>\n",
       "      <td>[False]</td>\n",
       "      <td>[True]</td>\n",
       "      <td>[False]</td>\n",
       "    </tr>\n",
       "    <tr>\n",
       "      <th>3</th>\n",
       "      <td>3a9423a2a5d3c594</td>\n",
       "      <td>data/TRAIN/train_3/3a9423a2a5d3c594.jpg</td>\n",
       "      <td>[0.845625]</td>\n",
       "      <td>[0.648333]</td>\n",
       "      <td>[0.030000000000000027]</td>\n",
       "      <td>[0.1050000000000001]</td>\n",
       "      <td>[[8459, 8460]]</td>\n",
       "      <td>[skyscraper]</td>\n",
       "      <td>[False]</td>\n",
       "      <td>[False]</td>\n",
       "      <td>[True]</td>\n",
       "    </tr>\n",
       "  </tbody>\n",
       "</table>\n",
       "</div>"
      ],
      "text/plain": [
       "            ImageID                                     Path           cx                    cy                       w                      h              bbox_ref   LabelSemantic     boat land_vehicle skyscraper\n",
       "0  5f12df8a5b56bcb1  data/TRAIN/train_5/5f12df8a5b56bcb1.jpg  [0.7134375]           [0.5004165]   [0.10062500000000008]  [0.07916700000000004]        [[8644, 8647]]    [skyscraper]  [False]      [False]     [True]\n",
       "1  f8a779759756a936  data/TRAIN/train_f/f8a779759756a936.jpg   [0.469375]  [0.4854594999999999]               [0.91625]   [0.6632269999999999]  [[8728, 8730, 8731]]          [boat]   [True]      [False]    [False]\n",
       "2  9464222fcbb5f608  data/TRAIN/train_9/9464222fcbb5f608.jpg  [0.8388155]           [0.4378125]              [0.320489]             [0.295625]  [[8720, 8722, 8723]]  [land_vehicle]  [False]       [True]    [False]\n",
       "3  3a9423a2a5d3c594  data/TRAIN/train_3/3a9423a2a5d3c594.jpg   [0.845625]            [0.648333]  [0.030000000000000027]   [0.1050000000000001]        [[8459, 8460]]    [skyscraper]  [False]      [False]     [True]"
      ]
     },
     "execution_count": 12,
     "metadata": {},
     "output_type": "execute_result"
    }
   ],
   "source": [
    "read_data.head(4)"
   ]
  },
  {
   "cell_type": "code",
   "execution_count": 13,
   "metadata": {},
   "outputs": [
    {
     "data": {
      "text/plain": [
       "cx    0.500000\n",
       "cy    0.833333\n",
       "w     0.179134\n",
       "h     0.358267\n",
       "Name: 8713, dtype: float64"
      ]
     },
     "execution_count": 13,
     "metadata": {},
     "output_type": "execute_result"
    }
   ],
   "source": [
    "standard_bboxes.references.iloc[8713]"
   ]
  },
  {
   "cell_type": "code",
   "execution_count": 14,
   "metadata": {},
   "outputs": [
    {
     "data": {
      "text/plain": [
       "array([0.     , 0.     , 0.     , 1.     , 0.7134 , 0.5005 , 0.10065,\n",
       "       0.07916], dtype=float16)"
      ]
     },
     "execution_count": 14,
     "metadata": {},
     "output_type": "execute_result"
    }
   ],
   "source": [
    "dset[0][8644]"
   ]
  }
 ],
 "metadata": {
  "kernelspec": {
   "display_name": "Python 3",
   "language": "python",
   "name": "python3"
  },
  "language_info": {
   "codemirror_mode": {
    "name": "ipython",
    "version": 3
   },
   "file_extension": ".py",
   "mimetype": "text/x-python",
   "name": "python",
   "nbconvert_exporter": "python",
   "pygments_lexer": "ipython3",
   "version": "3.7.3"
  },
  "toc": {
   "base_numbering": 1,
   "nav_menu": {},
   "number_sections": false,
   "sideBar": true,
   "skip_h1_title": false,
   "title_cell": "Table of Contents",
   "title_sidebar": "Contents",
   "toc_cell": false,
   "toc_position": {
    "height": "calc(100% - 180px)",
    "left": "10px",
    "top": "150px",
    "width": "270px"
   },
   "toc_section_display": true,
   "toc_window_display": false
  }
 },
 "nbformat": 4,
 "nbformat_minor": 2
}
