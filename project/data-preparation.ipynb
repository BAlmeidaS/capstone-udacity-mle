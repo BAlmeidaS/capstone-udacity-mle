{
 "cells": [
  {
   "cell_type": "code",
   "execution_count": 1,
   "metadata": {
    "run_control": {
     "marked": false
    }
   },
   "outputs": [],
   "source": [
    "# imports\n",
    "import os\n",
    "os.sys.path.append(os.path.abspath(\"..\"))\n",
    "\n",
    "import numpy as np\n",
    "import pandas as pd\n",
    "\n",
    "import h5py\n",
    "\n",
    "import project.download_content as content\n",
    "from project.utils import data\n",
    "\n",
    "from tqdm import tqdm\n",
    "\n",
    "import pickle\n",
    "\n",
    "modelpath = os.path.join(content.DATAPATH, \"MODEL\")\n",
    "\n",
    "tqdm.pandas()"
   ]
  },
  {
   "cell_type": "markdown",
   "metadata": {},
   "source": [
    "This notebook is about create the environment to start to train models."
   ]
  },
  {
   "cell_type": "markdown",
   "metadata": {},
   "source": [
    "## About boats?!"
   ]
  },
  {
   "cell_type": "markdown",
   "metadata": {},
   "source": [
    "To early exploration in modeling I chosen to work with boats bbox. They are the 30th most relevant class, this means that they are big enough to be isolated, but they are small enough to start a model exploration (stress cost functions, architectures, so on)."
   ]
  },
  {
   "cell_type": "code",
   "execution_count": 2,
   "metadata": {},
   "outputs": [
    {
     "data": {
      "text/html": [
       "<div>\n",
       "<style scoped>\n",
       "    .dataframe tbody tr th:only-of-type {\n",
       "        vertical-align: middle;\n",
       "    }\n",
       "\n",
       "    .dataframe tbody tr th {\n",
       "        vertical-align: top;\n",
       "    }\n",
       "\n",
       "    .dataframe thead th {\n",
       "        text-align: right;\n",
       "    }\n",
       "</style>\n",
       "<table border=\"1\" class=\"dataframe\">\n",
       "  <thead>\n",
       "    <tr style=\"text-align: right;\">\n",
       "      <th></th>\n",
       "      <th>ImageID</th>\n",
       "      <th>LabelName</th>\n",
       "      <th>IsOccluded</th>\n",
       "      <th>IsTruncated</th>\n",
       "      <th>IsGroupOf</th>\n",
       "      <th>IsDepiction</th>\n",
       "      <th>IsInside</th>\n",
       "      <th>Path</th>\n",
       "      <th>LabelSemantic</th>\n",
       "      <th>cx</th>\n",
       "      <th>cy</th>\n",
       "      <th>w</th>\n",
       "      <th>h</th>\n",
       "      <th>boat</th>\n",
       "      <th>land_vehicle</th>\n",
       "      <th>skyscraper</th>\n",
       "      <th>bbox_ref</th>\n",
       "      <th>bbox_count</th>\n",
       "    </tr>\n",
       "  </thead>\n",
       "  <tbody>\n",
       "    <tr>\n",
       "      <th>0</th>\n",
       "      <td>00001bc2c4027449</td>\n",
       "      <td>/m/019jd</td>\n",
       "      <td>1</td>\n",
       "      <td>0</td>\n",
       "      <td>0</td>\n",
       "      <td>0</td>\n",
       "      <td>0</td>\n",
       "      <td>data/TRAIN/train_0/00001bc2c4027449.jpg</td>\n",
       "      <td>boat</td>\n",
       "      <td>0.516250</td>\n",
       "      <td>0.521667</td>\n",
       "      <td>0.497500</td>\n",
       "      <td>0.561667</td>\n",
       "      <td>True</td>\n",
       "      <td>False</td>\n",
       "      <td>False</td>\n",
       "      <td>[]</td>\n",
       "      <td>0</td>\n",
       "    </tr>\n",
       "    <tr>\n",
       "      <th>1</th>\n",
       "      <td>0000339d0372e7e6</td>\n",
       "      <td>/m/079cl</td>\n",
       "      <td>1</td>\n",
       "      <td>0</td>\n",
       "      <td>0</td>\n",
       "      <td>0</td>\n",
       "      <td>0</td>\n",
       "      <td>data/TRAIN/train_0/0000339d0372e7e6.jpg</td>\n",
       "      <td>skyscraper</td>\n",
       "      <td>0.382188</td>\n",
       "      <td>0.687675</td>\n",
       "      <td>0.056875</td>\n",
       "      <td>0.126050</td>\n",
       "      <td>False</td>\n",
       "      <td>False</td>\n",
       "      <td>True</td>\n",
       "      <td>[]</td>\n",
       "      <td>0</td>\n",
       "    </tr>\n",
       "    <tr>\n",
       "      <th>2</th>\n",
       "      <td>0000339d0372e7e6</td>\n",
       "      <td>/m/079cl</td>\n",
       "      <td>1</td>\n",
       "      <td>0</td>\n",
       "      <td>0</td>\n",
       "      <td>0</td>\n",
       "      <td>0</td>\n",
       "      <td>data/TRAIN/train_0/0000339d0372e7e6.jpg</td>\n",
       "      <td>skyscraper</td>\n",
       "      <td>0.382188</td>\n",
       "      <td>0.683474</td>\n",
       "      <td>0.029375</td>\n",
       "      <td>0.102707</td>\n",
       "      <td>False</td>\n",
       "      <td>False</td>\n",
       "      <td>True</td>\n",
       "      <td>[]</td>\n",
       "      <td>0</td>\n",
       "    </tr>\n",
       "    <tr>\n",
       "      <th>3</th>\n",
       "      <td>0000339d0372e7e6</td>\n",
       "      <td>/m/079cl</td>\n",
       "      <td>1</td>\n",
       "      <td>1</td>\n",
       "      <td>1</td>\n",
       "      <td>0</td>\n",
       "      <td>0</td>\n",
       "      <td>data/TRAIN/train_0/0000339d0372e7e6.jpg</td>\n",
       "      <td>skyscraper</td>\n",
       "      <td>0.519062</td>\n",
       "      <td>0.782446</td>\n",
       "      <td>0.174375</td>\n",
       "      <td>0.330532</td>\n",
       "      <td>False</td>\n",
       "      <td>False</td>\n",
       "      <td>True</td>\n",
       "      <td>[8712, 8713]</td>\n",
       "      <td>2</td>\n",
       "    </tr>\n",
       "    <tr>\n",
       "      <th>4</th>\n",
       "      <td>0000339d0372e7e6</td>\n",
       "      <td>/m/079cl</td>\n",
       "      <td>1</td>\n",
       "      <td>0</td>\n",
       "      <td>0</td>\n",
       "      <td>0</td>\n",
       "      <td>0</td>\n",
       "      <td>data/TRAIN/train_0/0000339d0372e7e6.jpg</td>\n",
       "      <td>skyscraper</td>\n",
       "      <td>0.516563</td>\n",
       "      <td>0.790850</td>\n",
       "      <td>0.079375</td>\n",
       "      <td>0.229692</td>\n",
       "      <td>False</td>\n",
       "      <td>False</td>\n",
       "      <td>True</td>\n",
       "      <td>[]</td>\n",
       "      <td>0</td>\n",
       "    </tr>\n",
       "  </tbody>\n",
       "</table>\n",
       "</div>"
      ],
      "text/plain": [
       "            ImageID LabelName  IsOccluded  IsTruncated  IsGroupOf  IsDepiction  IsInside                                     Path LabelSemantic        cx        cy         w         h   boat  land_vehicle  skyscraper      bbox_ref  bbox_count\n",
       "0  00001bc2c4027449  /m/019jd           1            0          0            0         0  data/TRAIN/train_0/00001bc2c4027449.jpg          boat  0.516250  0.521667  0.497500  0.561667   True         False       False            []           0\n",
       "1  0000339d0372e7e6  /m/079cl           1            0          0            0         0  data/TRAIN/train_0/0000339d0372e7e6.jpg    skyscraper  0.382188  0.687675  0.056875  0.126050  False         False        True            []           0\n",
       "2  0000339d0372e7e6  /m/079cl           1            0          0            0         0  data/TRAIN/train_0/0000339d0372e7e6.jpg    skyscraper  0.382188  0.683474  0.029375  0.102707  False         False        True            []           0\n",
       "3  0000339d0372e7e6  /m/079cl           1            1          1            0         0  data/TRAIN/train_0/0000339d0372e7e6.jpg    skyscraper  0.519062  0.782446  0.174375  0.330532  False         False        True  [8712, 8713]           2\n",
       "4  0000339d0372e7e6  /m/079cl           1            0          0            0         0  data/TRAIN/train_0/0000339d0372e7e6.jpg    skyscraper  0.516563  0.790850  0.079375  0.229692  False         False        True            []           0"
      ]
     },
     "execution_count": 2,
     "metadata": {},
     "output_type": "execute_result"
    }
   ],
   "source": [
    "#reading all train csvs\n",
    "all_train = pd.concat(\n",
    "    [pd.read_csv(os.path.join(modelpath, f'train_preprocessed_{i}.csv')) for i in range(8)]\n",
    ")\n",
    "all_train['bbox_ref'] = all_train.bbox_ref.apply(lambda x: [int(k) for k \n",
    "                                                            in filter(lambda a: a, x[1:-1].split(' '))])\n",
    "all_train['bbox_count'] = all_train.bbox_ref.apply(lambda x: len(x))\n",
    "all_train.head(5)"
   ]
  },
  {
   "cell_type": "code",
   "execution_count": 3,
   "metadata": {},
   "outputs": [
    {
     "data": {
      "text/html": [
       "<div>\n",
       "<style scoped>\n",
       "    .dataframe tbody tr th:only-of-type {\n",
       "        vertical-align: middle;\n",
       "    }\n",
       "\n",
       "    .dataframe tbody tr th {\n",
       "        vertical-align: top;\n",
       "    }\n",
       "\n",
       "    .dataframe thead th {\n",
       "        text-align: right;\n",
       "    }\n",
       "</style>\n",
       "<table border=\"1\" class=\"dataframe\">\n",
       "  <thead>\n",
       "    <tr style=\"text-align: right;\">\n",
       "      <th></th>\n",
       "      <th>ImageID</th>\n",
       "      <th>LabelName</th>\n",
       "      <th>IsOccluded</th>\n",
       "      <th>IsTruncated</th>\n",
       "      <th>IsGroupOf</th>\n",
       "      <th>IsDepiction</th>\n",
       "      <th>IsInside</th>\n",
       "      <th>Path</th>\n",
       "      <th>LabelSemantic</th>\n",
       "      <th>cx</th>\n",
       "      <th>cy</th>\n",
       "      <th>w</th>\n",
       "      <th>h</th>\n",
       "      <th>boat</th>\n",
       "      <th>land_vehicle</th>\n",
       "      <th>skyscraper</th>\n",
       "      <th>bbox_ref</th>\n",
       "      <th>bbox_count</th>\n",
       "    </tr>\n",
       "  </thead>\n",
       "  <tbody>\n",
       "    <tr>\n",
       "      <th>11145</th>\n",
       "      <td>aa8a3208a030e639</td>\n",
       "      <td>/m/019jd</td>\n",
       "      <td>1</td>\n",
       "      <td>0</td>\n",
       "      <td>0</td>\n",
       "      <td>0</td>\n",
       "      <td>0</td>\n",
       "      <td>data/TRAIN/train_a/aa8a3208a030e639.jpg</td>\n",
       "      <td>boat</td>\n",
       "      <td>0.722500</td>\n",
       "      <td>0.751778</td>\n",
       "      <td>0.151250</td>\n",
       "      <td>0.399716</td>\n",
       "      <td>True</td>\n",
       "      <td>False</td>\n",
       "      <td>False</td>\n",
       "      <td>[]</td>\n",
       "      <td>0</td>\n",
       "    </tr>\n",
       "    <tr>\n",
       "      <th>16304</th>\n",
       "      <td>f0731d01e1aae91e</td>\n",
       "      <td>/m/079cl</td>\n",
       "      <td>0</td>\n",
       "      <td>1</td>\n",
       "      <td>0</td>\n",
       "      <td>0</td>\n",
       "      <td>0</td>\n",
       "      <td>data/TRAIN/train_f/f0731d01e1aae91e.jpg</td>\n",
       "      <td>skyscraper</td>\n",
       "      <td>0.493698</td>\n",
       "      <td>0.535937</td>\n",
       "      <td>0.840337</td>\n",
       "      <td>0.908125</td>\n",
       "      <td>False</td>\n",
       "      <td>False</td>\n",
       "      <td>True</td>\n",
       "      <td>[8728, 8729, 8730, 8731]</td>\n",
       "      <td>4</td>\n",
       "    </tr>\n",
       "    <tr>\n",
       "      <th>18020</th>\n",
       "      <td>2fa9a3dba98197c8</td>\n",
       "      <td>/m/019jd</td>\n",
       "      <td>1</td>\n",
       "      <td>0</td>\n",
       "      <td>1</td>\n",
       "      <td>0</td>\n",
       "      <td>0</td>\n",
       "      <td>data/TRAIN/train_2/2fa9a3dba98197c8.jpg</td>\n",
       "      <td>boat</td>\n",
       "      <td>0.154688</td>\n",
       "      <td>0.556250</td>\n",
       "      <td>0.061875</td>\n",
       "      <td>0.020834</td>\n",
       "      <td>True</td>\n",
       "      <td>False</td>\n",
       "      <td>False</td>\n",
       "      <td>[8035]</td>\n",
       "      <td>1</td>\n",
       "    </tr>\n",
       "    <tr>\n",
       "      <th>11733</th>\n",
       "      <td>289240aa3b8a1d77</td>\n",
       "      <td>/m/019jd</td>\n",
       "      <td>0</td>\n",
       "      <td>0</td>\n",
       "      <td>0</td>\n",
       "      <td>0</td>\n",
       "      <td>0</td>\n",
       "      <td>data/TRAIN/train_2/289240aa3b8a1d77.jpg</td>\n",
       "      <td>boat</td>\n",
       "      <td>0.121250</td>\n",
       "      <td>0.448334</td>\n",
       "      <td>0.231250</td>\n",
       "      <td>0.413333</td>\n",
       "      <td>True</td>\n",
       "      <td>False</td>\n",
       "      <td>False</td>\n",
       "      <td>[8697, 8699]</td>\n",
       "      <td>2</td>\n",
       "    </tr>\n",
       "    <tr>\n",
       "      <th>4636</th>\n",
       "      <td>e2d1fa94455c112b</td>\n",
       "      <td>/m/019jd</td>\n",
       "      <td>0</td>\n",
       "      <td>0</td>\n",
       "      <td>0</td>\n",
       "      <td>0</td>\n",
       "      <td>0</td>\n",
       "      <td>data/TRAIN/train_e/e2d1fa94455c112b.jpg</td>\n",
       "      <td>boat</td>\n",
       "      <td>0.690625</td>\n",
       "      <td>0.667453</td>\n",
       "      <td>0.175000</td>\n",
       "      <td>0.179245</td>\n",
       "      <td>True</td>\n",
       "      <td>False</td>\n",
       "      <td>False</td>\n",
       "      <td>[8655]</td>\n",
       "      <td>1</td>\n",
       "    </tr>\n",
       "  </tbody>\n",
       "</table>\n",
       "</div>"
      ],
      "text/plain": [
       "                ImageID LabelName  IsOccluded  IsTruncated  IsGroupOf  IsDepiction  IsInside                                     Path LabelSemantic        cx        cy         w         h   boat  land_vehicle  skyscraper                  bbox_ref  bbox_count\n",
       "11145  aa8a3208a030e639  /m/019jd           1            0          0            0         0  data/TRAIN/train_a/aa8a3208a030e639.jpg          boat  0.722500  0.751778  0.151250  0.399716   True         False       False                        []           0\n",
       "16304  f0731d01e1aae91e  /m/079cl           0            1          0            0         0  data/TRAIN/train_f/f0731d01e1aae91e.jpg    skyscraper  0.493698  0.535937  0.840337  0.908125  False         False        True  [8728, 8729, 8730, 8731]           4\n",
       "18020  2fa9a3dba98197c8  /m/019jd           1            0          1            0         0  data/TRAIN/train_2/2fa9a3dba98197c8.jpg          boat  0.154688  0.556250  0.061875  0.020834   True         False       False                    [8035]           1\n",
       "11733  289240aa3b8a1d77  /m/019jd           0            0          0            0         0  data/TRAIN/train_2/289240aa3b8a1d77.jpg          boat  0.121250  0.448334  0.231250  0.413333   True         False       False              [8697, 8699]           2\n",
       "4636   e2d1fa94455c112b  /m/019jd           0            0          0            0         0  data/TRAIN/train_e/e2d1fa94455c112b.jpg          boat  0.690625  0.667453  0.175000  0.179245   True         False       False                    [8655]           1"
      ]
     },
     "metadata": {},
     "output_type": "display_data"
    },
    {
     "data": {
      "text/plain": [
       "(48480, 18)"
      ]
     },
     "execution_count": 3,
     "metadata": {},
     "output_type": "execute_result"
    }
   ],
   "source": [
    "train = (pd.concat([all_train.query(\"bbox_count > 0\"),\n",
    "                    all_train.query(\"bbox_count == 0\").sample(12000, random_state=47)])\n",
    "           .sample(frac=1, random_state=17))\n",
    "display(train.head(5))\n",
    "train.shape"
   ]
  },
  {
   "cell_type": "markdown",
   "metadata": {},
   "source": [
    "creating the default bounding boxes:"
   ]
  },
  {
   "cell_type": "code",
   "execution_count": 4,
   "metadata": {},
   "outputs": [
    {
     "data": {
      "text/plain": [
       "array([[0.01315789, 0.01315789, 0.00526316, 0.00526316],\n",
       "       [0.01315789, 0.01315789, 0.00372161, 0.00744323],\n",
       "       [0.01315789, 0.01315789, 0.00744323, 0.00372161],\n",
       "       ...,\n",
       "       [0.5       , 0.5       , 0.6363961 , 1.27279221],\n",
       "       [0.5       , 0.5       , 1.27279221, 0.6363961 ],\n",
       "       [0.5       , 0.5       , 0.96747093, 0.96747093]])"
      ]
     },
     "execution_count": 4,
     "metadata": {},
     "output_type": "execute_result"
    }
   ],
   "source": [
    "standard_bboxes = data.StandardBoudingBoxes(feature_map_sizes=[38, 19, 10, 5, 3, 1],\n",
    "                                            ratios_per_layer=[[1, 1/2, 2], \n",
    "                                                              [1, 1/2, 1/3, 2, 3],\n",
    "                                                              [1, 1/2, 1/3, 2, 3],\n",
    "                                                              [1, 1/2, 1/3, 2, 3],\n",
    "                                                              [1, 1/2, 2],\n",
    "                                                              [1, 1/2, 2]])\n",
    "\n",
    "standard_bboxes.references.values"
   ]
  },
  {
   "cell_type": "code",
   "execution_count": 5,
   "metadata": {},
   "outputs": [
    {
     "data": {
      "text/plain": [
       "(38122, 11)"
      ]
     },
     "metadata": {},
     "output_type": "display_data"
    },
    {
     "name": "stdout",
     "output_type": "stream",
     "text": [
      "CPU times: user 17.7 s, sys: 28.9 ms, total: 17.7 s\n",
      "Wall time: 17.7 s\n"
     ]
    },
    {
     "data": {
      "text/html": [
       "<div>\n",
       "<style scoped>\n",
       "    .dataframe tbody tr th:only-of-type {\n",
       "        vertical-align: middle;\n",
       "    }\n",
       "\n",
       "    .dataframe tbody tr th {\n",
       "        vertical-align: top;\n",
       "    }\n",
       "\n",
       "    .dataframe thead th {\n",
       "        text-align: right;\n",
       "    }\n",
       "</style>\n",
       "<table border=\"1\" class=\"dataframe\">\n",
       "  <thead>\n",
       "    <tr style=\"text-align: right;\">\n",
       "      <th></th>\n",
       "      <th>ImageID</th>\n",
       "      <th>Path</th>\n",
       "      <th>cx</th>\n",
       "      <th>cy</th>\n",
       "      <th>w</th>\n",
       "      <th>h</th>\n",
       "      <th>bbox_ref</th>\n",
       "      <th>LabelSemantic</th>\n",
       "      <th>boat</th>\n",
       "      <th>land_vehicle</th>\n",
       "      <th>skyscraper</th>\n",
       "    </tr>\n",
       "  </thead>\n",
       "  <tbody>\n",
       "    <tr>\n",
       "      <th>0</th>\n",
       "      <td>aa8a3208a030e639</td>\n",
       "      <td>data/TRAIN/train_a/aa8a3208a030e639.jpg</td>\n",
       "      <td>[0.7224999999999999, 0.2134375]</td>\n",
       "      <td>[0.7517780000000001, 0.8079654999999999]</td>\n",
       "      <td>[0.15125, 0.189375]</td>\n",
       "      <td>[0.3997160000000001, 0.21906099999999984]</td>\n",
       "      <td>[[], [8700, 8703]]</td>\n",
       "      <td>[boat, boat]</td>\n",
       "      <td>[True, True]</td>\n",
       "      <td>[False, False]</td>\n",
       "      <td>[False, False]</td>\n",
       "    </tr>\n",
       "    <tr>\n",
       "      <th>1</th>\n",
       "      <td>f0731d01e1aae91e</td>\n",
       "      <td>data/TRAIN/train_f/f0731d01e1aae91e.jpg</td>\n",
       "      <td>[0.4936975]</td>\n",
       "      <td>[0.5359375]</td>\n",
       "      <td>[0.8403370000000001]</td>\n",
       "      <td>[0.908125]</td>\n",
       "      <td>[[8728, 8729, 8730, 8731]]</td>\n",
       "      <td>[skyscraper]</td>\n",
       "      <td>[False]</td>\n",
       "      <td>[False]</td>\n",
       "      <td>[True]</td>\n",
       "    </tr>\n",
       "    <tr>\n",
       "      <th>2</th>\n",
       "      <td>2fa9a3dba98197c8</td>\n",
       "      <td>data/TRAIN/train_2/2fa9a3dba98197c8.jpg</td>\n",
       "      <td>[0.1546875, 0.284375, 0.338125, 0.411875, 0.65...</td>\n",
       "      <td>[0.55625, 0.6604165, 0.675, 0.5929165000000001...</td>\n",
       "      <td>[0.06187500000000001, 0.025000000000000026, 0....</td>\n",
       "      <td>[0.02083400000000002, 0.019167000000000045, 0....</td>\n",
       "      <td>[[8035], [6423], [], [], []]</td>\n",
       "      <td>[boat, boat, boat, boat, boat]</td>\n",
       "      <td>[True, True, True, True, True]</td>\n",
       "      <td>[False, False, False, False, False]</td>\n",
       "      <td>[False, False, False, False, False]</td>\n",
       "    </tr>\n",
       "    <tr>\n",
       "      <th>3</th>\n",
       "      <td>289240aa3b8a1d77</td>\n",
       "      <td>data/TRAIN/train_2/289240aa3b8a1d77.jpg</td>\n",
       "      <td>[0.12125]</td>\n",
       "      <td>[0.4483335000000001]</td>\n",
       "      <td>[0.23125]</td>\n",
       "      <td>[0.413333]</td>\n",
       "      <td>[[8697, 8699]]</td>\n",
       "      <td>[boat]</td>\n",
       "      <td>[True]</td>\n",
       "      <td>[False]</td>\n",
       "      <td>[False]</td>\n",
       "    </tr>\n",
       "    <tr>\n",
       "      <th>4</th>\n",
       "      <td>e2d1fa94455c112b</td>\n",
       "      <td>data/TRAIN/train_e/e2d1fa94455c112b.jpg</td>\n",
       "      <td>[0.690625]</td>\n",
       "      <td>[0.6674525]</td>\n",
       "      <td>[0.17499999999999993]</td>\n",
       "      <td>[0.17924500000000002]</td>\n",
       "      <td>[[8655]]</td>\n",
       "      <td>[boat]</td>\n",
       "      <td>[True]</td>\n",
       "      <td>[False]</td>\n",
       "      <td>[False]</td>\n",
       "    </tr>\n",
       "  </tbody>\n",
       "</table>\n",
       "</div>"
      ],
      "text/plain": [
       "            ImageID                                     Path                                                 cx                                                 cy                                                  w                                                  h                      bbox_ref                   LabelSemantic                            boat                         land_vehicle                           skyscraper\n",
       "0  aa8a3208a030e639  data/TRAIN/train_a/aa8a3208a030e639.jpg                    [0.7224999999999999, 0.2134375]           [0.7517780000000001, 0.8079654999999999]                                [0.15125, 0.189375]          [0.3997160000000001, 0.21906099999999984]            [[], [8700, 8703]]                    [boat, boat]                    [True, True]                       [False, False]                       [False, False]\n",
       "1  f0731d01e1aae91e  data/TRAIN/train_f/f0731d01e1aae91e.jpg                                        [0.4936975]                                        [0.5359375]                               [0.8403370000000001]                                         [0.908125]    [[8728, 8729, 8730, 8731]]                    [skyscraper]                         [False]                              [False]                               [True]\n",
       "2  2fa9a3dba98197c8  data/TRAIN/train_2/2fa9a3dba98197c8.jpg  [0.1546875, 0.284375, 0.338125, 0.411875, 0.65...  [0.55625, 0.6604165, 0.675, 0.5929165000000001...  [0.06187500000000001, 0.025000000000000026, 0....  [0.02083400000000002, 0.019167000000000045, 0....  [[8035], [6423], [], [], []]  [boat, boat, boat, boat, boat]  [True, True, True, True, True]  [False, False, False, False, False]  [False, False, False, False, False]\n",
       "3  289240aa3b8a1d77  data/TRAIN/train_2/289240aa3b8a1d77.jpg                                          [0.12125]                               [0.4483335000000001]                                          [0.23125]                                         [0.413333]                [[8697, 8699]]                          [boat]                          [True]                              [False]                              [False]\n",
       "4  e2d1fa94455c112b  data/TRAIN/train_e/e2d1fa94455c112b.jpg                                         [0.690625]                                        [0.6674525]                              [0.17499999999999993]                              [0.17924500000000002]                      [[8655]]                          [boat]                          [True]                              [False]                              [False]"
      ]
     },
     "execution_count": 5,
     "metadata": {},
     "output_type": "execute_result"
    }
   ],
   "source": [
    "%%time\n",
    "imgs = train[['ImageID', 'Path']].drop_duplicates()\n",
    "#getting the one hot encodes columns\n",
    "dummy_classes = list(train.columns[13:-2])\n",
    "\n",
    "imgs.set_index('ImageID', inplace=True)\n",
    "\n",
    "for c in ['cx', 'cy', 'w', 'h', 'bbox_ref', 'LabelSemantic'] + dummy_classes:\n",
    "    imgs = imgs.join(train.groupby('ImageID')[c].apply(list))\n",
    "\n",
    "imgs.reset_index(inplace=True)\n",
    "display(imgs.shape)\n",
    "imgs.head()"
   ]
  },
  {
   "cell_type": "markdown",
   "metadata": {},
   "source": [
    "At this point, we are creating the target dataset\n",
    "\n",
    "applying the transformations explain in page 5 of the [ssd paper](https://arxiv.org/pdf/1512.02325.pdf)"
   ]
  },
  {
   "cell_type": "code",
   "execution_count": 6,
   "metadata": {},
   "outputs": [
    {
     "data": {
      "text/plain": [
       "(38122, 8732, 8)"
      ]
     },
     "execution_count": 6,
     "metadata": {},
     "output_type": "execute_result"
    }
   ],
   "source": [
    "# This 6 is because the output of the model for each bbox found is 6: 2 classes + (cx, cy, w, h)\n",
    "target = np.zeros((imgs.shape[0],\n",
    "                   standard_bboxes.references.shape[0],\n",
    "                   (1 + len(dummy_classes) + 4)),\n",
    "                  dtype=np.float32)\n",
    "target[:][:] = [1] + [0] * len(dummy_classes) + [0,0,0,0]\n",
    "\n",
    "for i, row in imgs.iterrows():\n",
    "    for cx, cy, w, h, refs, *labels in zip(row.cx, row.cy, row.w, row.h, row.bbox_ref, *row[8:]):\n",
    "        for id_ref in refs:\n",
    "            target[i][int(id_ref)] = [0] + labels + [cx, cy, w, h]\n",
    "        \n",
    "target.shape"
   ]
  },
  {
   "cell_type": "code",
   "execution_count": 7,
   "metadata": {},
   "outputs": [
    {
     "name": "stdout",
     "output_type": "stream",
     "text": [
      "3 8728\n",
      "3 8729\n",
      "3 8731\n"
     ]
    }
   ],
   "source": [
    "for i, r in enumerate(target[31000]):\n",
    "    if r[1] == 1:\n",
    "        print(1, i)\n",
    "    if r[2] == 1:\n",
    "        print(2, i)\n",
    "    if r[3] == 1:\n",
    "        print(3, i)"
   ]
  },
  {
   "cell_type": "markdown",
   "metadata": {},
   "source": [
    "### Hdf5"
   ]
  },
  {
   "cell_type": "code",
   "execution_count": 8,
   "metadata": {},
   "outputs": [],
   "source": [
    "filepath = os.path.join(content.DATAPATH, \"MODEL\", \"part_data_300_vgg.h5\")"
   ]
  },
  {
   "cell_type": "code",
   "execution_count": 9,
   "metadata": {},
   "outputs": [],
   "source": [
    "imgs.to_hdf(filepath, key='X', mode='w')\n",
    "\n",
    "with h5py.File(filepath, 'a') as f:\n",
    "    f.create_dataset('y', data=target, dtype=np.float16)"
   ]
  },
  {
   "cell_type": "markdown",
   "metadata": {},
   "source": [
    "#### Reading"
   ]
  },
  {
   "cell_type": "code",
   "execution_count": 10,
   "metadata": {},
   "outputs": [],
   "source": [
    "read_data = pd.read_hdf(filepath, 'X', mode='r')"
   ]
  },
  {
   "cell_type": "code",
   "execution_count": 11,
   "metadata": {},
   "outputs": [
    {
     "data": {
      "text/plain": [
       "(38122, 8732, 8)"
      ]
     },
     "execution_count": 11,
     "metadata": {},
     "output_type": "execute_result"
    }
   ],
   "source": [
    "with h5py.File(filepath, 'r') as f:\n",
    "    dset = f['y'][:]\n",
    "dset.shape"
   ]
  },
  {
   "cell_type": "code",
   "execution_count": 12,
   "metadata": {},
   "outputs": [
    {
     "data": {
      "text/html": [
       "<div>\n",
       "<style scoped>\n",
       "    .dataframe tbody tr th:only-of-type {\n",
       "        vertical-align: middle;\n",
       "    }\n",
       "\n",
       "    .dataframe tbody tr th {\n",
       "        vertical-align: top;\n",
       "    }\n",
       "\n",
       "    .dataframe thead th {\n",
       "        text-align: right;\n",
       "    }\n",
       "</style>\n",
       "<table border=\"1\" class=\"dataframe\">\n",
       "  <thead>\n",
       "    <tr style=\"text-align: right;\">\n",
       "      <th></th>\n",
       "      <th>ImageID</th>\n",
       "      <th>Path</th>\n",
       "      <th>cx</th>\n",
       "      <th>cy</th>\n",
       "      <th>w</th>\n",
       "      <th>h</th>\n",
       "      <th>bbox_ref</th>\n",
       "      <th>LabelSemantic</th>\n",
       "      <th>boat</th>\n",
       "      <th>land_vehicle</th>\n",
       "      <th>skyscraper</th>\n",
       "    </tr>\n",
       "  </thead>\n",
       "  <tbody>\n",
       "    <tr>\n",
       "      <th>0</th>\n",
       "      <td>aa8a3208a030e639</td>\n",
       "      <td>data/TRAIN/train_a/aa8a3208a030e639.jpg</td>\n",
       "      <td>[0.7224999999999999, 0.2134375]</td>\n",
       "      <td>[0.7517780000000001, 0.8079654999999999]</td>\n",
       "      <td>[0.15125, 0.189375]</td>\n",
       "      <td>[0.3997160000000001, 0.21906099999999984]</td>\n",
       "      <td>[[], [8700, 8703]]</td>\n",
       "      <td>[boat, boat]</td>\n",
       "      <td>[True, True]</td>\n",
       "      <td>[False, False]</td>\n",
       "      <td>[False, False]</td>\n",
       "    </tr>\n",
       "    <tr>\n",
       "      <th>1</th>\n",
       "      <td>f0731d01e1aae91e</td>\n",
       "      <td>data/TRAIN/train_f/f0731d01e1aae91e.jpg</td>\n",
       "      <td>[0.4936975]</td>\n",
       "      <td>[0.5359375]</td>\n",
       "      <td>[0.8403370000000001]</td>\n",
       "      <td>[0.908125]</td>\n",
       "      <td>[[8728, 8729, 8730, 8731]]</td>\n",
       "      <td>[skyscraper]</td>\n",
       "      <td>[False]</td>\n",
       "      <td>[False]</td>\n",
       "      <td>[True]</td>\n",
       "    </tr>\n",
       "  </tbody>\n",
       "</table>\n",
       "</div>"
      ],
      "text/plain": [
       "            ImageID                                     Path                               cx                                        cy                     w                                          h                    bbox_ref LabelSemantic          boat    land_vehicle      skyscraper\n",
       "0  aa8a3208a030e639  data/TRAIN/train_a/aa8a3208a030e639.jpg  [0.7224999999999999, 0.2134375]  [0.7517780000000001, 0.8079654999999999]   [0.15125, 0.189375]  [0.3997160000000001, 0.21906099999999984]          [[], [8700, 8703]]  [boat, boat]  [True, True]  [False, False]  [False, False]\n",
       "1  f0731d01e1aae91e  data/TRAIN/train_f/f0731d01e1aae91e.jpg                      [0.4936975]                               [0.5359375]  [0.8403370000000001]                                 [0.908125]  [[8728, 8729, 8730, 8731]]  [skyscraper]       [False]         [False]          [True]"
      ]
     },
     "execution_count": 12,
     "metadata": {},
     "output_type": "execute_result"
    }
   ],
   "source": [
    "read_data.head(2)"
   ]
  },
  {
   "cell_type": "code",
   "execution_count": 13,
   "metadata": {},
   "outputs": [
    {
     "data": {
      "text/plain": [
       "cx    0.500000\n",
       "cy    0.833333\n",
       "w     0.179134\n",
       "h     0.358267\n",
       "Name: 8713, dtype: float64"
      ]
     },
     "execution_count": 13,
     "metadata": {},
     "output_type": "execute_result"
    }
   ],
   "source": [
    "standard_bboxes.references.iloc[8713]"
   ]
  },
  {
   "cell_type": "code",
   "execution_count": 14,
   "metadata": {},
   "outputs": [
    {
     "data": {
      "text/plain": [
       "array([0.    , 1.    , 0.    , 0.    , 0.2134, 0.808 , 0.1893, 0.2191],\n",
       "      dtype=float16)"
      ]
     },
     "execution_count": 14,
     "metadata": {},
     "output_type": "execute_result"
    }
   ],
   "source": [
    "dset[0][8700]"
   ]
  }
 ],
 "metadata": {
  "kernelspec": {
   "display_name": "Python 3",
   "language": "python",
   "name": "python3"
  },
  "language_info": {
   "codemirror_mode": {
    "name": "ipython",
    "version": 3
   },
   "file_extension": ".py",
   "mimetype": "text/x-python",
   "name": "python",
   "nbconvert_exporter": "python",
   "pygments_lexer": "ipython3",
   "version": "3.7.3"
  },
  "toc": {
   "base_numbering": 1,
   "nav_menu": {},
   "number_sections": false,
   "sideBar": true,
   "skip_h1_title": false,
   "title_cell": "Table of Contents",
   "title_sidebar": "Contents",
   "toc_cell": false,
   "toc_position": {
    "height": "calc(100% - 180px)",
    "left": "10px",
    "top": "150px",
    "width": "270px"
   },
   "toc_section_display": true,
   "toc_window_display": false
  }
 },
 "nbformat": 4,
 "nbformat_minor": 2
}
