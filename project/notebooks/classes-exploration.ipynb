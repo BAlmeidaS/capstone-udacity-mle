{
 "cells": [
  {
   "cell_type": "code",
   "execution_count": 1,
   "metadata": {},
   "outputs": [
    {
     "name": "stderr",
     "output_type": "stream",
     "text": [
      "Using TensorFlow backend.\n"
     ]
    }
   ],
   "source": [
    "# imports\n",
    "import os\n",
    "os.sys.path.append(os.path.abspath(\"../..\"))\n",
    "\n",
    "import tensorflow as tf\n",
    "\n",
    "# from copy import deepcopy\n",
    "\n",
    "import pandas as pd\n",
    "import numpy as np\n",
    "import h5py\n",
    "\n",
    "from tqdm import tqdm\n",
    "\n",
    "from matplotlib import pyplot as plt\n",
    "\n",
    "# import json\n",
    "\n",
    "# import notebooks_utils.analysis as utils\n",
    "from notebooks_utils import visuals\n",
    "\n",
    "# from IPython.display import display\n",
    "\n",
    "import project.download_content as content\n",
    "from project.utils import data\n",
    "# from project.utils import data_augmentation as da\n",
    "from project.model.loss import BBOX_REF\n",
    "\n",
    "# from project import train\n",
    "\n",
    "from copy import deepcopy\n",
    "\n",
    "\n",
    "# from keras.applications import VGG19, VGG16\n",
    "from keras.preprocessing import image\n",
    "# from keras.applications.vgg19 import preprocess_input as preprocess_19\n",
    "# from keras.applications.vgg16 import preprocess_input as preprocess_16\n",
    "# from keras.models import Model\n",
    "\n",
    "# from keras import backend as K\n",
    "# from keras import layers\n",
    "from keras.optimizers import Adam, SGD\n",
    "\n",
    "import pickle\n",
    "\n",
    "from project.model.ssd_model_300 import ssd_model_300\n",
    "from project.model.ssd_model_624 import ssd_model_624\n",
    "from project.model.ssd_model_624_vgg_19 import ssd_model_624_vgg_19\n",
    "from project.model.loss import SSDloss\n",
    "\n",
    "from project.utils.data_bbox_match_hdf5 import load_model\n",
    "\n",
    "ohc = load_model()\n",
    "# from project.utils import data\n",
    "datapath = os.path.join(content.DATAPATH, \"MODEL\", \"data_300_vgg.h5\")\n",
    "\n",
    "anchors = BBOX_REF.references.values\n",
    "\n",
    "tqdm.pandas()"
   ]
  },
  {
   "cell_type": "code",
   "execution_count": 2,
   "metadata": {},
   "outputs": [
    {
     "name": "stdout",
     "output_type": "stream",
     "text": [
      "A total of 39 were chosen\n",
      "[13, 52, 63, 70, 90, 104, 115, 184, 194, 198, 202, 215, 256, 258, 260, 262, 263, 265, 266, 267, 268, 269, 270, 300, 319, 320, 379, 391, 464, 466, 482, 500, 512, 534, 551, 565, 580, 585, 592]\n"
     ]
    }
   ],
   "source": [
    "classes = [c[3:] for c in ohc.get_feature_names()]\n",
    "\n",
    "# the explanation abou why this classes is in EDA\n",
    "topclasses = ['auto_part', 'boat', 'boy', 'building', 'car', 'chair', 'clothing',\n",
    " 'fashion_accessory', 'flower', 'food', 'footwear', 'girl', 'house', 'human_arm',\n",
    " 'human_body', 'human_eye', 'human_face', 'human_hair', 'human_hand',\n",
    " 'human_head', 'human_leg', 'human_mouth', 'human_nose', 'land_vehicle',\n",
    " 'mammal', 'man', 'person', 'plant', 'skyscraper', 'snack', 'sports_equipment',\n",
    " 'suit', 'table', 'tire', 'tree', 'vehicle', 'wheel', 'window', 'woman']\n",
    "\n",
    "topclasses_ind = []\n",
    "\n",
    "for i, c in enumerate(classes):\n",
    "    if c in topclasses:\n",
    "        # plus one is because in the classify model the first class is the no-class\n",
    "        topclasses_ind.append(i)\n",
    "\n",
    "print(f\"A total of {len(topclasses_ind)} were chosen\")\n",
    "print(topclasses_ind)"
   ]
  }
 ],
 "metadata": {
  "kernelspec": {
   "display_name": "Python 3",
   "language": "python",
   "name": "python3"
  },
  "language_info": {
   "codemirror_mode": {
    "name": "ipython",
    "version": 3
   },
   "file_extension": ".py",
   "mimetype": "text/x-python",
   "name": "python",
   "nbconvert_exporter": "python",
   "pygments_lexer": "ipython3",
   "version": "3.7.3"
  },
  "toc": {
   "base_numbering": 1,
   "nav_menu": {},
   "number_sections": true,
   "sideBar": true,
   "skip_h1_title": false,
   "title_cell": "Table of Contents",
   "title_sidebar": "Contents",
   "toc_cell": false,
   "toc_position": {},
   "toc_section_display": true,
   "toc_window_display": false
  }
 },
 "nbformat": 4,
 "nbformat_minor": 2
}
