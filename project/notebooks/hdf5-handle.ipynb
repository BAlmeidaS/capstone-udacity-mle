{
 "cells": [
  {
   "cell_type": "code",
   "execution_count": 1,
   "metadata": {},
   "outputs": [],
   "source": [
    "import os\n",
    "os.sys.path.append('../..')\n",
    "\n",
    "import h5py\n",
    "\n",
    "from tqdm import tqdm\n",
    "\n",
    "from IPython.display import display\n",
    "\n",
    "import project.download_content as content\n",
    "\n",
    "files = [\n",
    "    \"/media/external/all_classes_300x300_0.h5\",\n",
    "    \"/media/external/all_classes_300x300_1.h5\",\n",
    "    \"/media/external/all_classes_300x300_2.h5\",\n",
    "    \"/media/external/all_classes_300x300_3.h5\",\n",
    "    \"/media/external/all_classes_300x300_4.h5\",\n",
    "    \"/media/external/all_classes_300x300_5.h5\",\n",
    "    \"/media/external/all_classes_300x300_6.h5\",\n",
    "    \"/media/external/all_classes_300x300_7.h5\",\n",
    "]"
   ]
  },
  {
   "cell_type": "code",
   "execution_count": 10,
   "metadata": {},
   "outputs": [],
   "source": [
    "for f_path in files:\n",
    "    with h5py.File(f_path, 'a') as f:\n",
    "        try:\n",
    "            del f['batches']\n",
    "        except KeyError:\n",
    "            pass"
   ]
  },
  {
   "cell_type": "code",
   "execution_count": 11,
   "metadata": {},
   "outputs": [
    {
     "name": "stderr",
     "output_type": "stream",
     "text": [
      "\n",
      "  0%|          | 0/8 [00:00<?, ?it/s]\u001b[A\n",
      " 38%|███▊      | 3/8 [00:40<01:07, 13.60s/it]\u001b[A\n",
      " 50%|█████     | 4/8 [01:21<01:27, 21.76s/it]\u001b[A\n",
      " 62%|██████▎   | 5/8 [02:02<01:22, 27.54s/it]\u001b[A\n",
      " 75%|███████▌  | 6/8 [02:31<00:55, 27.82s/it]\u001b[A\n",
      " 88%|████████▊ | 7/8 [02:59<00:28, 28.14s/it]\u001b[A\n",
      "100%|██████████| 8/8 [03:30<00:00, 26.29s/it]\u001b[A"
     ]
    },
    {
     "name": "stdout",
     "output_type": "stream",
     "text": [
      "CPU times: user 1.94 s, sys: 2.66 s, total: 4.59 s\n",
      "Wall time: 3min 30s\n"
     ]
    },
    {
     "name": "stderr",
     "output_type": "stream",
     "text": [
      "\n"
     ]
    }
   ],
   "source": [
    "%%time\n",
    "for f_path in tqdm(files):\n",
    "    with h5py.File(f_path, 'a') as f:\n",
    "        keys = f.keys()\n",
    "        if not 'batches' in keys:\n",
    "            unique_ids = set(i[:-2] for i in keys)\n",
    "\n",
    "            batches = []\n",
    "\n",
    "            for id in unique_ids:\n",
    "                batches.append([f\"{id}-x\".encode(\"ascii\", \"ignore\"),\n",
    "                                f\"{id}-y\".encode(\"ascii\", \"ignore\")])\n",
    "\n",
    "            f.create_dataset(name='batches',\n",
    "                             shape=(len(batches), 2),\n",
    "                             data=batches,\n",
    "                             dtype=h5py.special_dtype(vlen=str),\n",
    "                             compression='gzip',\n",
    "                             compression_opts=1)"
   ]
  },
  {
   "cell_type": "code",
   "execution_count": null,
   "metadata": {},
   "outputs": [
    {
     "name": "stderr",
     "output_type": "stream",
     "text": [
      "\n",
      "  0%|          | 0/8 [00:00<?, ?it/s]\u001b[A\n",
      " 12%|█▎        | 1/8 [01:54<13:24, 114.99s/it]\u001b[A"
     ]
    },
    {
     "name": "stdout",
     "output_type": "stream",
     "text": [
      "file /media/external/all_classes_300x300_0.h5 has 14583 datasets\n",
      "The image dataset has 7291 batches (7291 x 2) + 1 = 14583\n",
      "This dataset has a total of 318361 images\n",
      "  the first image x ref in /media/external/all_classes_300x300_0.h5 is present? True\n",
      "  the first image y ref in /media/external/all_classes_300x300_0.h5 is present? True\n",
      "   the last image x ref in /media/external/all_classes_300x300_0.h5 is present? True\n",
      "   the last image y ref in /media/external/all_classes_300x300_0.h5 is present? True\n",
      "\n"
     ]
    },
    {
     "name": "stderr",
     "output_type": "stream",
     "text": [
      "\n",
      " 25%|██▌       | 2/8 [03:48<11:27, 114.50s/it]\u001b[A"
     ]
    },
    {
     "name": "stdout",
     "output_type": "stream",
     "text": [
      "file /media/external/all_classes_300x300_1.h5 has 14563 datasets\n",
      "The image dataset has 7281 batches (7281 x 2) + 1 = 14563\n",
      "This dataset has a total of 319633 images\n",
      "  the first image x ref in /media/external/all_classes_300x300_1.h5 is present? True\n",
      "  the first image y ref in /media/external/all_classes_300x300_1.h5 is present? True\n",
      "   the last image x ref in /media/external/all_classes_300x300_1.h5 is present? True\n",
      "   the last image y ref in /media/external/all_classes_300x300_1.h5 is present? True\n",
      "\n"
     ]
    },
    {
     "name": "stderr",
     "output_type": "stream",
     "text": [
      "\n",
      " 38%|███▊      | 3/8 [05:41<09:29, 113.97s/it]\u001b[A"
     ]
    },
    {
     "name": "stdout",
     "output_type": "stream",
     "text": [
      "file /media/external/all_classes_300x300_2.h5 has 14543 datasets\n",
      "The image dataset has 7271 batches (7271 x 2) + 1 = 14543\n",
      "This dataset has a total of 319568 images\n",
      "  the first image x ref in /media/external/all_classes_300x300_2.h5 is present? True\n",
      "  the first image y ref in /media/external/all_classes_300x300_2.h5 is present? True\n",
      "   the last image x ref in /media/external/all_classes_300x300_2.h5 is present? True\n",
      "   the last image y ref in /media/external/all_classes_300x300_2.h5 is present? True\n",
      "\n"
     ]
    },
    {
     "name": "stderr",
     "output_type": "stream",
     "text": [
      "\n",
      " 50%|█████     | 4/8 [07:33<07:34, 113.63s/it]\u001b[A"
     ]
    },
    {
     "name": "stdout",
     "output_type": "stream",
     "text": [
      "file /media/external/all_classes_300x300_3.h5 has 14535 datasets\n",
      "The image dataset has 7267 batches (7267 x 2) + 1 = 14535\n",
      "This dataset has a total of 318689 images\n",
      "  the first image x ref in /media/external/all_classes_300x300_3.h5 is present? True\n",
      "  the first image y ref in /media/external/all_classes_300x300_3.h5 is present? True\n",
      "   the last image x ref in /media/external/all_classes_300x300_3.h5 is present? True\n",
      "   the last image y ref in /media/external/all_classes_300x300_3.h5 is present? True\n",
      "\n"
     ]
    },
    {
     "name": "stderr",
     "output_type": "stream",
     "text": [
      "\n",
      " 62%|██████▎   | 5/8 [09:27<05:40, 113.64s/it]\u001b[A"
     ]
    },
    {
     "name": "stdout",
     "output_type": "stream",
     "text": [
      "file /media/external/all_classes_300x300_4.h5 has 14519 datasets\n",
      "The image dataset has 7259 batches (7259 x 2) + 1 = 14519\n",
      "This dataset has a total of 319485 images\n",
      "  the first image x ref in /media/external/all_classes_300x300_4.h5 is present? True\n",
      "  the first image y ref in /media/external/all_classes_300x300_4.h5 is present? True\n",
      "   the last image x ref in /media/external/all_classes_300x300_4.h5 is present? True\n",
      "   the last image y ref in /media/external/all_classes_300x300_4.h5 is present? True\n",
      "\n"
     ]
    },
    {
     "name": "stderr",
     "output_type": "stream",
     "text": [
      "\n",
      " 75%|███████▌  | 6/8 [10:49<03:28, 104.18s/it]\u001b[A"
     ]
    },
    {
     "name": "stdout",
     "output_type": "stream",
     "text": [
      "file /media/external/all_classes_300x300_5.h5 has 14509 datasets\n",
      "The image dataset has 7254 batches (7254 x 2) + 1 = 14509\n",
      "This dataset has a total of 318354 images\n",
      "  the first image x ref in /media/external/all_classes_300x300_5.h5 is present? True\n",
      "  the first image y ref in /media/external/all_classes_300x300_5.h5 is present? True\n",
      "   the last image x ref in /media/external/all_classes_300x300_5.h5 is present? True\n",
      "   the last image y ref in /media/external/all_classes_300x300_5.h5 is present? True\n",
      "\n"
     ]
    },
    {
     "name": "stderr",
     "output_type": "stream",
     "text": [
      "\n",
      " 88%|████████▊ | 7/8 [12:14<01:38, 98.41s/it] \u001b[A"
     ]
    },
    {
     "name": "stdout",
     "output_type": "stream",
     "text": [
      "file /media/external/all_classes_300x300_6.h5 has 14505 datasets\n",
      "The image dataset has 7252 batches (7252 x 2) + 1 = 14505\n",
      "This dataset has a total of 317831 images\n",
      "  the first image x ref in /media/external/all_classes_300x300_6.h5 is present? True\n",
      "  the first image y ref in /media/external/all_classes_300x300_6.h5 is present? True\n",
      "   the last image x ref in /media/external/all_classes_300x300_6.h5 is present? True\n",
      "   the last image y ref in /media/external/all_classes_300x300_6.h5 is present? True\n",
      "\n"
     ]
    }
   ],
   "source": [
    "%%time\n",
    "total_batches = 0\n",
    "total_images = 0\n",
    "\n",
    "for f_path in tqdm(files):\n",
    "    with h5py.File(f_path, 'r') as f:\n",
    "        keys = f.keys() \n",
    "        first = f['batches'][0]\n",
    "        last = f['batches'][-1]\n",
    "        partial_images = 0\n",
    "        \n",
    "        for x_ref, y_ref in f['batches']:\n",
    "            temp_count = f[x_ref].shape[0]\n",
    "            partial_images += temp_count\n",
    "            total_images += temp_count\n",
    "            \n",
    "        total_batches += len(f[\"batches\"])\n",
    "        \n",
    "        print('file', f_path, 'has', len(keys), 'datasets')\n",
    "        print('The image dataset has', len(f['batches']), 'batches',\n",
    "              f'({len(f[\"batches\"])} x 2) + 1 =', (len(f[\"batches\"])*2 + 1))\n",
    "        print('This dataset has a total of', partial_images, 'images')\n",
    "        \n",
    "        print('  the first image x ref in', f_path, \"is present?\", \n",
    "              (first[0] in keys))\n",
    "        print('  the first image y ref in', f_path, \"is present?\", \n",
    "              (first[1] in keys))\n",
    "        print('   the last image x ref in', f_path, \"is present?\", \n",
    "              (last[0] in keys))\n",
    "        print('   the last image y ref in', f_path, \"is present?\", \n",
    "              (last[1] in keys), end='\\n\\n')\n",
    "        \n",
    "        \n",
    "print(f'A total of {total_batches} batches are going to be used in train')\n",
    "print(f'there are {total_images} images among this batches')"
   ]
  },
  {
   "cell_type": "code",
   "execution_count": null,
   "metadata": {},
   "outputs": [],
   "source": [
    "with h5py.File(files[4], 'r') as f:\n",
    "    print('''\n",
    "        An example row, has N images 300x300 pixels with 3 color layers\n",
    "    ''')\n",
    "    display(f[f['batches'][272][0]].shape)\n",
    "    print('''\n",
    "        and each of their targets has 8732 positions of possible bboxes\n",
    "        predicting 39 classes + 1 no class and 4 numbers of anchors box\n",
    "    ''')\n",
    "    display(f[f['batches'][272][1]].shape)"
   ]
  }
 ],
 "metadata": {
  "kernelspec": {
   "display_name": "Python 3",
   "language": "python",
   "name": "python3"
  },
  "language_info": {
   "codemirror_mode": {
    "name": "ipython",
    "version": 3
   },
   "file_extension": ".py",
   "mimetype": "text/x-python",
   "name": "python",
   "nbconvert_exporter": "python",
   "pygments_lexer": "ipython3",
   "version": "3.7.3"
  },
  "toc": {
   "base_numbering": 1,
   "nav_menu": {},
   "number_sections": true,
   "sideBar": true,
   "skip_h1_title": false,
   "title_cell": "Table of Contents",
   "title_sidebar": "Contents",
   "toc_cell": false,
   "toc_position": {},
   "toc_section_display": true,
   "toc_window_display": false
  }
 },
 "nbformat": 4,
 "nbformat_minor": 2
}
