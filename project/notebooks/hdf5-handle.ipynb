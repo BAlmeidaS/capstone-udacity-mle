{
 "cells": [
  {
   "cell_type": "code",
   "execution_count": 1,
   "metadata": {},
   "outputs": [],
   "source": [
    "import h5py\n",
    "\n",
    "files = [\n",
    "    \"/media/external/39_classes_300x300_0.h5\",\n",
    "    \"/media/external/39_classes_300x300_1.h5\",\n",
    "    \"/media/external/39_classes_300x300_2.h5\",\n",
    "    \"/media/external/39_classes_300x300_3.h5\",\n",
    "    \"/media/external/39_classes_300x300_4.h5\",\n",
    "    \"/media/external/39_classes_300x300_5.h5\",\n",
    "    \"/media/external/39_classes_300x300_6.h5\",\n",
    "    \"/media/external/39_classes_300x300_7.h5\",\n",
    "    \n",
    "]"
   ]
  },
  {
   "cell_type": "code",
   "execution_count": 2,
   "metadata": {},
   "outputs": [],
   "source": [
    "for f_path in files:\n",
    "    with h5py.File(f_path, 'a') as f:\n",
    "        l = list(f.keys())\n",
    "        unique_ids = set(i[:-2] for i in l)\n",
    "        \n",
    "        images = []\n",
    "\n",
    "        for id in unique_ids:\n",
    "            images.append([f\"{id}-x\".encode(\"ascii\", \"ignore\"),\n",
    "                           f\"{id}-y\".encode(\"ascii\", \"ignore\")])\n",
    "            \n",
    "        f.create_dataset(name='images',\n",
    "                         shape=(len(images), 2),\n",
    "                         data=images,\n",
    "                         dtype=h5py.special_dtype(vlen=str),\n",
    "                         compression='gzip',\n",
    "                         compression_opts=9)"
   ]
  }
 ],
 "metadata": {
  "kernelspec": {
   "display_name": "Python 3",
   "language": "python",
   "name": "python3"
  },
  "language_info": {
   "codemirror_mode": {
    "name": "ipython",
    "version": 3
   },
   "file_extension": ".py",
   "mimetype": "text/x-python",
   "name": "python",
   "nbconvert_exporter": "python",
   "pygments_lexer": "ipython3",
   "version": "3.7.3"
  },
  "toc": {
   "base_numbering": 1,
   "nav_menu": {},
   "number_sections": true,
   "sideBar": true,
   "skip_h1_title": false,
   "title_cell": "Table of Contents",
   "title_sidebar": "Contents",
   "toc_cell": false,
   "toc_position": {},
   "toc_section_display": true,
   "toc_window_display": false
  }
 },
 "nbformat": 4,
 "nbformat_minor": 2
}
