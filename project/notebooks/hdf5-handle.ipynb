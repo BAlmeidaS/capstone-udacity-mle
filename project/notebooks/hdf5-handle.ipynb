{
 "cells": [
  {
   "cell_type": "code",
   "execution_count": 2,
   "metadata": {},
   "outputs": [],
   "source": [
    "import os\n",
    "os.sys.path.append('../..')\n",
    "\n",
    "import h5py\n",
    "from IPython.display import display\n",
    "\n",
    "import project.download_content as content\n",
    "\n",
    "files = [\n",
    "    os.path.join(content.DATAPATH, 'MODEL', '3_classes_300x300.h5_0.h5'),\n",
    "    os.path.join(content.DATAPATH, 'MODEL', '3_classes_300x300.h5_1.h5'),\n",
    "    os.path.join(content.DATAPATH, 'MODEL', '3_classes_300x300.h5_2.h5'),\n",
    "    os.path.join(content.DATAPATH, 'MODEL', '3_classes_300x300.h5_3.h5'),\n",
    "    os.path.join(content.DATAPATH, 'MODEL', '3_classes_300x300.h5_4.h5'),\n",
    "    os.path.join(content.DATAPATH, 'MODEL', '3_classes_300x300.h5_5.h5'),\n",
    "    os.path.join(content.DATAPATH, 'MODEL', '3_classes_300x300.h5_6.h5'),\n",
    "    os.path.join(content.DATAPATH, 'MODEL', '3_classes_300x300.h5_7.h5'),\n",
    "]"
   ]
  },
  {
   "cell_type": "code",
   "execution_count": 3,
   "metadata": {},
   "outputs": [
    {
     "name": "stdout",
     "output_type": "stream",
     "text": [
      "CPU times: user 7.39 ms, sys: 0 ns, total: 7.39 ms\n",
      "Wall time: 7.4 ms\n"
     ]
    }
   ],
   "source": [
    "%%time\n",
    "for f_path in files:\n",
    "    with h5py.File(f_path, 'a') as f:\n",
    "        l = list(f.keys())\n",
    "        if not 'images' in l:\n",
    "            unique_ids = set(i[:-2] for i in l)\n",
    "\n",
    "            images = []\n",
    "\n",
    "            for id in unique_ids:\n",
    "                images.append([f\"{id}-x\".encode(\"ascii\", \"ignore\"),\n",
    "                               f\"{id}-y\".encode(\"ascii\", \"ignore\")])\n",
    "\n",
    "            f.create_dataset(name='images',\n",
    "                             shape=(len(images), 2),\n",
    "                             data=images,\n",
    "                             dtype=h5py.special_dtype(vlen=str),\n",
    "                             compression='gzip',\n",
    "                             compression_opts=9)"
   ]
  },
  {
   "cell_type": "code",
   "execution_count": 6,
   "metadata": {},
   "outputs": [
    {
     "name": "stdout",
     "output_type": "stream",
     "text": [
      "file ../data/MODEL/3_classes_300x300.h5_0.h5 has 81 datasets\n",
      "The image dataset has 40 batches (40 x 2) + 1 = 81\n",
      "This dataset has a total of 6960 images\n",
      "  the first image x ref in ../data/MODEL/3_classes_300x300.h5_0.h5 is present? True\n",
      "  the first image y ref in ../data/MODEL/3_classes_300x300.h5_0.h5 is present? True\n",
      "   the last image x ref in ../data/MODEL/3_classes_300x300.h5_0.h5 is present? True\n",
      "   the last image y ref in ../data/MODEL/3_classes_300x300.h5_0.h5 is present? True\n",
      "\n",
      "file ../data/MODEL/3_classes_300x300.h5_1.h5 has 81 datasets\n",
      "The image dataset has 40 batches (40 x 2) + 1 = 81\n",
      "This dataset has a total of 6953 images\n",
      "  the first image x ref in ../data/MODEL/3_classes_300x300.h5_1.h5 is present? True\n",
      "  the first image y ref in ../data/MODEL/3_classes_300x300.h5_1.h5 is present? True\n",
      "   the last image x ref in ../data/MODEL/3_classes_300x300.h5_1.h5 is present? True\n",
      "   the last image y ref in ../data/MODEL/3_classes_300x300.h5_1.h5 is present? True\n",
      "\n",
      "file ../data/MODEL/3_classes_300x300.h5_2.h5 has 81 datasets\n",
      "The image dataset has 40 batches (40 x 2) + 1 = 81\n",
      "This dataset has a total of 6977 images\n",
      "  the first image x ref in ../data/MODEL/3_classes_300x300.h5_2.h5 is present? True\n",
      "  the first image y ref in ../data/MODEL/3_classes_300x300.h5_2.h5 is present? True\n",
      "   the last image x ref in ../data/MODEL/3_classes_300x300.h5_2.h5 is present? True\n",
      "   the last image y ref in ../data/MODEL/3_classes_300x300.h5_2.h5 is present? True\n",
      "\n",
      "file ../data/MODEL/3_classes_300x300.h5_3.h5 has 81 datasets\n",
      "The image dataset has 40 batches (40 x 2) + 1 = 81\n",
      "This dataset has a total of 7050 images\n",
      "  the first image x ref in ../data/MODEL/3_classes_300x300.h5_3.h5 is present? True\n",
      "  the first image y ref in ../data/MODEL/3_classes_300x300.h5_3.h5 is present? True\n",
      "   the last image x ref in ../data/MODEL/3_classes_300x300.h5_3.h5 is present? True\n",
      "   the last image y ref in ../data/MODEL/3_classes_300x300.h5_3.h5 is present? True\n",
      "\n",
      "file ../data/MODEL/3_classes_300x300.h5_4.h5 has 81 datasets\n",
      "The image dataset has 40 batches (40 x 2) + 1 = 81\n",
      "This dataset has a total of 6928 images\n",
      "  the first image x ref in ../data/MODEL/3_classes_300x300.h5_4.h5 is present? True\n",
      "  the first image y ref in ../data/MODEL/3_classes_300x300.h5_4.h5 is present? True\n",
      "   the last image x ref in ../data/MODEL/3_classes_300x300.h5_4.h5 is present? True\n",
      "   the last image y ref in ../data/MODEL/3_classes_300x300.h5_4.h5 is present? True\n",
      "\n",
      "file ../data/MODEL/3_classes_300x300.h5_5.h5 has 81 datasets\n",
      "The image dataset has 40 batches (40 x 2) + 1 = 81\n",
      "This dataset has a total of 7049 images\n",
      "  the first image x ref in ../data/MODEL/3_classes_300x300.h5_5.h5 is present? True\n",
      "  the first image y ref in ../data/MODEL/3_classes_300x300.h5_5.h5 is present? True\n",
      "   the last image x ref in ../data/MODEL/3_classes_300x300.h5_5.h5 is present? True\n",
      "   the last image y ref in ../data/MODEL/3_classes_300x300.h5_5.h5 is present? True\n",
      "\n",
      "file ../data/MODEL/3_classes_300x300.h5_6.h5 has 81 datasets\n",
      "The image dataset has 40 batches (40 x 2) + 1 = 81\n",
      "This dataset has a total of 7030 images\n",
      "  the first image x ref in ../data/MODEL/3_classes_300x300.h5_6.h5 is present? True\n",
      "  the first image y ref in ../data/MODEL/3_classes_300x300.h5_6.h5 is present? True\n",
      "   the last image x ref in ../data/MODEL/3_classes_300x300.h5_6.h5 is present? True\n",
      "   the last image y ref in ../data/MODEL/3_classes_300x300.h5_6.h5 is present? True\n",
      "\n",
      "file ../data/MODEL/3_classes_300x300.h5_7.h5 has 81 datasets\n",
      "The image dataset has 40 batches (40 x 2) + 1 = 81\n",
      "This dataset has a total of 6744 images\n",
      "  the first image x ref in ../data/MODEL/3_classes_300x300.h5_7.h5 is present? True\n",
      "  the first image y ref in ../data/MODEL/3_classes_300x300.h5_7.h5 is present? True\n",
      "   the last image x ref in ../data/MODEL/3_classes_300x300.h5_7.h5 is present? True\n",
      "   the last image y ref in ../data/MODEL/3_classes_300x300.h5_7.h5 is present? True\n",
      "\n",
      "A total of 320 batches are going to be used in train\n",
      "there are 55691 images among this batches\n",
      "CPU times: user 69.4 ms, sys: 4.12 ms, total: 73.5 ms\n",
      "Wall time: 69.7 ms\n"
     ]
    }
   ],
   "source": [
    "%%time\n",
    "total_batches = 0\n",
    "total_images = 0\n",
    "\n",
    "for f_path in files:\n",
    "    with h5py.File(f_path, 'r') as f:\n",
    "        l = list(f.keys())\n",
    "        first = f['images'][0]\n",
    "        last = f['images'][-1]\n",
    "        partial_images = 0\n",
    "        \n",
    "        for x_ref, y_ref in f['images']:\n",
    "            temp_count = f[x_ref].shape[0]\n",
    "            partial_images += temp_count\n",
    "            total_images += temp_count\n",
    "            \n",
    "        total_batches += len(f[\"images\"])\n",
    "        \n",
    "        print('file', f_path, 'has', len(l), 'datasets')\n",
    "        print('The image dataset has', len(f['images']), 'batches',\n",
    "              f'({len(f[\"images\"])} x 2) + 1 =', (len(f[\"images\"])*2 + 1))\n",
    "        print('This dataset has a total of', partial_images, 'images')\n",
    "        \n",
    "        print('  the first image x ref in', f_path, \"is present?\", \n",
    "              (first[0] in l))\n",
    "        print('  the first image y ref in', f_path, \"is present?\", \n",
    "              (first[1] in l))\n",
    "        print('   the last image x ref in', f_path, \"is present?\", \n",
    "              (last[0] in l))\n",
    "        print('   the last image y ref in', f_path, \"is present?\", \n",
    "              (last[1] in l), end='\\n\\n')\n",
    "        \n",
    "        \n",
    "print(f'A total of {total_batches} batches are going to be used in train')\n",
    "print(f'there are {total_images} images among this batches')"
   ]
  },
  {
   "cell_type": "code",
   "execution_count": 5,
   "metadata": {},
   "outputs": [
    {
     "name": "stdout",
     "output_type": "stream",
     "text": [
      "\n",
      "        An example row, has N images 300x300 pixels with 3 color layers\n",
      "    \n"
     ]
    },
    {
     "data": {
      "text/plain": [
       "(175, 300, 300, 3)"
      ]
     },
     "metadata": {},
     "output_type": "display_data"
    },
    {
     "name": "stdout",
     "output_type": "stream",
     "text": [
      "\n",
      "        and each of their targets has 8732 positions of possible bboxes\n",
      "        predicting 39 classes + 1 no class and 4 numbers of anchors box\n",
      "    \n"
     ]
    },
    {
     "data": {
      "text/plain": [
       "(175, 8732, 8)"
      ]
     },
     "metadata": {},
     "output_type": "display_data"
    }
   ],
   "source": [
    "with h5py.File(files[1], 'a') as f:\n",
    "    print('''\n",
    "        An example row, has N images 300x300 pixels with 3 color layers\n",
    "    ''')\n",
    "    display(f[f['images'][12][0]].shape)\n",
    "    print('''\n",
    "        and each of their targets has 8732 positions of possible bboxes\n",
    "        predicting 39 classes + 1 no class and 4 numbers of anchors box\n",
    "    ''')\n",
    "    display(f[f['images'][12][1]].shape)"
   ]
  }
 ],
 "metadata": {
  "kernelspec": {
   "display_name": "Python 3",
   "language": "python",
   "name": "python3"
  },
  "language_info": {
   "codemirror_mode": {
    "name": "ipython",
    "version": 3
   },
   "file_extension": ".py",
   "mimetype": "text/x-python",
   "name": "python",
   "nbconvert_exporter": "python",
   "pygments_lexer": "ipython3",
   "version": "3.7.3"
  },
  "toc": {
   "base_numbering": 1,
   "nav_menu": {},
   "number_sections": true,
   "sideBar": true,
   "skip_h1_title": false,
   "title_cell": "Table of Contents",
   "title_sidebar": "Contents",
   "toc_cell": false,
   "toc_position": {},
   "toc_section_display": true,
   "toc_window_display": false
  }
 },
 "nbformat": 4,
 "nbformat_minor": 2
}
