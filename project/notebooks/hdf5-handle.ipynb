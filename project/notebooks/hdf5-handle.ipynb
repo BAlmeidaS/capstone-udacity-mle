{
 "cells": [
  {
   "cell_type": "code",
   "execution_count": 1,
   "metadata": {},
   "outputs": [],
   "source": [
    "import h5py\n",
    "from IPython.display import display\n",
    "\n",
    "files = [\n",
    "    \"/media/external/39_classes_300x300_0.h5\",\n",
    "    \"/media/external/39_classes_300x300_1.h5\",\n",
    "    \"/media/external/39_classes_300x300_2.h5\",\n",
    "    \"/media/external/39_classes_300x300_3.h5\",\n",
    "    \"/media/external/39_classes_300x300_4.h5\",\n",
    "    \"/media/external/39_classes_300x300_5.h5\",\n",
    "    \"/media/external/39_classes_300x300_6.h5\",\n",
    "    \"/media/external/39_classes_300x300_7.h5\",\n",
    "]"
   ]
  },
  {
   "cell_type": "code",
   "execution_count": 2,
   "metadata": {},
   "outputs": [
    {
     "name": "stdout",
     "output_type": "stream",
     "text": [
      "CPU times: user 186 ms, sys: 149 ms, total: 335 ms\n",
      "Wall time: 23.6 s\n"
     ]
    }
   ],
   "source": [
    "%%time\n",
    "for f_path in files:\n",
    "    with h5py.File(f_path, 'a') as f:\n",
    "        l = list(f.keys())\n",
    "        if not 'images' in l:\n",
    "            unique_ids = set(i[:-2] for i in l)\n",
    "\n",
    "            images = []\n",
    "\n",
    "            for id in unique_ids:\n",
    "                images.append([f\"{id}-x\".encode(\"ascii\", \"ignore\"),\n",
    "                               f\"{id}-y\".encode(\"ascii\", \"ignore\")])\n",
    "\n",
    "            f.create_dataset(name='images',\n",
    "                             shape=(len(images), 2),\n",
    "                             data=images,\n",
    "                             dtype=h5py.special_dtype(vlen=str),\n",
    "                             compression='gzip',\n",
    "                             compression_opts=9)"
   ]
  },
  {
   "cell_type": "code",
   "execution_count": 3,
   "metadata": {},
   "outputs": [
    {
     "name": "stdout",
     "output_type": "stream",
     "text": [
      "file /media/external/39_classes_300x300_0.h5 has 4405 datasets\n",
      "The image dataset has 2202 batches (2202 x 2) + 1 = 4405\n",
      "This dataset has a total of 299833 images\n",
      "  the first image x ref in /media/external/39_classes_300x300_0.h5 is present? True\n",
      "  the first image y ref in /media/external/39_classes_300x300_0.h5 is present? True\n",
      "   the last image x ref in /media/external/39_classes_300x300_0.h5 is present? True\n",
      "   the last image y ref in /media/external/39_classes_300x300_0.h5 is present? True\n",
      "\n",
      "file /media/external/39_classes_300x300_1.h5 has 4403 datasets\n",
      "The image dataset has 2201 batches (2201 x 2) + 1 = 4403\n",
      "This dataset has a total of 298427 images\n",
      "  the first image x ref in /media/external/39_classes_300x300_1.h5 is present? True\n",
      "  the first image y ref in /media/external/39_classes_300x300_1.h5 is present? True\n",
      "   the last image x ref in /media/external/39_classes_300x300_1.h5 is present? True\n",
      "   the last image y ref in /media/external/39_classes_300x300_1.h5 is present? True\n",
      "\n",
      "file /media/external/39_classes_300x300_2.h5 has 4383 datasets\n",
      "The image dataset has 2191 batches (2191 x 2) + 1 = 4383\n",
      "This dataset has a total of 298264 images\n",
      "  the first image x ref in /media/external/39_classes_300x300_2.h5 is present? True\n",
      "  the first image y ref in /media/external/39_classes_300x300_2.h5 is present? True\n",
      "   the last image x ref in /media/external/39_classes_300x300_2.h5 is present? True\n",
      "   the last image y ref in /media/external/39_classes_300x300_2.h5 is present? True\n",
      "\n",
      "file /media/external/39_classes_300x300_3.h5 has 4369 datasets\n",
      "The image dataset has 2184 batches (2184 x 2) + 1 = 4369\n",
      "This dataset has a total of 296494 images\n",
      "  the first image x ref in /media/external/39_classes_300x300_3.h5 is present? True\n",
      "  the first image y ref in /media/external/39_classes_300x300_3.h5 is present? True\n",
      "   the last image x ref in /media/external/39_classes_300x300_3.h5 is present? True\n",
      "   the last image y ref in /media/external/39_classes_300x300_3.h5 is present? True\n",
      "\n",
      "file /media/external/39_classes_300x300_4.h5 has 4353 datasets\n",
      "The image dataset has 2176 batches (2176 x 2) + 1 = 4353\n",
      "This dataset has a total of 296012 images\n",
      "  the first image x ref in /media/external/39_classes_300x300_4.h5 is present? True\n",
      "  the first image y ref in /media/external/39_classes_300x300_4.h5 is present? True\n",
      "   the last image x ref in /media/external/39_classes_300x300_4.h5 is present? True\n",
      "   the last image y ref in /media/external/39_classes_300x300_4.h5 is present? True\n",
      "\n",
      "file /media/external/39_classes_300x300_5.h5 has 4337 datasets\n",
      "The image dataset has 2168 batches (2168 x 2) + 1 = 4337\n",
      "This dataset has a total of 295204 images\n",
      "  the first image x ref in /media/external/39_classes_300x300_5.h5 is present? True\n",
      "  the first image y ref in /media/external/39_classes_300x300_5.h5 is present? True\n",
      "   the last image x ref in /media/external/39_classes_300x300_5.h5 is present? True\n",
      "   the last image y ref in /media/external/39_classes_300x300_5.h5 is present? True\n",
      "\n",
      "file /media/external/39_classes_300x300_6.h5 has 4329 datasets\n",
      "The image dataset has 2164 batches (2164 x 2) + 1 = 4329\n",
      "This dataset has a total of 294764 images\n",
      "  the first image x ref in /media/external/39_classes_300x300_6.h5 is present? True\n",
      "  the first image y ref in /media/external/39_classes_300x300_6.h5 is present? True\n",
      "   the last image x ref in /media/external/39_classes_300x300_6.h5 is present? True\n",
      "   the last image y ref in /media/external/39_classes_300x300_6.h5 is present? True\n",
      "\n",
      "file /media/external/39_classes_300x300_7.h5 has 4325 datasets\n",
      "The image dataset has 2162 batches (2162 x 2) + 1 = 4325\n",
      "This dataset has a total of 294603 images\n",
      "  the first image x ref in /media/external/39_classes_300x300_7.h5 is present? True\n",
      "  the first image y ref in /media/external/39_classes_300x300_7.h5 is present? True\n",
      "   the last image x ref in /media/external/39_classes_300x300_7.h5 is present? True\n",
      "   the last image y ref in /media/external/39_classes_300x300_7.h5 is present? True\n",
      "\n",
      "A total of 17448 batches are going to be used in train\n",
      "there are 2373601 images among this batches\n",
      "CPU times: user 12.1 s, sys: 437 ms, total: 12.5 s\n",
      "Wall time: 2min 2s\n"
     ]
    }
   ],
   "source": [
    "%%time\n",
    "total_batches = 0\n",
    "total_images = 0\n",
    "\n",
    "for f_path in files:\n",
    "    with h5py.File(f_path, 'r') as f:\n",
    "        l = list(f.keys())\n",
    "        first = f['images'][0]\n",
    "        last = f['images'][-1]\n",
    "        partial_images = 0\n",
    "        \n",
    "        for x_ref, y_ref in f['images']:\n",
    "            temp_count = f[x_ref].shape[0]\n",
    "            partial_images += temp_count\n",
    "            total_images += temp_count\n",
    "            \n",
    "        total_batches += len(f[\"images\"])\n",
    "        \n",
    "        print('file', f_path, 'has', len(l), 'datasets')\n",
    "        print('The image dataset has', len(f['images']), 'batches',\n",
    "              f'({len(f[\"images\"])} x 2) + 1 =', (len(f[\"images\"])*2 + 1))\n",
    "        print('This dataset has a total of', partial_images, 'images')\n",
    "        \n",
    "        print('  the first image x ref in', f_path, \"is present?\", \n",
    "              (first[0] in l))\n",
    "        print('  the first image y ref in', f_path, \"is present?\", \n",
    "              (first[1] in l))\n",
    "        print('   the last image x ref in', f_path, \"is present?\", \n",
    "              (last[0] in l))\n",
    "        print('   the last image y ref in', f_path, \"is present?\", \n",
    "              (last[1] in l), end='\\n\\n')\n",
    "        \n",
    "        \n",
    "print(f'A total of {total_batches} batches are going to be used in train')\n",
    "print(f'there are {total_images} images among this batches')"
   ]
  },
  {
   "cell_type": "code",
   "execution_count": 4,
   "metadata": {},
   "outputs": [
    {
     "name": "stdout",
     "output_type": "stream",
     "text": [
      "\n",
      "        An example row, has N images 300x300 pixels with 3 color layers\n",
      "    \n"
     ]
    },
    {
     "data": {
      "text/plain": [
       "(144, 300, 300, 3)"
      ]
     },
     "metadata": {},
     "output_type": "display_data"
    },
    {
     "name": "stdout",
     "output_type": "stream",
     "text": [
      "\n",
      "        and each of their targets has 8732 positions of possible bboxes\n",
      "        predicting 39 classes + 1 no class and 4 numbers of anchors box\n",
      "    \n"
     ]
    },
    {
     "data": {
      "text/plain": [
       "(144, 8732, 44)"
      ]
     },
     "metadata": {},
     "output_type": "display_data"
    }
   ],
   "source": [
    "with h5py.File(files[4], 'a') as f:\n",
    "    print('''\n",
    "        An example row, has N images 300x300 pixels with 3 color layers\n",
    "    ''')\n",
    "    display(f[f['images'][272][0]].shape)\n",
    "    print('''\n",
    "        and each of their targets has 8732 positions of possible bboxes\n",
    "        predicting 39 classes + 1 no class and 4 numbers of anchors box\n",
    "    ''')\n",
    "    display(f[f['images'][272][1]].shape)"
   ]
  },
  {
   "cell_type": "code",
   "execution_count": 5,
   "metadata": {},
   "outputs": [
    {
     "data": {
      "text/plain": [
       "(20, 300, 300, 3)"
      ]
     },
     "metadata": {},
     "output_type": "display_data"
    }
   ],
   "source": [
    "with h5py.File(f_path, 'a') as f:\n",
    "    display(f[x_ref][:20].shape)"
   ]
  }
 ],
 "metadata": {
  "kernelspec": {
   "display_name": "Python 3",
   "language": "python",
   "name": "python3"
  },
  "language_info": {
   "codemirror_mode": {
    "name": "ipython",
    "version": 3
   },
   "file_extension": ".py",
   "mimetype": "text/x-python",
   "name": "python",
   "nbconvert_exporter": "python",
   "pygments_lexer": "ipython3",
   "version": "3.7.3"
  },
  "toc": {
   "base_numbering": 1,
   "nav_menu": {},
   "number_sections": true,
   "sideBar": true,
   "skip_h1_title": false,
   "title_cell": "Table of Contents",
   "title_sidebar": "Contents",
   "toc_cell": false,
   "toc_position": {},
   "toc_section_display": true,
   "toc_window_display": false
  }
 },
 "nbformat": 4,
 "nbformat_minor": 2
}
