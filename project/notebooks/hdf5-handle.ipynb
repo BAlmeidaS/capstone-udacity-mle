{
 "cells": [
  {
   "cell_type": "code",
   "execution_count": 1,
   "metadata": {},
   "outputs": [],
   "source": [
    "import h5py\n",
    "from IPython.display import display\n",
    "\n",
    "files = [\n",
    "    \"/media/external/39_classes_300x300_0.h5\",\n",
    "    \"/media/external/39_classes_300x300_1.h5\",\n",
    "    \"/media/external/39_classes_300x300_2.h5\",\n",
    "    \"/media/external/39_classes_300x300_3.h5\",\n",
    "    \"/media/external/39_classes_300x300_4.h5\",\n",
    "    \"/media/external/39_classes_300x300_5.h5\",\n",
    "    \"/media/external/39_classes_300x300_6.h5\",\n",
    "    \"/media/external/39_classes_300x300_7.h5\",\n",
    "]"
   ]
  },
  {
   "cell_type": "code",
   "execution_count": 3,
   "metadata": {},
   "outputs": [
    {
     "name": "stdout",
     "output_type": "stream",
     "text": [
      "CPU times: user 366 ms, sys: 337 ms, total: 703 ms\n",
      "Wall time: 50.8 s\n"
     ]
    }
   ],
   "source": [
    "%%time\n",
    "for f_path in files:\n",
    "    with h5py.File(f_path, 'a') as f:\n",
    "        l = list(f.keys())\n",
    "        if not 'batches' in l:\n",
    "            unique_ids = set(i[:-2] for i in l)\n",
    "\n",
    "            batches = []\n",
    "\n",
    "            for id in unique_ids:\n",
    "                batches.append([f\"{id}-x\".encode(\"ascii\", \"ignore\"),\n",
    "                                f\"{id}-y\".encode(\"ascii\", \"ignore\")])\n",
    "\n",
    "            f.create_dataset(name='batches',\n",
    "                             shape=(len(batches), 2),\n",
    "                             data=batches,\n",
    "                             dtype=h5py.special_dtype(vlen=str),\n",
    "                             compression='gzip',\n",
    "                             compression_opts=9)"
   ]
  },
  {
   "cell_type": "code",
   "execution_count": 6,
   "metadata": {},
   "outputs": [
    {
     "name": "stdout",
     "output_type": "stream",
     "text": [
      "file /media/external/39_classes_300x300_0.h5 has 2953 datasets\n",
      "The image dataset has 1476 batches (1476 x 2) + 1 = 2953\n",
      "This dataset has a total of 300798 images\n",
      "  the first image x ref in /media/external/39_classes_300x300_0.h5 is present? True\n",
      "  the first image y ref in /media/external/39_classes_300x300_0.h5 is present? True\n",
      "   the last image x ref in /media/external/39_classes_300x300_0.h5 is present? True\n",
      "   the last image y ref in /media/external/39_classes_300x300_0.h5 is present? True\n",
      "\n",
      "file /media/external/39_classes_300x300_1.h5 has 2939 datasets\n",
      "The image dataset has 1469 batches (1469 x 2) + 1 = 2939\n",
      "This dataset has a total of 299555 images\n",
      "  the first image x ref in /media/external/39_classes_300x300_1.h5 is present? True\n",
      "  the first image y ref in /media/external/39_classes_300x300_1.h5 is present? True\n",
      "   the last image x ref in /media/external/39_classes_300x300_1.h5 is present? True\n",
      "   the last image y ref in /media/external/39_classes_300x300_1.h5 is present? True\n",
      "\n",
      "file /media/external/39_classes_300x300_2.h5 has 2929 datasets\n",
      "The image dataset has 1464 batches (1464 x 2) + 1 = 2929\n",
      "This dataset has a total of 298112 images\n",
      "  the first image x ref in /media/external/39_classes_300x300_2.h5 is present? True\n",
      "  the first image y ref in /media/external/39_classes_300x300_2.h5 is present? True\n",
      "   the last image x ref in /media/external/39_classes_300x300_2.h5 is present? True\n",
      "   the last image y ref in /media/external/39_classes_300x300_2.h5 is present? True\n",
      "\n",
      "file /media/external/39_classes_300x300_3.h5 has 2925 datasets\n",
      "The image dataset has 1462 batches (1462 x 2) + 1 = 2925\n",
      "This dataset has a total of 297187 images\n",
      "  the first image x ref in /media/external/39_classes_300x300_3.h5 is present? True\n",
      "  the first image y ref in /media/external/39_classes_300x300_3.h5 is present? True\n",
      "   the last image x ref in /media/external/39_classes_300x300_3.h5 is present? True\n",
      "   the last image y ref in /media/external/39_classes_300x300_3.h5 is present? True\n",
      "\n",
      "file /media/external/39_classes_300x300_4.h5 has 2905 datasets\n",
      "The image dataset has 1452 batches (1452 x 2) + 1 = 2905\n",
      "This dataset has a total of 296171 images\n",
      "  the first image x ref in /media/external/39_classes_300x300_4.h5 is present? True\n",
      "  the first image y ref in /media/external/39_classes_300x300_4.h5 is present? True\n",
      "   the last image x ref in /media/external/39_classes_300x300_4.h5 is present? True\n",
      "   the last image y ref in /media/external/39_classes_300x300_4.h5 is present? True\n",
      "\n",
      "file /media/external/39_classes_300x300_5.h5 has 2889 datasets\n",
      "The image dataset has 1444 batches (1444 x 2) + 1 = 2889\n",
      "This dataset has a total of 293577 images\n",
      "  the first image x ref in /media/external/39_classes_300x300_5.h5 is present? True\n",
      "  the first image y ref in /media/external/39_classes_300x300_5.h5 is present? True\n",
      "   the last image x ref in /media/external/39_classes_300x300_5.h5 is present? True\n",
      "   the last image y ref in /media/external/39_classes_300x300_5.h5 is present? True\n",
      "\n",
      "file /media/external/39_classes_300x300_6.h5 has 2881 datasets\n",
      "The image dataset has 1440 batches (1440 x 2) + 1 = 2881\n",
      "This dataset has a total of 293324 images\n",
      "  the first image x ref in /media/external/39_classes_300x300_6.h5 is present? True\n",
      "  the first image y ref in /media/external/39_classes_300x300_6.h5 is present? True\n",
      "   the last image x ref in /media/external/39_classes_300x300_6.h5 is present? True\n",
      "   the last image y ref in /media/external/39_classes_300x300_6.h5 is present? True\n",
      "\n",
      "file /media/external/39_classes_300x300_7.h5 has 2871 datasets\n",
      "The image dataset has 1435 batches (1435 x 2) + 1 = 2871\n",
      "This dataset has a total of 292130 images\n",
      "  the first image x ref in /media/external/39_classes_300x300_7.h5 is present? True\n",
      "  the first image y ref in /media/external/39_classes_300x300_7.h5 is present? True\n",
      "   the last image x ref in /media/external/39_classes_300x300_7.h5 is present? True\n",
      "   the last image y ref in /media/external/39_classes_300x300_7.h5 is present? True\n",
      "\n",
      "A total of 11642 batches are going to be used in train\n",
      "there are 2370854 images among this batches\n",
      "CPU times: user 11.6 s, sys: 721 ms, total: 12.3 s\n",
      "Wall time: 3min 35s\n"
     ]
    }
   ],
   "source": [
    "%%time\n",
    "total_batches = 0\n",
    "total_images = 0\n",
    "\n",
    "for f_path in files:\n",
    "    with h5py.File(f_path, 'r') as f:\n",
    "        l = list(f.keys())\n",
    "        first = f['batches'][0]\n",
    "        last = f['batches'][-1]\n",
    "        partial_images = 0\n",
    "        \n",
    "        for x_ref, y_ref in f['batches']:\n",
    "            temp_count = f[x_ref].shape[0]\n",
    "            partial_images += temp_count\n",
    "            total_images += temp_count\n",
    "            \n",
    "        total_batches += len(f[\"batches\"])\n",
    "        \n",
    "        print('file', f_path, 'has', len(l), 'datasets')\n",
    "        print('The image dataset has', len(f['batches']), 'batches',\n",
    "              f'({len(f[\"batches\"])} x 2) + 1 =', (len(f[\"batches\"])*2 + 1))\n",
    "        print('This dataset has a total of', partial_images, 'images')\n",
    "        \n",
    "        print('  the first image x ref in', f_path, \"is present?\", \n",
    "              (first[0] in l))\n",
    "        print('  the first image y ref in', f_path, \"is present?\", \n",
    "              (first[1] in l))\n",
    "        print('   the last image x ref in', f_path, \"is present?\", \n",
    "              (last[0] in l))\n",
    "        print('   the last image y ref in', f_path, \"is present?\", \n",
    "              (last[1] in l), end='\\n\\n')\n",
    "        \n",
    "        \n",
    "print(f'A total of {total_batches} batches are going to be used in train')\n",
    "print(f'there are {total_images} images among this batches')"
   ]
  },
  {
   "cell_type": "code",
   "execution_count": 7,
   "metadata": {},
   "outputs": [
    {
     "name": "stdout",
     "output_type": "stream",
     "text": [
      "\n",
      "        An example row, has N images 300x300 pixels with 3 color layers\n",
      "    \n"
     ]
    },
    {
     "data": {
      "text/plain": [
       "(215, 300, 300, 3)"
      ]
     },
     "metadata": {},
     "output_type": "display_data"
    },
    {
     "name": "stdout",
     "output_type": "stream",
     "text": [
      "\n",
      "        and each of their targets has 8732 positions of possible bboxes\n",
      "        predicting 39 classes + 1 no class and 4 numbers of anchors box\n",
      "    \n"
     ]
    },
    {
     "data": {
      "text/plain": [
       "(215, 8732, 44)"
      ]
     },
     "metadata": {},
     "output_type": "display_data"
    }
   ],
   "source": [
    "with h5py.File(files[4], 'r') as f:\n",
    "    print('''\n",
    "        An example row, has N images 300x300 pixels with 3 color layers\n",
    "    ''')\n",
    "    display(f[f['batches'][272][0]].shape)\n",
    "    print('''\n",
    "        and each of their targets has 8732 positions of possible bboxes\n",
    "        predicting 39 classes + 1 no class and 4 numbers of anchors box\n",
    "    ''')\n",
    "    display(f[f['batches'][272][1]].shape)"
   ]
  }
 ],
 "metadata": {
  "kernelspec": {
   "display_name": "Python 3",
   "language": "python",
   "name": "python3"
  },
  "language_info": {
   "codemirror_mode": {
    "name": "ipython",
    "version": 3
   },
   "file_extension": ".py",
   "mimetype": "text/x-python",
   "name": "python",
   "nbconvert_exporter": "python",
   "pygments_lexer": "ipython3",
   "version": "3.7.3"
  },
  "toc": {
   "base_numbering": 1,
   "nav_menu": {},
   "number_sections": true,
   "sideBar": true,
   "skip_h1_title": false,
   "title_cell": "Table of Contents",
   "title_sidebar": "Contents",
   "toc_cell": false,
   "toc_position": {},
   "toc_section_display": true,
   "toc_window_display": false
  }
 },
 "nbformat": 4,
 "nbformat_minor": 2
}
