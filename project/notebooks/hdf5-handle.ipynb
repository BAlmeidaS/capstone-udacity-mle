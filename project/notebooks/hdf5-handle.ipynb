{
 "cells": [
  {
   "cell_type": "code",
   "execution_count": 1,
   "metadata": {},
   "outputs": [],
   "source": [
    "import h5py\n",
    "from IPython.display import display\n",
    "\n",
    "files = [\n",
    "    \"/media/external/39_classes_300x300_0.h5\",\n",
    "    \"/media/external/39_classes_300x300_1.h5\",\n",
    "    \"/media/external/39_classes_300x300_2.h5\",\n",
    "    \"/media/external/39_classes_300x300_3.h5\",\n",
    "    \"/media/external/39_classes_300x300_4.h5\",\n",
    "    \"/media/external/39_classes_300x300_5.h5\",\n",
    "    \"/media/external/39_classes_300x300_6.h5\",\n",
    "    \"/media/external/39_classes_300x300_7.h5\",\n",
    "    \n",
    "]"
   ]
  },
  {
   "cell_type": "code",
   "execution_count": 2,
   "metadata": {},
   "outputs": [
    {
     "name": "stdout",
     "output_type": "stream",
     "text": [
      "CPU times: user 18.8 ms, sys: 11.4 ms, total: 30.2 ms\n",
      "Wall time: 30.1 ms\n"
     ]
    }
   ],
   "source": [
    "%%time\n",
    "for f_path in files:\n",
    "    with h5py.File(f_path, 'a') as f:\n",
    "        l = list(f.keys())\n",
    "        if not 'images' in l:\n",
    "            unique_ids = set(i[:-2] for i in l)\n",
    "\n",
    "            images = []\n",
    "\n",
    "            for id in unique_ids:\n",
    "                images.append([f\"{id}-x\".encode(\"ascii\", \"ignore\"),\n",
    "                               f\"{id}-y\".encode(\"ascii\", \"ignore\")])\n",
    "\n",
    "            f.create_dataset(name='images',\n",
    "                             shape=(len(images), 2),\n",
    "                             data=images,\n",
    "                             dtype=h5py.special_dtype(vlen=str),\n",
    "                             compression='gzip',\n",
    "                             compression_opts=9)"
   ]
  },
  {
   "cell_type": "code",
   "execution_count": 3,
   "metadata": {},
   "outputs": [
    {
     "name": "stdout",
     "output_type": "stream",
     "text": [
      "file /media/external/39_classes_300x300_0.h5 has 4405 datasets\n",
      "The image dataset has 2202 mapped images (2202 x 2) + 1 = 4405\n",
      "the first image x ref in /media/external/39_classes_300x300_0.h5 is present? True\n",
      "the first image y ref in /media/external/39_classes_300x300_0.h5 is present? True\n",
      " the last image x ref in /media/external/39_classes_300x300_0.h5 is present? True\n",
      " the last image y ref in /media/external/39_classes_300x300_0.h5 is present? True\n",
      "\n",
      "file /media/external/39_classes_300x300_1.h5 has 4403 datasets\n",
      "The image dataset has 2201 mapped images (2201 x 2) + 1 = 4403\n",
      "the first image x ref in /media/external/39_classes_300x300_1.h5 is present? True\n",
      "the first image y ref in /media/external/39_classes_300x300_1.h5 is present? True\n",
      " the last image x ref in /media/external/39_classes_300x300_1.h5 is present? True\n",
      " the last image y ref in /media/external/39_classes_300x300_1.h5 is present? True\n",
      "\n",
      "file /media/external/39_classes_300x300_2.h5 has 4383 datasets\n",
      "The image dataset has 2191 mapped images (2191 x 2) + 1 = 4383\n",
      "the first image x ref in /media/external/39_classes_300x300_2.h5 is present? True\n",
      "the first image y ref in /media/external/39_classes_300x300_2.h5 is present? True\n",
      " the last image x ref in /media/external/39_classes_300x300_2.h5 is present? True\n",
      " the last image y ref in /media/external/39_classes_300x300_2.h5 is present? True\n",
      "\n",
      "file /media/external/39_classes_300x300_3.h5 has 4369 datasets\n",
      "The image dataset has 2184 mapped images (2184 x 2) + 1 = 4369\n",
      "the first image x ref in /media/external/39_classes_300x300_3.h5 is present? True\n",
      "the first image y ref in /media/external/39_classes_300x300_3.h5 is present? True\n",
      " the last image x ref in /media/external/39_classes_300x300_3.h5 is present? True\n",
      " the last image y ref in /media/external/39_classes_300x300_3.h5 is present? True\n",
      "\n",
      "file /media/external/39_classes_300x300_4.h5 has 4353 datasets\n",
      "The image dataset has 2176 mapped images (2176 x 2) + 1 = 4353\n",
      "the first image x ref in /media/external/39_classes_300x300_4.h5 is present? True\n",
      "the first image y ref in /media/external/39_classes_300x300_4.h5 is present? True\n",
      " the last image x ref in /media/external/39_classes_300x300_4.h5 is present? True\n",
      " the last image y ref in /media/external/39_classes_300x300_4.h5 is present? True\n",
      "\n",
      "file /media/external/39_classes_300x300_5.h5 has 4337 datasets\n",
      "The image dataset has 2168 mapped images (2168 x 2) + 1 = 4337\n",
      "the first image x ref in /media/external/39_classes_300x300_5.h5 is present? True\n",
      "the first image y ref in /media/external/39_classes_300x300_5.h5 is present? True\n",
      " the last image x ref in /media/external/39_classes_300x300_5.h5 is present? True\n",
      " the last image y ref in /media/external/39_classes_300x300_5.h5 is present? True\n",
      "\n",
      "file /media/external/39_classes_300x300_6.h5 has 4329 datasets\n",
      "The image dataset has 2164 mapped images (2164 x 2) + 1 = 4329\n",
      "the first image x ref in /media/external/39_classes_300x300_6.h5 is present? True\n",
      "the first image y ref in /media/external/39_classes_300x300_6.h5 is present? True\n",
      " the last image x ref in /media/external/39_classes_300x300_6.h5 is present? True\n",
      " the last image y ref in /media/external/39_classes_300x300_6.h5 is present? True\n",
      "\n",
      "file /media/external/39_classes_300x300_7.h5 has 4325 datasets\n",
      "The image dataset has 2162 mapped images (2162 x 2) + 1 = 4325\n",
      "the first image x ref in /media/external/39_classes_300x300_7.h5 is present? True\n",
      "the first image y ref in /media/external/39_classes_300x300_7.h5 is present? True\n",
      " the last image x ref in /media/external/39_classes_300x300_7.h5 is present? True\n",
      " the last image y ref in /media/external/39_classes_300x300_7.h5 is present? True\n",
      "\n",
      "In total there are 17448 used in train\n"
     ]
    }
   ],
   "source": [
    "total_batches = 0\n",
    "\n",
    "for f_path in files:\n",
    "    with h5py.File(f_path, 'a') as f:\n",
    "        l = list(f.keys())\n",
    "        first = f['images'][0]\n",
    "        last = f['images'][-1]\n",
    "        \n",
    "        print('file', f_path, 'has', len(l), 'datasets')\n",
    "        print('The image dataset has', len(f['images']), 'mapped images',\n",
    "              f'({len(f[\"images\"])} x 2) + 1 =', (len(f[\"images\"])*2 + 1))\n",
    "        \n",
    "        total_batches += len(f[\"images\"])\n",
    "        \n",
    "        print('the first image x ref in', f_path, \"is present?\", \n",
    "              (first[0] in l))\n",
    "        print('the first image y ref in', f_path, \"is present?\", \n",
    "              (first[1] in l))\n",
    "        print(' the last image x ref in', f_path, \"is present?\", \n",
    "              (last[0] in l))\n",
    "        print(' the last image y ref in', f_path, \"is present?\", \n",
    "              (last[1] in l), end='\\n\\n')\n",
    "        \n",
    "print(f'In total there are {total_batches} used in train')"
   ]
  },
  {
   "cell_type": "code",
   "execution_count": 4,
   "metadata": {},
   "outputs": [
    {
     "name": "stdout",
     "output_type": "stream",
     "text": [
      "\n",
      "        An example row, has N images 300x300 pixels with 3 color layers\n",
      "    \n"
     ]
    },
    {
     "data": {
      "text/plain": [
       "(144, 300, 300, 3)"
      ]
     },
     "metadata": {},
     "output_type": "display_data"
    },
    {
     "name": "stdout",
     "output_type": "stream",
     "text": [
      "\n",
      "        and each of their targets has 8732 positions of possible bboxes\n",
      "        predicting 39 classes + 1 no class and 4 numbers of anchors box\n",
      "    \n"
     ]
    },
    {
     "data": {
      "text/plain": [
       "(144, 8732, 44)"
      ]
     },
     "metadata": {},
     "output_type": "display_data"
    }
   ],
   "source": [
    "with h5py.File(files[4], 'a') as f:\n",
    "    print('''\n",
    "        An example row, has N images 300x300 pixels with 3 color layers\n",
    "    ''')\n",
    "    display(f[f['images'][272][0]].shape)\n",
    "    print('''\n",
    "        and each of their targets has 8732 positions of possible bboxes\n",
    "        predicting 39 classes + 1 no class and 4 numbers of anchors box\n",
    "    ''')\n",
    "    display(f[f['images'][272][1]].shape)"
   ]
  }
 ],
 "metadata": {
  "kernelspec": {
   "display_name": "Python 3",
   "language": "python",
   "name": "python3"
  },
  "language_info": {
   "codemirror_mode": {
    "name": "ipython",
    "version": 3
   },
   "file_extension": ".py",
   "mimetype": "text/x-python",
   "name": "python",
   "nbconvert_exporter": "python",
   "pygments_lexer": "ipython3",
   "version": "3.7.3"
  },
  "toc": {
   "base_numbering": 1,
   "nav_menu": {},
   "number_sections": true,
   "sideBar": true,
   "skip_h1_title": false,
   "title_cell": "Table of Contents",
   "title_sidebar": "Contents",
   "toc_cell": false,
   "toc_position": {},
   "toc_section_display": true,
   "toc_window_display": false
  }
 },
 "nbformat": 4,
 "nbformat_minor": 2
}
