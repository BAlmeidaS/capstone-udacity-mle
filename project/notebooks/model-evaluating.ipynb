{
 "cells": [
  {
   "cell_type": "code",
   "execution_count": 1,
   "metadata": {},
   "outputs": [
    {
     "name": "stderr",
     "output_type": "stream",
     "text": [
      "Using TensorFlow backend.\n",
      "/home/bruno/.virtualenvs/ml/lib/python3.7/site-packages/keras_applications/resnet50.py:265: UserWarning: The output shape of `ResNet50(include_top=False)` has been changed since Keras 2.2.0.\n",
      "  warnings.warn('The output shape of `ResNet50(include_top=False)` '\n",
      "/home/bruno/.virtualenvs/ml/lib/python3.7/site-packages/tqdm/std.py:651: FutureWarning: The Panel class is removed from pandas. Accessing it from the top-level namespace will also be removed in the next version\n",
      "  from pandas import Panel\n"
     ]
    }
   ],
   "source": [
    "# imports\n",
    "import os\n",
    "os.sys.path.append(os.path.abspath(\"../..\"))\n",
    "\n",
    "import pandas as pd\n",
    "import numpy as np\n",
    "\n",
    "from project.model.ssd_model_300_xception import ssd_model_300_xception\n",
    "from project.model.ssd_model_300_resnet import ssd_model_300_resnet\n",
    "from project.model.ssd_model_300_vgg import ssd_model_300_vgg\n",
    "\n",
    "from project.utils.data_bbox_match_hdf5 import load_ohc\n",
    "\n",
    "from IPython.display import display\n",
    "\n",
    "import h5py\n",
    "\n",
    "from tqdm import tqdm, trange\n",
    "\n",
    "from keras.preprocessing import image\n",
    "\n",
    "import project.download_content as content\n",
    "\n",
    "from project.notebooks_utils import visuals\n",
    "from matplotlib import pyplot as plt\n",
    "\n",
    "from project.model.iou import iou\n",
    "\n",
    "METAPATH = os.path.join(content.DATAPATH, 'METADATA')\n",
    "MODELPATH = os.path.join(content.DATAPATH, 'MODEL')\n",
    "ohc = load_ohc()"
   ]
  },
  {
   "cell_type": "code",
   "execution_count": 2,
   "metadata": {},
   "outputs": [
    {
     "data": {
      "text/plain": [
       "'x0_woman'"
      ]
     },
     "execution_count": 2,
     "metadata": {},
     "output_type": "execute_result"
    }
   ],
   "source": [
    "ohc.get_feature_names()[592]"
   ]
  },
  {
   "cell_type": "markdown",
   "metadata": {},
   "source": [
    "### Getting data"
   ]
  },
  {
   "cell_type": "code",
   "execution_count": 3,
   "metadata": {},
   "outputs": [],
   "source": [
    "cross_val_preprocessed = os.path.join(content.DATAPATH,\n",
    "                                      \"MODEL\",\n",
    "                                      f\"cross_val_data_preprocessed.h5\")\n",
    "\n",
    "test_preprocessed = os.path.join(content.DATAPATH,\n",
    "                                     \"MODEL\",\n",
    "                                     f\"test_data_preprocessed.h5\")"
   ]
  },
  {
   "cell_type": "code",
   "execution_count": 4,
   "metadata": {},
   "outputs": [
    {
     "data": {
      "text/html": [
       "<div>\n",
       "<style scoped>\n",
       "    .dataframe tbody tr th:only-of-type {\n",
       "        vertical-align: middle;\n",
       "    }\n",
       "\n",
       "    .dataframe tbody tr th {\n",
       "        vertical-align: top;\n",
       "    }\n",
       "\n",
       "    .dataframe thead th {\n",
       "        text-align: right;\n",
       "    }\n",
       "</style>\n",
       "<table border=\"1\" class=\"dataframe\">\n",
       "  <thead>\n",
       "    <tr style=\"text-align: right;\">\n",
       "      <th></th>\n",
       "      <th>ImageID</th>\n",
       "      <th>Source</th>\n",
       "      <th>LabelName</th>\n",
       "      <th>Confidence</th>\n",
       "      <th>XMin</th>\n",
       "      <th>XMax</th>\n",
       "      <th>YMin</th>\n",
       "      <th>YMax</th>\n",
       "      <th>IsOccluded</th>\n",
       "      <th>IsTruncated</th>\n",
       "      <th>IsGroupOf</th>\n",
       "      <th>IsDepiction</th>\n",
       "      <th>IsInside</th>\n",
       "      <th>Path</th>\n",
       "      <th>LabelSemantic</th>\n",
       "      <th>cx</th>\n",
       "      <th>cy</th>\n",
       "      <th>w</th>\n",
       "      <th>h</th>\n",
       "      <th>LabelID</th>\n",
       "    </tr>\n",
       "  </thead>\n",
       "  <tbody>\n",
       "    <tr>\n",
       "      <th>0</th>\n",
       "      <td>0001eeaf4aed83f9</td>\n",
       "      <td>xclick</td>\n",
       "      <td>/m/0cmf2</td>\n",
       "      <td>1</td>\n",
       "      <td>0.022673</td>\n",
       "      <td>0.964201</td>\n",
       "      <td>0.071038</td>\n",
       "      <td>0.800546</td>\n",
       "      <td>0</td>\n",
       "      <td>0</td>\n",
       "      <td>0</td>\n",
       "      <td>0</td>\n",
       "      <td>0</td>\n",
       "      <td>project/data/VALIDATION/validation/0001eeaf4ae...</td>\n",
       "      <td>airplane</td>\n",
       "      <td>0.493437</td>\n",
       "      <td>0.435792</td>\n",
       "      <td>0.941527</td>\n",
       "      <td>0.729508</td>\n",
       "      <td>4</td>\n",
       "    </tr>\n",
       "    <tr>\n",
       "      <th>1</th>\n",
       "      <td>000595fe6fee6369</td>\n",
       "      <td>xclick</td>\n",
       "      <td>/m/02wbm</td>\n",
       "      <td>1</td>\n",
       "      <td>0.000000</td>\n",
       "      <td>1.000000</td>\n",
       "      <td>0.000000</td>\n",
       "      <td>1.000000</td>\n",
       "      <td>0</td>\n",
       "      <td>0</td>\n",
       "      <td>1</td>\n",
       "      <td>0</td>\n",
       "      <td>0</td>\n",
       "      <td>project/data/VALIDATION/validation/000595fe6fe...</td>\n",
       "      <td>food</td>\n",
       "      <td>0.500000</td>\n",
       "      <td>0.500000</td>\n",
       "      <td>1.000000</td>\n",
       "      <td>1.000000</td>\n",
       "      <td>199</td>\n",
       "    </tr>\n",
       "    <tr>\n",
       "      <th>2</th>\n",
       "      <td>000595fe6fee6369</td>\n",
       "      <td>xclick</td>\n",
       "      <td>/m/02xwb</td>\n",
       "      <td>1</td>\n",
       "      <td>0.141384</td>\n",
       "      <td>0.179676</td>\n",
       "      <td>0.676275</td>\n",
       "      <td>0.731707</td>\n",
       "      <td>0</td>\n",
       "      <td>0</td>\n",
       "      <td>0</td>\n",
       "      <td>0</td>\n",
       "      <td>0</td>\n",
       "      <td>project/data/VALIDATION/validation/000595fe6fe...</td>\n",
       "      <td>fruit</td>\n",
       "      <td>0.160530</td>\n",
       "      <td>0.703991</td>\n",
       "      <td>0.038292</td>\n",
       "      <td>0.055432</td>\n",
       "      <td>210</td>\n",
       "    </tr>\n",
       "    <tr>\n",
       "      <th>3</th>\n",
       "      <td>000595fe6fee6369</td>\n",
       "      <td>xclick</td>\n",
       "      <td>/m/02xwb</td>\n",
       "      <td>1</td>\n",
       "      <td>0.213549</td>\n",
       "      <td>0.253314</td>\n",
       "      <td>0.299335</td>\n",
       "      <td>0.354767</td>\n",
       "      <td>1</td>\n",
       "      <td>0</td>\n",
       "      <td>0</td>\n",
       "      <td>0</td>\n",
       "      <td>0</td>\n",
       "      <td>project/data/VALIDATION/validation/000595fe6fe...</td>\n",
       "      <td>fruit</td>\n",
       "      <td>0.233432</td>\n",
       "      <td>0.327051</td>\n",
       "      <td>0.039764</td>\n",
       "      <td>0.055432</td>\n",
       "      <td>210</td>\n",
       "    </tr>\n",
       "    <tr>\n",
       "      <th>4</th>\n",
       "      <td>000595fe6fee6369</td>\n",
       "      <td>xclick</td>\n",
       "      <td>/m/02xwb</td>\n",
       "      <td>1</td>\n",
       "      <td>0.232695</td>\n",
       "      <td>0.288660</td>\n",
       "      <td>0.490022</td>\n",
       "      <td>0.545455</td>\n",
       "      <td>1</td>\n",
       "      <td>0</td>\n",
       "      <td>0</td>\n",
       "      <td>0</td>\n",
       "      <td>0</td>\n",
       "      <td>project/data/VALIDATION/validation/000595fe6fe...</td>\n",
       "      <td>fruit</td>\n",
       "      <td>0.260677</td>\n",
       "      <td>0.517738</td>\n",
       "      <td>0.055965</td>\n",
       "      <td>0.055432</td>\n",
       "      <td>210</td>\n",
       "    </tr>\n",
       "    <tr>\n",
       "      <th>...</th>\n",
       "      <td>...</td>\n",
       "      <td>...</td>\n",
       "      <td>...</td>\n",
       "      <td>...</td>\n",
       "      <td>...</td>\n",
       "      <td>...</td>\n",
       "      <td>...</td>\n",
       "      <td>...</td>\n",
       "      <td>...</td>\n",
       "      <td>...</td>\n",
       "      <td>...</td>\n",
       "      <td>...</td>\n",
       "      <td>...</td>\n",
       "      <td>...</td>\n",
       "      <td>...</td>\n",
       "      <td>...</td>\n",
       "      <td>...</td>\n",
       "      <td>...</td>\n",
       "      <td>...</td>\n",
       "      <td>...</td>\n",
       "    </tr>\n",
       "    <tr>\n",
       "      <th>303975</th>\n",
       "      <td>ffff21932da3ed01</td>\n",
       "      <td>xclick</td>\n",
       "      <td>/m/03fp41</td>\n",
       "      <td>1</td>\n",
       "      <td>0.178125</td>\n",
       "      <td>0.710938</td>\n",
       "      <td>0.412500</td>\n",
       "      <td>0.579167</td>\n",
       "      <td>0</td>\n",
       "      <td>0</td>\n",
       "      <td>1</td>\n",
       "      <td>0</td>\n",
       "      <td>0</td>\n",
       "      <td>project/data/VALIDATION/validation/ffff21932da...</td>\n",
       "      <td>houseplant</td>\n",
       "      <td>0.444531</td>\n",
       "      <td>0.495833</td>\n",
       "      <td>0.532813</td>\n",
       "      <td>0.166667</td>\n",
       "      <td>258</td>\n",
       "    </tr>\n",
       "    <tr>\n",
       "      <th>303976</th>\n",
       "      <td>ffff21932da3ed01</td>\n",
       "      <td>xclick</td>\n",
       "      <td>/m/01g317</td>\n",
       "      <td>1</td>\n",
       "      <td>0.000000</td>\n",
       "      <td>0.015625</td>\n",
       "      <td>0.345833</td>\n",
       "      <td>0.414583</td>\n",
       "      <td>0</td>\n",
       "      <td>1</td>\n",
       "      <td>0</td>\n",
       "      <td>1</td>\n",
       "      <td>0</td>\n",
       "      <td>project/data/VALIDATION/validation/ffff21932da...</td>\n",
       "      <td>person</td>\n",
       "      <td>0.007812</td>\n",
       "      <td>0.380208</td>\n",
       "      <td>0.015625</td>\n",
       "      <td>0.068750</td>\n",
       "      <td>380</td>\n",
       "    </tr>\n",
       "    <tr>\n",
       "      <th>303977</th>\n",
       "      <td>ffff21932da3ed01</td>\n",
       "      <td>xclick</td>\n",
       "      <td>/m/01g317</td>\n",
       "      <td>1</td>\n",
       "      <td>0.062500</td>\n",
       "      <td>0.085938</td>\n",
       "      <td>0.431250</td>\n",
       "      <td>0.529167</td>\n",
       "      <td>1</td>\n",
       "      <td>0</td>\n",
       "      <td>0</td>\n",
       "      <td>0</td>\n",
       "      <td>0</td>\n",
       "      <td>project/data/VALIDATION/validation/ffff21932da...</td>\n",
       "      <td>person</td>\n",
       "      <td>0.074219</td>\n",
       "      <td>0.480208</td>\n",
       "      <td>0.023438</td>\n",
       "      <td>0.097917</td>\n",
       "      <td>380</td>\n",
       "    </tr>\n",
       "    <tr>\n",
       "      <th>303978</th>\n",
       "      <td>ffff21932da3ed01</td>\n",
       "      <td>xclick</td>\n",
       "      <td>/m/0c9ph5</td>\n",
       "      <td>1</td>\n",
       "      <td>0.323437</td>\n",
       "      <td>0.409375</td>\n",
       "      <td>0.464583</td>\n",
       "      <td>0.554167</td>\n",
       "      <td>0</td>\n",
       "      <td>0</td>\n",
       "      <td>1</td>\n",
       "      <td>0</td>\n",
       "      <td>0</td>\n",
       "      <td>project/data/VALIDATION/validation/ffff21932da...</td>\n",
       "      <td>flower</td>\n",
       "      <td>0.366406</td>\n",
       "      <td>0.509375</td>\n",
       "      <td>0.085938</td>\n",
       "      <td>0.089583</td>\n",
       "      <td>195</td>\n",
       "    </tr>\n",
       "    <tr>\n",
       "      <th>303979</th>\n",
       "      <td>ffff21932da3ed01</td>\n",
       "      <td>xclick</td>\n",
       "      <td>/m/0c9ph5</td>\n",
       "      <td>1</td>\n",
       "      <td>0.540625</td>\n",
       "      <td>0.625000</td>\n",
       "      <td>0.493750</td>\n",
       "      <td>0.577083</td>\n",
       "      <td>1</td>\n",
       "      <td>0</td>\n",
       "      <td>1</td>\n",
       "      <td>0</td>\n",
       "      <td>0</td>\n",
       "      <td>project/data/VALIDATION/validation/ffff21932da...</td>\n",
       "      <td>flower</td>\n",
       "      <td>0.582812</td>\n",
       "      <td>0.535417</td>\n",
       "      <td>0.084375</td>\n",
       "      <td>0.083333</td>\n",
       "      <td>195</td>\n",
       "    </tr>\n",
       "  </tbody>\n",
       "</table>\n",
       "<p>303980 rows × 20 columns</p>\n",
       "</div>"
      ],
      "text/plain": [
       "                 ImageID  Source  LabelName  Confidence      XMin      XMax      YMin      YMax  IsOccluded  IsTruncated  IsGroupOf  IsDepiction  IsInside                                               Path LabelSemantic        cx        cy         w         h  LabelID\n",
       "0       0001eeaf4aed83f9  xclick   /m/0cmf2           1  0.022673  0.964201  0.071038  0.800546           0            0          0            0         0  project/data/VALIDATION/validation/0001eeaf4ae...      airplane  0.493437  0.435792  0.941527  0.729508        4\n",
       "1       000595fe6fee6369  xclick   /m/02wbm           1  0.000000  1.000000  0.000000  1.000000           0            0          1            0         0  project/data/VALIDATION/validation/000595fe6fe...          food  0.500000  0.500000  1.000000  1.000000      199\n",
       "2       000595fe6fee6369  xclick   /m/02xwb           1  0.141384  0.179676  0.676275  0.731707           0            0          0            0         0  project/data/VALIDATION/validation/000595fe6fe...         fruit  0.160530  0.703991  0.038292  0.055432      210\n",
       "3       000595fe6fee6369  xclick   /m/02xwb           1  0.213549  0.253314  0.299335  0.354767           1            0          0            0         0  project/data/VALIDATION/validation/000595fe6fe...         fruit  0.233432  0.327051  0.039764  0.055432      210\n",
       "4       000595fe6fee6369  xclick   /m/02xwb           1  0.232695  0.288660  0.490022  0.545455           1            0          0            0         0  project/data/VALIDATION/validation/000595fe6fe...         fruit  0.260677  0.517738  0.055965  0.055432      210\n",
       "...                  ...     ...        ...         ...       ...       ...       ...       ...         ...          ...        ...          ...       ...                                                ...           ...       ...       ...       ...       ...      ...\n",
       "303975  ffff21932da3ed01  xclick  /m/03fp41           1  0.178125  0.710938  0.412500  0.579167           0            0          1            0         0  project/data/VALIDATION/validation/ffff21932da...    houseplant  0.444531  0.495833  0.532813  0.166667      258\n",
       "303976  ffff21932da3ed01  xclick  /m/01g317           1  0.000000  0.015625  0.345833  0.414583           0            1          0            1         0  project/data/VALIDATION/validation/ffff21932da...        person  0.007812  0.380208  0.015625  0.068750      380\n",
       "303977  ffff21932da3ed01  xclick  /m/01g317           1  0.062500  0.085938  0.431250  0.529167           1            0          0            0         0  project/data/VALIDATION/validation/ffff21932da...        person  0.074219  0.480208  0.023438  0.097917      380\n",
       "303978  ffff21932da3ed01  xclick  /m/0c9ph5           1  0.323437  0.409375  0.464583  0.554167           0            0          1            0         0  project/data/VALIDATION/validation/ffff21932da...        flower  0.366406  0.509375  0.085938  0.089583      195\n",
       "303979  ffff21932da3ed01  xclick  /m/0c9ph5           1  0.540625  0.625000  0.493750  0.577083           1            0          1            0         0  project/data/VALIDATION/validation/ffff21932da...        flower  0.582812  0.535417  0.084375  0.083333      195\n",
       "\n",
       "[303980 rows x 20 columns]"
      ]
     },
     "execution_count": 4,
     "metadata": {},
     "output_type": "execute_result"
    }
   ],
   "source": [
    "df = pd.read_hdf(cross_val_preprocessed, key='X', mode='r')\n",
    "df"
   ]
  },
  {
   "cell_type": "code",
   "execution_count": 5,
   "metadata": {},
   "outputs": [
    {
     "name": "stderr",
     "output_type": "stream",
     "text": [
      "/home/bruno/projetos/capstone-udacity-mle/project/model/ssd_model_300_resnet.py:84: UserWarning:\n",
      "\n",
      "Update your `Model` call to the Keras 2 API: `Model(inputs=Tensor(\"in..., outputs=[<tf.Tenso...)`\n",
      "\n"
     ]
    },
    {
     "name": "stdout",
     "output_type": "stream",
     "text": [
      "Model: \"model_2\"\n",
      "__________________________________________________________________________________________________\n",
      "Layer (type)                    Output Shape         Param #     Connected to                     \n",
      "==================================================================================================\n",
      "input_2 (InputLayer)            (None, 300, 300, 3)  0                                            \n",
      "__________________________________________________________________________________________________\n",
      "conv1_pad (ZeroPadding2D)       (None, 306, 306, 3)  0           input_2[0][0]                    \n",
      "__________________________________________________________________________________________________\n",
      "conv1 (Conv2D)                  (None, 150, 150, 64) 9472        conv1_pad[0][0]                  \n",
      "__________________________________________________________________________________________________\n",
      "bn_conv1 (BatchNormalization)   (None, 150, 150, 64) 256         conv1[0][0]                      \n",
      "__________________________________________________________________________________________________\n",
      "activation_1 (Activation)       (None, 150, 150, 64) 0           bn_conv1[0][0]                   \n",
      "__________________________________________________________________________________________________\n",
      "pool1_pad (ZeroPadding2D)       (None, 152, 152, 64) 0           activation_1[0][0]               \n",
      "__________________________________________________________________________________________________\n",
      "max_pooling2d_1 (MaxPooling2D)  (None, 75, 75, 64)   0           pool1_pad[0][0]                  \n",
      "__________________________________________________________________________________________________\n",
      "res2a_branch2a (Conv2D)         (None, 75, 75, 64)   4160        max_pooling2d_1[0][0]            \n",
      "__________________________________________________________________________________________________\n",
      "bn2a_branch2a (BatchNormalizati (None, 75, 75, 64)   256         res2a_branch2a[0][0]             \n",
      "__________________________________________________________________________________________________\n",
      "activation_2 (Activation)       (None, 75, 75, 64)   0           bn2a_branch2a[0][0]              \n",
      "__________________________________________________________________________________________________\n",
      "res2a_branch2b (Conv2D)         (None, 75, 75, 64)   36928       activation_2[0][0]               \n",
      "__________________________________________________________________________________________________\n",
      "bn2a_branch2b (BatchNormalizati (None, 75, 75, 64)   256         res2a_branch2b[0][0]             \n",
      "__________________________________________________________________________________________________\n",
      "activation_3 (Activation)       (None, 75, 75, 64)   0           bn2a_branch2b[0][0]              \n",
      "__________________________________________________________________________________________________\n",
      "res2a_branch2c (Conv2D)         (None, 75, 75, 256)  16640       activation_3[0][0]               \n",
      "__________________________________________________________________________________________________\n",
      "res2a_branch1 (Conv2D)          (None, 75, 75, 256)  16640       max_pooling2d_1[0][0]            \n",
      "__________________________________________________________________________________________________\n",
      "bn2a_branch2c (BatchNormalizati (None, 75, 75, 256)  1024        res2a_branch2c[0][0]             \n",
      "__________________________________________________________________________________________________\n",
      "bn2a_branch1 (BatchNormalizatio (None, 75, 75, 256)  1024        res2a_branch1[0][0]              \n",
      "__________________________________________________________________________________________________\n",
      "add_13 (Add)                    (None, 75, 75, 256)  0           bn2a_branch2c[0][0]              \n",
      "                                                                 bn2a_branch1[0][0]               \n",
      "__________________________________________________________________________________________________\n",
      "activation_4 (Activation)       (None, 75, 75, 256)  0           add_13[0][0]                     \n",
      "__________________________________________________________________________________________________\n",
      "res2b_branch2a (Conv2D)         (None, 75, 75, 64)   16448       activation_4[0][0]               \n",
      "__________________________________________________________________________________________________\n",
      "bn2b_branch2a (BatchNormalizati (None, 75, 75, 64)   256         res2b_branch2a[0][0]             \n",
      "__________________________________________________________________________________________________\n",
      "activation_5 (Activation)       (None, 75, 75, 64)   0           bn2b_branch2a[0][0]              \n",
      "__________________________________________________________________________________________________\n",
      "res2b_branch2b (Conv2D)         (None, 75, 75, 64)   36928       activation_5[0][0]               \n",
      "__________________________________________________________________________________________________\n",
      "bn2b_branch2b (BatchNormalizati (None, 75, 75, 64)   256         res2b_branch2b[0][0]             \n",
      "__________________________________________________________________________________________________\n",
      "activation_6 (Activation)       (None, 75, 75, 64)   0           bn2b_branch2b[0][0]              \n",
      "__________________________________________________________________________________________________\n",
      "res2b_branch2c (Conv2D)         (None, 75, 75, 256)  16640       activation_6[0][0]               \n",
      "__________________________________________________________________________________________________\n",
      "bn2b_branch2c (BatchNormalizati (None, 75, 75, 256)  1024        res2b_branch2c[0][0]             \n",
      "__________________________________________________________________________________________________\n",
      "add_14 (Add)                    (None, 75, 75, 256)  0           bn2b_branch2c[0][0]              \n",
      "                                                                 activation_4[0][0]               \n",
      "__________________________________________________________________________________________________\n",
      "activation_7 (Activation)       (None, 75, 75, 256)  0           add_14[0][0]                     \n",
      "__________________________________________________________________________________________________\n",
      "res2c_branch2a (Conv2D)         (None, 75, 75, 64)   16448       activation_7[0][0]               \n",
      "__________________________________________________________________________________________________\n",
      "bn2c_branch2a (BatchNormalizati (None, 75, 75, 64)   256         res2c_branch2a[0][0]             \n",
      "__________________________________________________________________________________________________\n",
      "activation_8 (Activation)       (None, 75, 75, 64)   0           bn2c_branch2a[0][0]              \n",
      "__________________________________________________________________________________________________\n",
      "res2c_branch2b (Conv2D)         (None, 75, 75, 64)   36928       activation_8[0][0]               \n",
      "__________________________________________________________________________________________________\n",
      "bn2c_branch2b (BatchNormalizati (None, 75, 75, 64)   256         res2c_branch2b[0][0]             \n",
      "__________________________________________________________________________________________________\n",
      "activation_9 (Activation)       (None, 75, 75, 64)   0           bn2c_branch2b[0][0]              \n",
      "__________________________________________________________________________________________________\n",
      "res2c_branch2c (Conv2D)         (None, 75, 75, 256)  16640       activation_9[0][0]               \n",
      "__________________________________________________________________________________________________\n",
      "bn2c_branch2c (BatchNormalizati (None, 75, 75, 256)  1024        res2c_branch2c[0][0]             \n",
      "__________________________________________________________________________________________________\n",
      "add_15 (Add)                    (None, 75, 75, 256)  0           bn2c_branch2c[0][0]              \n",
      "                                                                 activation_7[0][0]               \n",
      "__________________________________________________________________________________________________\n",
      "activation_10 (Activation)      (None, 75, 75, 256)  0           add_15[0][0]                     \n",
      "__________________________________________________________________________________________________\n",
      "res3a_branch2a (Conv2D)         (None, 38, 38, 128)  32896       activation_10[0][0]              \n",
      "__________________________________________________________________________________________________\n",
      "bn3a_branch2a (BatchNormalizati (None, 38, 38, 128)  512         res3a_branch2a[0][0]             \n",
      "__________________________________________________________________________________________________\n",
      "activation_11 (Activation)      (None, 38, 38, 128)  0           bn3a_branch2a[0][0]              \n",
      "__________________________________________________________________________________________________\n",
      "res3a_branch2b (Conv2D)         (None, 38, 38, 128)  147584      activation_11[0][0]              \n",
      "__________________________________________________________________________________________________\n",
      "bn3a_branch2b (BatchNormalizati (None, 38, 38, 128)  512         res3a_branch2b[0][0]             \n",
      "__________________________________________________________________________________________________\n",
      "activation_12 (Activation)      (None, 38, 38, 128)  0           bn3a_branch2b[0][0]              \n",
      "__________________________________________________________________________________________________\n",
      "res3a_branch2c (Conv2D)         (None, 38, 38, 512)  66048       activation_12[0][0]              \n",
      "__________________________________________________________________________________________________\n",
      "res3a_branch1 (Conv2D)          (None, 38, 38, 512)  131584      activation_10[0][0]              \n",
      "__________________________________________________________________________________________________\n",
      "bn3a_branch2c (BatchNormalizati (None, 38, 38, 512)  2048        res3a_branch2c[0][0]             \n",
      "__________________________________________________________________________________________________\n",
      "bn3a_branch1 (BatchNormalizatio (None, 38, 38, 512)  2048        res3a_branch1[0][0]              \n",
      "__________________________________________________________________________________________________\n",
      "add_16 (Add)                    (None, 38, 38, 512)  0           bn3a_branch2c[0][0]              \n",
      "                                                                 bn3a_branch1[0][0]               \n",
      "__________________________________________________________________________________________________\n",
      "activation_13 (Activation)      (None, 38, 38, 512)  0           add_16[0][0]                     \n",
      "__________________________________________________________________________________________________\n",
      "res3b_branch2a (Conv2D)         (None, 38, 38, 128)  65664       activation_13[0][0]              \n",
      "__________________________________________________________________________________________________\n",
      "bn3b_branch2a (BatchNormalizati (None, 38, 38, 128)  512         res3b_branch2a[0][0]             \n",
      "__________________________________________________________________________________________________\n",
      "activation_14 (Activation)      (None, 38, 38, 128)  0           bn3b_branch2a[0][0]              \n",
      "__________________________________________________________________________________________________\n",
      "res3b_branch2b (Conv2D)         (None, 38, 38, 128)  147584      activation_14[0][0]              \n",
      "__________________________________________________________________________________________________\n",
      "bn3b_branch2b (BatchNormalizati (None, 38, 38, 128)  512         res3b_branch2b[0][0]             \n",
      "__________________________________________________________________________________________________\n",
      "activation_15 (Activation)      (None, 38, 38, 128)  0           bn3b_branch2b[0][0]              \n",
      "__________________________________________________________________________________________________\n",
      "res3b_branch2c (Conv2D)         (None, 38, 38, 512)  66048       activation_15[0][0]              \n",
      "__________________________________________________________________________________________________\n",
      "bn3b_branch2c (BatchNormalizati (None, 38, 38, 512)  2048        res3b_branch2c[0][0]             \n",
      "__________________________________________________________________________________________________\n",
      "add_17 (Add)                    (None, 38, 38, 512)  0           bn3b_branch2c[0][0]              \n",
      "                                                                 activation_13[0][0]              \n",
      "__________________________________________________________________________________________________\n",
      "activation_16 (Activation)      (None, 38, 38, 512)  0           add_17[0][0]                     \n",
      "__________________________________________________________________________________________________\n",
      "res3c_branch2a (Conv2D)         (None, 38, 38, 128)  65664       activation_16[0][0]              \n",
      "__________________________________________________________________________________________________\n",
      "bn3c_branch2a (BatchNormalizati (None, 38, 38, 128)  512         res3c_branch2a[0][0]             \n",
      "__________________________________________________________________________________________________\n",
      "activation_17 (Activation)      (None, 38, 38, 128)  0           bn3c_branch2a[0][0]              \n",
      "__________________________________________________________________________________________________\n",
      "res3c_branch2b (Conv2D)         (None, 38, 38, 128)  147584      activation_17[0][0]              \n",
      "__________________________________________________________________________________________________\n",
      "bn3c_branch2b (BatchNormalizati (None, 38, 38, 128)  512         res3c_branch2b[0][0]             \n",
      "__________________________________________________________________________________________________\n",
      "activation_18 (Activation)      (None, 38, 38, 128)  0           bn3c_branch2b[0][0]              \n",
      "__________________________________________________________________________________________________\n",
      "res3c_branch2c (Conv2D)         (None, 38, 38, 512)  66048       activation_18[0][0]              \n",
      "__________________________________________________________________________________________________\n",
      "bn3c_branch2c (BatchNormalizati (None, 38, 38, 512)  2048        res3c_branch2c[0][0]             \n",
      "__________________________________________________________________________________________________\n",
      "add_18 (Add)                    (None, 38, 38, 512)  0           bn3c_branch2c[0][0]              \n",
      "                                                                 activation_16[0][0]              \n",
      "__________________________________________________________________________________________________\n",
      "activation_19 (Activation)      (None, 38, 38, 512)  0           add_18[0][0]                     \n",
      "__________________________________________________________________________________________________\n",
      "res3d_branch2a (Conv2D)         (None, 38, 38, 128)  65664       activation_19[0][0]              \n",
      "__________________________________________________________________________________________________\n",
      "bn3d_branch2a (BatchNormalizati (None, 38, 38, 128)  512         res3d_branch2a[0][0]             \n",
      "__________________________________________________________________________________________________\n",
      "activation_20 (Activation)      (None, 38, 38, 128)  0           bn3d_branch2a[0][0]              \n",
      "__________________________________________________________________________________________________\n",
      "res3d_branch2b (Conv2D)         (None, 38, 38, 128)  147584      activation_20[0][0]              \n",
      "__________________________________________________________________________________________________\n",
      "bn3d_branch2b (BatchNormalizati (None, 38, 38, 128)  512         res3d_branch2b[0][0]             \n",
      "__________________________________________________________________________________________________\n",
      "activation_21 (Activation)      (None, 38, 38, 128)  0           bn3d_branch2b[0][0]              \n",
      "__________________________________________________________________________________________________\n",
      "res3d_branch2c (Conv2D)         (None, 38, 38, 512)  66048       activation_21[0][0]              \n",
      "__________________________________________________________________________________________________\n",
      "bn3d_branch2c (BatchNormalizati (None, 38, 38, 512)  2048        res3d_branch2c[0][0]             \n",
      "__________________________________________________________________________________________________\n",
      "add_19 (Add)                    (None, 38, 38, 512)  0           bn3d_branch2c[0][0]              \n",
      "                                                                 activation_19[0][0]              \n",
      "__________________________________________________________________________________________________\n",
      "activation_22 (Activation)      (None, 38, 38, 512)  0           add_19[0][0]                     \n",
      "__________________________________________________________________________________________________\n",
      "res4a_branch2a (Conv2D)         (None, 19, 19, 256)  131328      activation_22[0][0]              \n",
      "__________________________________________________________________________________________________\n",
      "bn4a_branch2a (BatchNormalizati (None, 19, 19, 256)  1024        res4a_branch2a[0][0]             \n",
      "__________________________________________________________________________________________________\n",
      "activation_23 (Activation)      (None, 19, 19, 256)  0           bn4a_branch2a[0][0]              \n",
      "__________________________________________________________________________________________________\n",
      "res4a_branch2b (Conv2D)         (None, 19, 19, 256)  590080      activation_23[0][0]              \n",
      "__________________________________________________________________________________________________\n",
      "bn4a_branch2b (BatchNormalizati (None, 19, 19, 256)  1024        res4a_branch2b[0][0]             \n",
      "__________________________________________________________________________________________________\n",
      "activation_24 (Activation)      (None, 19, 19, 256)  0           bn4a_branch2b[0][0]              \n",
      "__________________________________________________________________________________________________\n",
      "res4a_branch2c (Conv2D)         (None, 19, 19, 1024) 263168      activation_24[0][0]              \n",
      "__________________________________________________________________________________________________\n",
      "res4a_branch1 (Conv2D)          (None, 19, 19, 1024) 525312      activation_22[0][0]              \n",
      "__________________________________________________________________________________________________\n",
      "bn4a_branch2c (BatchNormalizati (None, 19, 19, 1024) 4096        res4a_branch2c[0][0]             \n",
      "__________________________________________________________________________________________________\n",
      "bn4a_branch1 (BatchNormalizatio (None, 19, 19, 1024) 4096        res4a_branch1[0][0]              \n",
      "__________________________________________________________________________________________________\n",
      "add_20 (Add)                    (None, 19, 19, 1024) 0           bn4a_branch2c[0][0]              \n",
      "                                                                 bn4a_branch1[0][0]               \n",
      "__________________________________________________________________________________________________\n",
      "activation_25 (Activation)      (None, 19, 19, 1024) 0           add_20[0][0]                     \n",
      "__________________________________________________________________________________________________\n",
      "res4b_branch2a (Conv2D)         (None, 19, 19, 256)  262400      activation_25[0][0]              \n",
      "__________________________________________________________________________________________________\n",
      "bn4b_branch2a (BatchNormalizati (None, 19, 19, 256)  1024        res4b_branch2a[0][0]             \n",
      "__________________________________________________________________________________________________\n",
      "activation_26 (Activation)      (None, 19, 19, 256)  0           bn4b_branch2a[0][0]              \n",
      "__________________________________________________________________________________________________\n",
      "res4b_branch2b (Conv2D)         (None, 19, 19, 256)  590080      activation_26[0][0]              \n",
      "__________________________________________________________________________________________________\n",
      "bn4b_branch2b (BatchNormalizati (None, 19, 19, 256)  1024        res4b_branch2b[0][0]             \n",
      "__________________________________________________________________________________________________\n",
      "activation_27 (Activation)      (None, 19, 19, 256)  0           bn4b_branch2b[0][0]              \n",
      "__________________________________________________________________________________________________\n",
      "res4b_branch2c (Conv2D)         (None, 19, 19, 1024) 263168      activation_27[0][0]              \n",
      "__________________________________________________________________________________________________\n",
      "bn4b_branch2c (BatchNormalizati (None, 19, 19, 1024) 4096        res4b_branch2c[0][0]             \n",
      "__________________________________________________________________________________________________\n",
      "add_21 (Add)                    (None, 19, 19, 1024) 0           bn4b_branch2c[0][0]              \n",
      "                                                                 activation_25[0][0]              \n",
      "__________________________________________________________________________________________________\n",
      "activation_28 (Activation)      (None, 19, 19, 1024) 0           add_21[0][0]                     \n",
      "__________________________________________________________________________________________________\n",
      "res4c_branch2a (Conv2D)         (None, 19, 19, 256)  262400      activation_28[0][0]              \n",
      "__________________________________________________________________________________________________\n",
      "bn4c_branch2a (BatchNormalizati (None, 19, 19, 256)  1024        res4c_branch2a[0][0]             \n",
      "__________________________________________________________________________________________________\n",
      "activation_29 (Activation)      (None, 19, 19, 256)  0           bn4c_branch2a[0][0]              \n",
      "__________________________________________________________________________________________________\n",
      "res4c_branch2b (Conv2D)         (None, 19, 19, 256)  590080      activation_29[0][0]              \n",
      "__________________________________________________________________________________________________\n",
      "bn4c_branch2b (BatchNormalizati (None, 19, 19, 256)  1024        res4c_branch2b[0][0]             \n",
      "__________________________________________________________________________________________________\n",
      "activation_30 (Activation)      (None, 19, 19, 256)  0           bn4c_branch2b[0][0]              \n",
      "__________________________________________________________________________________________________\n",
      "res4c_branch2c (Conv2D)         (None, 19, 19, 1024) 263168      activation_30[0][0]              \n",
      "__________________________________________________________________________________________________\n",
      "bn4c_branch2c (BatchNormalizati (None, 19, 19, 1024) 4096        res4c_branch2c[0][0]             \n",
      "__________________________________________________________________________________________________\n",
      "add_22 (Add)                    (None, 19, 19, 1024) 0           bn4c_branch2c[0][0]              \n",
      "                                                                 activation_28[0][0]              \n",
      "__________________________________________________________________________________________________\n",
      "activation_31 (Activation)      (None, 19, 19, 1024) 0           add_22[0][0]                     \n",
      "__________________________________________________________________________________________________\n",
      "res4d_branch2a (Conv2D)         (None, 19, 19, 256)  262400      activation_31[0][0]              \n",
      "__________________________________________________________________________________________________\n",
      "bn4d_branch2a (BatchNormalizati (None, 19, 19, 256)  1024        res4d_branch2a[0][0]             \n",
      "__________________________________________________________________________________________________\n",
      "activation_32 (Activation)      (None, 19, 19, 256)  0           bn4d_branch2a[0][0]              \n",
      "__________________________________________________________________________________________________\n",
      "res4d_branch2b (Conv2D)         (None, 19, 19, 256)  590080      activation_32[0][0]              \n",
      "__________________________________________________________________________________________________\n",
      "bn4d_branch2b (BatchNormalizati (None, 19, 19, 256)  1024        res4d_branch2b[0][0]             \n",
      "__________________________________________________________________________________________________\n",
      "activation_33 (Activation)      (None, 19, 19, 256)  0           bn4d_branch2b[0][0]              \n",
      "__________________________________________________________________________________________________\n",
      "res4d_branch2c (Conv2D)         (None, 19, 19, 1024) 263168      activation_33[0][0]              \n",
      "__________________________________________________________________________________________________\n",
      "bn4d_branch2c (BatchNormalizati (None, 19, 19, 1024) 4096        res4d_branch2c[0][0]             \n",
      "__________________________________________________________________________________________________\n",
      "add_23 (Add)                    (None, 19, 19, 1024) 0           bn4d_branch2c[0][0]              \n",
      "                                                                 activation_31[0][0]              \n",
      "__________________________________________________________________________________________________\n",
      "activation_34 (Activation)      (None, 19, 19, 1024) 0           add_23[0][0]                     \n",
      "__________________________________________________________________________________________________\n",
      "res4e_branch2a (Conv2D)         (None, 19, 19, 256)  262400      activation_34[0][0]              \n",
      "__________________________________________________________________________________________________\n",
      "bn4e_branch2a (BatchNormalizati (None, 19, 19, 256)  1024        res4e_branch2a[0][0]             \n",
      "__________________________________________________________________________________________________\n",
      "activation_35 (Activation)      (None, 19, 19, 256)  0           bn4e_branch2a[0][0]              \n",
      "__________________________________________________________________________________________________\n",
      "res4e_branch2b (Conv2D)         (None, 19, 19, 256)  590080      activation_35[0][0]              \n",
      "__________________________________________________________________________________________________\n",
      "bn4e_branch2b (BatchNormalizati (None, 19, 19, 256)  1024        res4e_branch2b[0][0]             \n",
      "__________________________________________________________________________________________________\n",
      "activation_36 (Activation)      (None, 19, 19, 256)  0           bn4e_branch2b[0][0]              \n",
      "__________________________________________________________________________________________________\n",
      "res4e_branch2c (Conv2D)         (None, 19, 19, 1024) 263168      activation_36[0][0]              \n",
      "__________________________________________________________________________________________________\n",
      "bn4e_branch2c (BatchNormalizati (None, 19, 19, 1024) 4096        res4e_branch2c[0][0]             \n",
      "__________________________________________________________________________________________________\n",
      "add_24 (Add)                    (None, 19, 19, 1024) 0           bn4e_branch2c[0][0]              \n",
      "                                                                 activation_34[0][0]              \n",
      "__________________________________________________________________________________________________\n",
      "activation_37 (Activation)      (None, 19, 19, 1024) 0           add_24[0][0]                     \n",
      "__________________________________________________________________________________________________\n",
      "res4f_branch2a (Conv2D)         (None, 19, 19, 256)  262400      activation_37[0][0]              \n",
      "__________________________________________________________________________________________________\n",
      "bn4f_branch2a (BatchNormalizati (None, 19, 19, 256)  1024        res4f_branch2a[0][0]             \n",
      "__________________________________________________________________________________________________\n",
      "activation_38 (Activation)      (None, 19, 19, 256)  0           bn4f_branch2a[0][0]              \n",
      "__________________________________________________________________________________________________\n",
      "res4f_branch2b (Conv2D)         (None, 19, 19, 256)  590080      activation_38[0][0]              \n",
      "__________________________________________________________________________________________________\n",
      "bn4f_branch2b (BatchNormalizati (None, 19, 19, 256)  1024        res4f_branch2b[0][0]             \n",
      "__________________________________________________________________________________________________\n",
      "activation_39 (Activation)      (None, 19, 19, 256)  0           bn4f_branch2b[0][0]              \n",
      "__________________________________________________________________________________________________\n",
      "res4f_branch2c (Conv2D)         (None, 19, 19, 1024) 263168      activation_39[0][0]              \n",
      "__________________________________________________________________________________________________\n",
      "bn4f_branch2c (BatchNormalizati (None, 19, 19, 1024) 4096        res4f_branch2c[0][0]             \n",
      "__________________________________________________________________________________________________\n",
      "add_25 (Add)                    (None, 19, 19, 1024) 0           bn4f_branch2c[0][0]              \n",
      "                                                                 activation_37[0][0]              \n",
      "__________________________________________________________________________________________________\n",
      "activation_40 (Activation)      (None, 19, 19, 1024) 0           add_25[0][0]                     \n",
      "__________________________________________________________________________________________________\n",
      "res5a_branch2a (Conv2D)         (None, 10, 10, 512)  524800      activation_40[0][0]              \n",
      "__________________________________________________________________________________________________\n",
      "bn5a_branch2a (BatchNormalizati (None, 10, 10, 512)  2048        res5a_branch2a[0][0]             \n",
      "__________________________________________________________________________________________________\n",
      "activation_41 (Activation)      (None, 10, 10, 512)  0           bn5a_branch2a[0][0]              \n",
      "__________________________________________________________________________________________________\n",
      "res5a_branch2b (Conv2D)         (None, 10, 10, 512)  2359808     activation_41[0][0]              \n",
      "__________________________________________________________________________________________________\n",
      "bn5a_branch2b (BatchNormalizati (None, 10, 10, 512)  2048        res5a_branch2b[0][0]             \n",
      "__________________________________________________________________________________________________\n",
      "activation_42 (Activation)      (None, 10, 10, 512)  0           bn5a_branch2b[0][0]              \n",
      "__________________________________________________________________________________________________\n",
      "res5a_branch2c (Conv2D)         (None, 10, 10, 2048) 1050624     activation_42[0][0]              \n",
      "__________________________________________________________________________________________________\n",
      "res5a_branch1 (Conv2D)          (None, 10, 10, 2048) 2099200     activation_40[0][0]              \n",
      "__________________________________________________________________________________________________\n",
      "bn5a_branch2c (BatchNormalizati (None, 10, 10, 2048) 8192        res5a_branch2c[0][0]             \n",
      "__________________________________________________________________________________________________\n",
      "bn5a_branch1 (BatchNormalizatio (None, 10, 10, 2048) 8192        res5a_branch1[0][0]              \n",
      "__________________________________________________________________________________________________\n",
      "add_26 (Add)                    (None, 10, 10, 2048) 0           bn5a_branch2c[0][0]              \n",
      "                                                                 bn5a_branch1[0][0]               \n",
      "__________________________________________________________________________________________________\n",
      "activation_43 (Activation)      (None, 10, 10, 2048) 0           add_26[0][0]                     \n",
      "__________________________________________________________________________________________________\n",
      "res5b_branch2a (Conv2D)         (None, 10, 10, 512)  1049088     activation_43[0][0]              \n",
      "__________________________________________________________________________________________________\n",
      "bn5b_branch2a (BatchNormalizati (None, 10, 10, 512)  2048        res5b_branch2a[0][0]             \n",
      "__________________________________________________________________________________________________\n",
      "activation_44 (Activation)      (None, 10, 10, 512)  0           bn5b_branch2a[0][0]              \n",
      "__________________________________________________________________________________________________\n",
      "res5b_branch2b (Conv2D)         (None, 10, 10, 512)  2359808     activation_44[0][0]              \n",
      "__________________________________________________________________________________________________\n",
      "bn5b_branch2b (BatchNormalizati (None, 10, 10, 512)  2048        res5b_branch2b[0][0]             \n",
      "__________________________________________________________________________________________________\n",
      "activation_45 (Activation)      (None, 10, 10, 512)  0           bn5b_branch2b[0][0]              \n",
      "__________________________________________________________________________________________________\n",
      "res5b_branch2c (Conv2D)         (None, 10, 10, 2048) 1050624     activation_45[0][0]              \n",
      "__________________________________________________________________________________________________\n",
      "bn5b_branch2c (BatchNormalizati (None, 10, 10, 2048) 8192        res5b_branch2c[0][0]             \n",
      "__________________________________________________________________________________________________\n",
      "add_27 (Add)                    (None, 10, 10, 2048) 0           bn5b_branch2c[0][0]              \n",
      "                                                                 activation_43[0][0]              \n",
      "__________________________________________________________________________________________________\n",
      "activation_46 (Activation)      (None, 10, 10, 2048) 0           add_27[0][0]                     \n",
      "__________________________________________________________________________________________________\n",
      "res5c_branch2a (Conv2D)         (None, 10, 10, 512)  1049088     activation_46[0][0]              \n",
      "__________________________________________________________________________________________________\n",
      "bn5c_branch2a (BatchNormalizati (None, 10, 10, 512)  2048        res5c_branch2a[0][0]             \n",
      "__________________________________________________________________________________________________\n",
      "activation_47 (Activation)      (None, 10, 10, 512)  0           bn5c_branch2a[0][0]              \n",
      "__________________________________________________________________________________________________\n",
      "res5c_branch2b (Conv2D)         (None, 10, 10, 512)  2359808     activation_47[0][0]              \n",
      "__________________________________________________________________________________________________\n",
      "bn5c_branch2b (BatchNormalizati (None, 10, 10, 512)  2048        res5c_branch2b[0][0]             \n",
      "__________________________________________________________________________________________________\n",
      "activation_48 (Activation)      (None, 10, 10, 512)  0           bn5c_branch2b[0][0]              \n",
      "__________________________________________________________________________________________________\n",
      "res5c_branch2c (Conv2D)         (None, 10, 10, 2048) 1050624     activation_48[0][0]              \n",
      "__________________________________________________________________________________________________\n",
      "bn5c_branch2c (BatchNormalizati (None, 10, 10, 2048) 8192        res5c_branch2c[0][0]             \n",
      "__________________________________________________________________________________________________\n",
      "add_28 (Add)                    (None, 10, 10, 2048) 0           bn5c_branch2c[0][0]              \n",
      "                                                                 activation_46[0][0]              \n",
      "__________________________________________________________________________________________________\n",
      "activation_49 (Activation)      (None, 10, 10, 2048) 0           add_28[0][0]                     \n",
      "__________________________________________________________________________________________________\n",
      "conv9_1 (Conv2D)                (None, 10, 10, 128)  262272      activation_49[0][0]              \n",
      "__________________________________________________________________________________________________\n",
      "conv9_2 (Conv2D)                (None, 5, 5, 256)    295168      conv9_1[0][0]                    \n",
      "__________________________________________________________________________________________________\n",
      "conv10_1 (Conv2D)               (None, 5, 5, 128)    32896       conv9_2[0][0]                    \n",
      "__________________________________________________________________________________________________\n",
      "conv10_2 (Conv2D)               (None, 3, 3, 256)    295168      conv10_1[0][0]                   \n",
      "__________________________________________________________________________________________________\n",
      "conv11_1 (Conv2D)               (None, 3, 3, 128)    32896       conv10_2[0][0]                   \n",
      "__________________________________________________________________________________________________\n",
      "conv11_2 (Conv2D)               (None, 1, 1, 256)    295168      conv11_1[0][0]                   \n",
      "__________________________________________________________________________________________________\n",
      "1st_conf (Conv2D)               (None, 38, 38, 2400) 1231200     activation_22[0][0]              \n",
      "__________________________________________________________________________________________________\n",
      "2nd_conf (Conv2D)               (None, 19, 19, 3600) 3690000     activation_40[0][0]              \n",
      "__________________________________________________________________________________________________\n",
      "3rd_conf (Conv2D)               (None, 10, 10, 3600) 7376400     activation_49[0][0]              \n",
      "__________________________________________________________________________________________________\n",
      "4th_conf (Conv2D)               (None, 5, 5, 3600)   925200      conv9_2[0][0]                    \n",
      "__________________________________________________________________________________________________\n",
      "5th_conf (Conv2D)               (None, 3, 3, 2400)   616800      conv10_2[0][0]                   \n",
      "__________________________________________________________________________________________________\n",
      "6th_conf (Conv2D)               (None, 1, 1, 2400)   616800      conv11_2[0][0]                   \n",
      "__________________________________________________________________________________________________\n",
      "rconf1 (Reshape)                (None, 5776, 600)    0           1st_conf[0][0]                   \n",
      "__________________________________________________________________________________________________\n",
      "rconf2 (Reshape)                (None, 2166, 600)    0           2nd_conf[0][0]                   \n",
      "__________________________________________________________________________________________________\n",
      "rconf3 (Reshape)                (None, 600, 600)     0           3rd_conf[0][0]                   \n",
      "__________________________________________________________________________________________________\n",
      "rconf4 (Reshape)                (None, 150, 600)     0           4th_conf[0][0]                   \n",
      "__________________________________________________________________________________________________\n",
      "rconf5 (Reshape)                (None, 36, 600)      0           5th_conf[0][0]                   \n",
      "__________________________________________________________________________________________________\n",
      "rconf6 (Reshape)                (None, 4, 600)       0           6th_conf[0][0]                   \n",
      "__________________________________________________________________________________________________\n",
      "1st_bbs (Conv2D)                (None, 38, 38, 16)   8208        activation_22[0][0]              \n",
      "__________________________________________________________________________________________________\n",
      "2nd_bbs (Conv2D)                (None, 19, 19, 24)   24600       activation_40[0][0]              \n",
      "__________________________________________________________________________________________________\n",
      "3rd_bbs (Conv2D)                (None, 10, 10, 24)   49176       activation_49[0][0]              \n",
      "__________________________________________________________________________________________________\n",
      "4th_bbs (Conv2D)                (None, 5, 5, 24)     6168        conv9_2[0][0]                    \n",
      "__________________________________________________________________________________________________\n",
      "5th_bbs (Conv2D)                (None, 3, 3, 16)     4112        conv10_2[0][0]                   \n",
      "__________________________________________________________________________________________________\n",
      "6th_bbs (Conv2D)                (None, 1, 1, 16)     4112        conv11_2[0][0]                   \n",
      "__________________________________________________________________________________________________\n",
      "activation_50 (Activation)      (None, 5776, 600)    0           rconf1[0][0]                     \n",
      "__________________________________________________________________________________________________\n",
      "activation_51 (Activation)      (None, 2166, 600)    0           rconf2[0][0]                     \n",
      "__________________________________________________________________________________________________\n",
      "activation_52 (Activation)      (None, 600, 600)     0           rconf3[0][0]                     \n",
      "__________________________________________________________________________________________________\n",
      "activation_53 (Activation)      (None, 150, 600)     0           rconf4[0][0]                     \n",
      "__________________________________________________________________________________________________\n",
      "activation_54 (Activation)      (None, 36, 600)      0           rconf5[0][0]                     \n",
      "__________________________________________________________________________________________________\n",
      "activation_55 (Activation)      (None, 4, 600)       0           rconf6[0][0]                     \n",
      "__________________________________________________________________________________________________\n",
      "rloc1 (Reshape)                 (None, 5776, 4)      0           1st_bbs[0][0]                    \n",
      "__________________________________________________________________________________________________\n",
      "rloc2 (Reshape)                 (None, 2166, 4)      0           2nd_bbs[0][0]                    \n",
      "__________________________________________________________________________________________________\n",
      "rloc3 (Reshape)                 (None, 600, 4)       0           3rd_bbs[0][0]                    \n",
      "__________________________________________________________________________________________________\n",
      "rloc4 (Reshape)                 (None, 150, 4)       0           4th_bbs[0][0]                    \n",
      "__________________________________________________________________________________________________\n",
      "rloc5 (Reshape)                 (None, 36, 4)        0           5th_bbs[0][0]                    \n",
      "__________________________________________________________________________________________________\n",
      "rloc6 (Reshape)                 (None, 4, 4)         0           6th_bbs[0][0]                    \n",
      "__________________________________________________________________________________________________\n",
      "all_preds (Concatenate)         (None, 8732, 600)    0           activation_50[0][0]              \n",
      "                                                                 activation_51[0][0]              \n",
      "                                                                 activation_52[0][0]              \n",
      "                                                                 activation_53[0][0]              \n",
      "                                                                 activation_54[0][0]              \n",
      "                                                                 activation_55[0][0]              \n",
      "__________________________________________________________________________________________________\n",
      "all_bbox (Concatenate)          (None, 8732, 4)      0           rloc1[0][0]                      \n",
      "                                                                 rloc2[0][0]                      \n",
      "                                                                 rloc3[0][0]                      \n",
      "                                                                 rloc4[0][0]                      \n",
      "                                                                 rloc5[0][0]                      \n",
      "                                                                 rloc6[0][0]                      \n",
      "__________________________________________________________________________________________________\n",
      "concatenate_1 (Concatenate)     (None, 8732, 604)    0           all_preds[0][0]                  \n",
      "                                                                 all_bbox[0][0]                   \n",
      "__________________________________________________________________________________________________\n",
      "anchorage (Anchorage)           (None, 8732, 604)    0           concatenate_1[0][0]              \n",
      "__________________________________________________________________________________________________\n",
      "suppresion (Suppression)        (None, 8732, 604)    0           anchorage[0][0]                  \n",
      "==================================================================================================\n",
      "Total params: 39,354,056\n",
      "Trainable params: 39,300,936\n",
      "Non-trainable params: 53,120\n",
      "__________________________________________________________________________________________________\n"
     ]
    },
    {
     "data": {
      "text/plain": [
       "None"
      ]
     },
     "metadata": {},
     "output_type": "display_data"
    },
    {
     "ename": "NameError",
     "evalue": "name 'images' is not defined",
     "output_type": "error",
     "traceback": [
      "\u001b[0;31m---------------------------------------------------------------------------\u001b[0m",
      "\u001b[0;31mNameError\u001b[0m                                 Traceback (most recent call last)",
      "\u001b[0;32m<ipython-input-5-f2c04693f0d5>\u001b[0m in \u001b[0;36m<module>\u001b[0;34m\u001b[0m\n\u001b[1;32m      6\u001b[0m \u001b[0;34m\u001b[0m\u001b[0m\n\u001b[1;32m      7\u001b[0m \u001b[0;31m# turn on the engine =]\u001b[0m\u001b[0;34m\u001b[0m\u001b[0;34m\u001b[0m\u001b[0;34m\u001b[0m\u001b[0m\n\u001b[0;32m----> 8\u001b[0;31m \u001b[0mmodel\u001b[0m\u001b[0;34m.\u001b[0m\u001b[0mpredict\u001b[0m\u001b[0;34m(\u001b[0m\u001b[0mimages\u001b[0m\u001b[0;34m[\u001b[0m\u001b[0;34m:\u001b[0m\u001b[0;36m1\u001b[0m\u001b[0;34m]\u001b[0m\u001b[0;34m)\u001b[0m\u001b[0;34m;\u001b[0m\u001b[0;34m\u001b[0m\u001b[0;34m\u001b[0m\u001b[0m\n\u001b[0m",
      "\u001b[0;31mNameError\u001b[0m: name 'images' is not defined"
     ]
    }
   ],
   "source": [
    "model = ssd_model_300_resnet(inference=True)\n",
    "\n",
    "model.load_weights(os.path.abspath(content.DATAPATH) + '/resnet-weights300.h5')\n",
    "\n",
    "display(model.summary())\n",
    "\n",
    "# turn on the engine =]\n",
    "model.predict(images[:1]);"
   ]
  },
  {
   "cell_type": "markdown",
   "metadata": {},
   "source": [
    "### FINAL"
   ]
  },
  {
   "cell_type": "code",
   "execution_count": null,
   "metadata": {
    "code_folding": [
     5,
     15,
     68
    ],
    "run_control": {
     "marked": false
    },
    "scrolled": true
   },
   "outputs": [
    {
     "name": "stderr",
     "output_type": "stream",
     "text": [
      "  1%|          | 5/600 [01:18<3:35:30, 21.73s/it]"
     ]
    },
    {
     "name": "stdout",
     "output_type": "stream",
     "text": [
      "4 ('airplane', 0.18366062778408246)\n"
     ]
    },
    {
     "name": "stderr",
     "output_type": "stream",
     "text": [
      "  2%|▏         | 9/600 [01:40<1:49:12, 11.09s/it]"
     ]
    },
    {
     "name": "stdout",
     "output_type": "stream",
     "text": [
      "8 ('animal', 0.0009894196743806295)\n"
     ]
    },
    {
     "name": "stderr",
     "output_type": "stream",
     "text": [
      "  3%|▎         | 19/600 [03:40<3:54:04, 24.17s/it]"
     ]
    },
    {
     "name": "stdout",
     "output_type": "stream",
     "text": [
      "18 ('baked_goods', 0.2125448090629551)\n"
     ]
    },
    {
     "name": "stderr",
     "output_type": "stream",
     "text": [
      "  8%|▊         | 51/600 [06:39<2:34:11, 16.85s/it]"
     ]
    },
    {
     "name": "stdout",
     "output_type": "stream",
     "text": [
      "50 ('bird', 0.005672752034865907)\n"
     ]
    },
    {
     "name": "stderr",
     "output_type": "stream",
     "text": [
      "  9%|▉         | 54/600 [07:27<3:01:09, 19.91s/it]"
     ]
    },
    {
     "name": "stdout",
     "output_type": "stream",
     "text": [
      "53 ('boat', 0.009781162877047622)\n"
     ]
    },
    {
     "name": "stderr",
     "output_type": "stream",
     "text": [
      "\r",
      "  9%|▉         | 56/600 [07:34<2:16:28, 15.05s/it]"
     ]
    },
    {
     "name": "stdout",
     "output_type": "stream",
     "text": [
      "55 ('book', 0.0007442384004884005)\n"
     ]
    },
    {
     "name": "stderr",
     "output_type": "stream",
     "text": [
      " 11%|█         | 65/600 [09:04<2:39:06, 17.84s/it]"
     ]
    },
    {
     "name": "stdout",
     "output_type": "stream",
     "text": [
      "64 ('boy', 0.04325186040182922)\n"
     ]
    },
    {
     "name": "stderr",
     "output_type": "stream",
     "text": [
      " 12%|█▏        | 72/600 [12:07<7:04:30, 48.24s/it]"
     ]
    },
    {
     "name": "stdout",
     "output_type": "stream",
     "text": [
      "71 ('building', 0.15050866854743067)\n"
     ]
    },
    {
     "name": "stderr",
     "output_type": "stream",
     "text": [
      " 12%|█▎        | 75/600 [12:20<2:51:49, 19.64s/it]"
     ]
    },
    {
     "name": "stdout",
     "output_type": "stream",
     "text": [
      "74 ('bus', 0.2682956890044296)\n"
     ]
    },
    {
     "name": "stderr",
     "output_type": "stream",
     "text": [
      " 13%|█▎        | 80/600 [13:03<1:54:28, 13.21s/it]"
     ]
    },
    {
     "name": "stdout",
     "output_type": "stream",
     "text": [
      "79 ('cake', 0.1267110141896173)\n"
     ]
    },
    {
     "name": "stderr",
     "output_type": "stream",
     "text": [
      " 14%|█▍        | 84/600 [13:17<1:00:33,  7.04s/it]"
     ]
    },
    {
     "name": "stdout",
     "output_type": "stream",
     "text": [
      "83 ('camera', 0.08689177257001399)\n"
     ]
    },
    {
     "name": "stderr",
     "output_type": "stream",
     "text": [
      " 15%|█▌        | 92/600 [20:24<17:28:46, 123.87s/it]"
     ]
    },
    {
     "name": "stdout",
     "output_type": "stream",
     "text": [
      "91 ('car', 0.13185824423673317)\n"
     ]
    },
    {
     "name": "stderr",
     "output_type": "stream",
     "text": [
      " 16%|█▌        | 97/600 [20:56<3:25:15, 24.48s/it]  "
     ]
    },
    {
     "name": "stdout",
     "output_type": "stream",
     "text": [
      "96 ('castle', 0.1405054405054405)\n"
     ]
    },
    {
     "name": "stderr",
     "output_type": "stream",
     "text": [
      "\r",
      " 16%|█▋        | 98/600 [21:24<3:32:55, 25.45s/it]"
     ]
    },
    {
     "name": "stdout",
     "output_type": "stream",
     "text": [
      "97 ('cat', 0.32615269628562077)\n"
     ]
    },
    {
     "name": "stderr",
     "output_type": "stream",
     "text": [
      " 20%|█▉        | 117/600 [31:14<21:14:33, 158.33s/it]"
     ]
    },
    {
     "name": "stdout",
     "output_type": "stream",
     "text": [
      "116 ('clothing', 0.003257603723591844)\n"
     ]
    },
    {
     "name": "stderr",
     "output_type": "stream",
     "text": [
      " 20%|██        | 123/600 [31:56<4:31:12, 34.11s/it]  "
     ]
    },
    {
     "name": "stdout",
     "output_type": "stream",
     "text": [
      "122 ('coffee_cup', 0.08957423432260486)\n"
     ]
    },
    {
     "name": "stderr",
     "output_type": "stream",
     "text": [
      " 22%|██▏       | 132/600 [32:27<44:35,  5.72s/it]  "
     ]
    },
    {
     "name": "stdout",
     "output_type": "stream",
     "text": [
      "131 ('convenience_store', 0.023138297872340424)\n"
     ]
    },
    {
     "name": "stderr",
     "output_type": "stream",
     "text": [
      " 26%|██▌       | 155/600 [35:01<2:42:25, 21.90s/it]"
     ]
    },
    {
     "name": "stdout",
     "output_type": "stream",
     "text": [
      "154 ('dessert', 0.2035939652784164)\n"
     ]
    },
    {
     "name": "stderr",
     "output_type": "stream",
     "text": [
      " 26%|██▋       | 159/600 [35:06<1:02:19,  8.48s/it]"
     ]
    },
    {
     "name": "stdout",
     "output_type": "stream",
     "text": [
      "158 ('dinosaur', 0.1011033681765389)\n"
     ]
    },
    {
     "name": "stderr",
     "output_type": "stream",
     "text": [
      " 27%|██▋       | 161/600 [37:10<5:04:21, 41.60s/it]"
     ]
    },
    {
     "name": "stdout",
     "output_type": "stream",
     "text": [
      "160 ('dog', 0.2587906136404432)\n"
     ]
    },
    {
     "name": "stderr",
     "output_type": "stream",
     "text": [
      " 28%|██▊       | 165/600 [37:37<2:00:25, 16.61s/it]"
     ]
    },
    {
     "name": "stdout",
     "output_type": "stream",
     "text": [
      "164 ('door', 0.0056642082669356485)\n"
     ]
    },
    {
     "name": "stderr",
     "output_type": "stream",
     "text": [
      " 31%|███       | 185/600 [39:47<15:12,  2.20s/it]  "
     ]
    }
   ],
   "source": [
    "%%time\n",
    "from sklearn.metrics import auc\n",
    "\n",
    "total = {}\n",
    "\n",
    "def images(label_id):\n",
    "    images = []\n",
    "\n",
    "    with h5py.File(os.path.join(MODELPATH, 'cross_val', f'{label_id}.h5'), mode='r') as f:\n",
    "        images_ids = list(f.keys())\n",
    "        for k in images_ids:\n",
    "            images.append(f[k][:])\n",
    "        \n",
    "    return np.concatenate(images, axis=0), images_ids\n",
    "\n",
    "def match_predictions(label_id, predictions, image_ids):\n",
    "    results = []\n",
    "\n",
    "    for img_id, img_pred in zip(image_ids, predictions):\n",
    "        ground_truths = df[(df.ImageID == img_id)\n",
    "                           & (df.LabelID == label_id)][['cx', 'cy', 'w', 'h']].values\n",
    "        bboxes_preds = np.pad(img_pred[img_pred[..., 0] == label_id],\n",
    "                              [[0, 0],[0, 1]])\n",
    "\n",
    "        if bboxes_preds.shape[0] > 0:\n",
    "            for bbox_label in ground_truths:\n",
    "                ious = iou(bbox_label, bboxes_preds[..., -5:-1])\n",
    "                index = np.argmax(ious)\n",
    "\n",
    "                if ious[index] >= .5:\n",
    "                    bboxes_preds[index, -1] = 1\n",
    "\n",
    "        results.append(bboxes_preds)\n",
    "        \n",
    "    return np.concatenate(results)\n",
    "\n",
    "def calc_auc(label_id, total_bbox, matched):\n",
    "    true_positives = matched[matched[..., -1] == 1][..., 1]\n",
    "    false_positives = matched[matched[..., -1] == 0][..., 1]\n",
    "    \n",
    "    if true_positives.shape[0] == 0:\n",
    "        return 0\n",
    "    \n",
    "    percs = [np.percentile(true_positives, i) for i in range(0, 100, 3)]\n",
    "    \n",
    "    precisions = []\n",
    "    recalls = []\n",
    "\n",
    "    for perc in percs:\n",
    "        if matched[matched[:, 1] > perc].shape[0] > 0:\n",
    "            precision = (true_positives[true_positives > perc].shape[0]\n",
    "                         / matched[matched[:, 1] > perc].shape[0])\n",
    "        else:\n",
    "            precision = 0\n",
    "\n",
    "        recall = (true_positives[true_positives > perc].shape[0]\n",
    "                  / total_bbox)\n",
    "\n",
    "        precisions.append(precision)\n",
    "        recalls.append(recall)\n",
    "\n",
    "    # ordering recall and replicate to precisions\n",
    "    sort_p, sort_r = zip(*sorted(zip(precisions, recalls),\n",
    "                                 key=lambda x: x[1]))\n",
    "    \n",
    "    return auc(sort_r, sort_p)\n",
    "\n",
    "    \n",
    "def eval_category(label_id):\n",
    "    label = ohc.get_feature_names()[label_id-1][3:]\n",
    "    \n",
    "#     print(f'loading images of class {label}...')\n",
    "    imgs, img_ids = images(label_id)\n",
    "    \n",
    "#     print(f'starting prediction for class {label}...')\n",
    "    preds = model.predict(imgs)\n",
    "    \n",
    "#     print(f'evaluating bouding boxes...')\n",
    "    matched = match_predictions(label_id, preds, img_ids)\n",
    "    \n",
    "    total_bbox = df[df.LabelID == label_id].shape[0]\n",
    "    \n",
    "#     print(f'calculating AP metric for class {label}...')\n",
    "    \n",
    "    return label, calc_auc(label_id, total_bbox, matched)\n",
    "    \n",
    "for i in trange(0, 600):\n",
    "    try:\n",
    "        ap = eval_category(i)\n",
    "        total[ap[0]] = ap[1]\n",
    "        if ap[1] > 0:\n",
    "            print(i, ap)\n",
    "    except OSError:\n",
    "        pass\n"
   ]
  },
  {
   "cell_type": "code",
   "execution_count": 257,
   "metadata": {},
   "outputs": [
    {
     "data": {
      "text/plain": [
       "{'accordion': 0,\n",
       " 'adhesive_tape': 0,\n",
       " 'aircraft': 0,\n",
       " 'airplane': 0.18366062778408246}"
      ]
     },
     "execution_count": 257,
     "metadata": {},
     "output_type": "execute_result"
    }
   ],
   "source": [
    "total"
   ]
  },
  {
   "cell_type": "code",
   "execution_count": 213,
   "metadata": {},
   "outputs": [
    {
     "data": {
      "text/plain": [
       "<matplotlib.axes._subplots.AxesSubplot at 0x7fbec2b8c400>"
      ]
     },
     "execution_count": 213,
     "metadata": {},
     "output_type": "execute_result"
    },
    {
     "data": {
      "image/png": "[encoded data removed]",
      "text/plain": [
       "<Figure size 432x288 with 1 Axes>"
      ]
     },
     "metadata": {
      "needs_background": "light"
     },
     "output_type": "display_data"
    }
   ],
   "source": [
    "arr.plot.line(x='recall', y='precision',\n",
    "             yticks=np.arange(0, 1.1, .1),\n",
    "             xticks=np.arange(0, 1.1, .1))"
   ]
  }
 ],
 "metadata": {
  "kernelspec": {
   "display_name": "Python 3 [GPU]",
   "language": "python",
   "name": "python3-gpu"
  },
  "language_info": {
   "codemirror_mode": {
    "name": "ipython",
    "version": 3
   },
   "file_extension": ".py",
   "mimetype": "text/x-python",
   "name": "python",
   "nbconvert_exporter": "python",
   "pygments_lexer": "ipython3",
   "version": "3.7.3"
  },
  "toc": {
   "base_numbering": 1,
   "nav_menu": {},
   "number_sections": false,
   "sideBar": true,
   "skip_h1_title": false,
   "title_cell": "Table of Contents",
   "title_sidebar": "Contents",
   "toc_cell": false,
   "toc_position": {},
   "toc_section_display": true,
   "toc_window_display": false
  }
 },
 "nbformat": 4,
 "nbformat_minor": 2
}
