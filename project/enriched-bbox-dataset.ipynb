{
 "cells": [
  {
   "cell_type": "code",
   "execution_count": 1,
   "metadata": {},
   "outputs": [
    {
     "name": "stderr",
     "output_type": "stream",
     "text": [
      "Using TensorFlow backend.\n"
     ]
    }
   ],
   "source": [
    "# imports\n",
    "import os\n",
    "os.sys.path.append(os.path.abspath(\"..\"))\n",
    "\n",
    "import random\n",
    "\n",
    "from copy import deepcopy\n",
    "\n",
    "import pandas as pd\n",
    "import numpy as np\n",
    "\n",
    "import keras\n",
    "\n",
    "from matplotlib import pyplot as plt\n",
    "\n",
    "import json\n",
    "\n",
    "import notebooks_utils.analysis as utils\n",
    "\n",
    "from IPython.display import display\n",
    "\n",
    "import project.download_content as content\n",
    "\n",
    "METAPATH = os.path.join(content.DATAPATH, 'METADATA')\n",
    "\n",
    "import cv2"
   ]
  },
  {
   "cell_type": "markdown",
   "metadata": {},
   "source": [
    "## Loading data"
   ]
  },
  {
   "cell_type": "markdown",
   "metadata": {},
   "source": [
    "Inspired in the EDA notebook inside this project\n",
    "http://htmlpreview.github.io/?https://github.com/BAlmeidaS/capstone-udacity-mle/blob/master/EDA.html"
   ]
  },
  {
   "cell_type": "markdown",
   "metadata": {},
   "source": [
    "### Loading data"
   ]
  },
  {
   "cell_type": "code",
   "execution_count": 2,
   "metadata": {},
   "outputs": [],
   "source": [
    "# metadata general files\n",
    "df_classes_raw = pd.read_csv(METAPATH + \"/class-descriptions-boxable.csv\",\n",
    "                         names=['class_encode', 'class_name'])\n",
    "with open(METAPATH + \"/bbox_labels_600_hierarchy.json\") as f:\n",
    "    dict_hierarchy_raw = json.load(f)\n",
    "    \n",
    "df_train_raw = (pd.read_csv(METAPATH + \"/train-annotations-bbox.csv\")\n",
    "                  .merge(utils.images_downloaded('TRAIN'),\n",
    "                         on='ImageID', how='inner')\n",
    "                  .merge(df_classes_raw, left_on='LabelName', right_on='class_encode',\n",
    "                         how='left')\n",
    "                  .drop(columns=['class_encode'])\n",
    "                  .rename(columns={'class_name': 'LabelSemantic'}))\n",
    "df_val_raw = (pd.read_csv(METAPATH + \"/validation-annotations-bbox.csv\")\n",
    "                .merge(utils.images_downloaded('VALIDATION'),\n",
    "                       on='ImageID', how='inner')\n",
    "                .merge(df_classes_raw, left_on='LabelName', right_on='class_encode',\n",
    "                       how='left')\n",
    "                .drop(columns=['class_encode'])\n",
    "                .rename(columns={'class_name': 'LabelSemantic'}))\n",
    "df_test_raw = (pd.read_csv(METAPATH + \"/test-annotations-bbox.csv\")\n",
    "                 .merge(utils.images_downloaded('TEST'),\n",
    "                         on='ImageID', how='inner')\n",
    "                 .merge(df_classes_raw, left_on='LabelName', right_on='class_encode',\n",
    "                        how='left')\n",
    "                 .drop(columns=['class_encode'])\n",
    "                 .rename(columns={'class_name': 'LabelSemantic'}))"
   ]
  },
  {
   "cell_type": "code",
   "execution_count": 3,
   "metadata": {
    "scrolled": true
   },
   "outputs": [
    {
     "data": {
      "text/html": [
       "<div>\n",
       "<style scoped>\n",
       "    .dataframe tbody tr th:only-of-type {\n",
       "        vertical-align: middle;\n",
       "    }\n",
       "\n",
       "    .dataframe tbody tr th {\n",
       "        vertical-align: top;\n",
       "    }\n",
       "\n",
       "    .dataframe thead th {\n",
       "        text-align: right;\n",
       "    }\n",
       "</style>\n",
       "<table border=\"1\" class=\"dataframe\">\n",
       "  <thead>\n",
       "    <tr style=\"text-align: right;\">\n",
       "      <th></th>\n",
       "      <th>ImageID</th>\n",
       "      <th>Source</th>\n",
       "      <th>LabelName</th>\n",
       "      <th>Confidence</th>\n",
       "      <th>XMin</th>\n",
       "      <th>XMax</th>\n",
       "      <th>YMin</th>\n",
       "      <th>YMax</th>\n",
       "      <th>IsOccluded</th>\n",
       "      <th>IsTruncated</th>\n",
       "      <th>IsGroupOf</th>\n",
       "      <th>IsDepiction</th>\n",
       "      <th>IsInside</th>\n",
       "      <th>Path</th>\n",
       "      <th>LabelSemantic</th>\n",
       "    </tr>\n",
       "  </thead>\n",
       "  <tbody>\n",
       "    <tr>\n",
       "      <td>0</td>\n",
       "      <td>000002b66c9c498e</td>\n",
       "      <td>xclick</td>\n",
       "      <td>/m/01g317</td>\n",
       "      <td>1</td>\n",
       "      <td>0.0125</td>\n",
       "      <td>0.195312</td>\n",
       "      <td>0.148438</td>\n",
       "      <td>0.587500</td>\n",
       "      <td>0</td>\n",
       "      <td>1</td>\n",
       "      <td>0</td>\n",
       "      <td>0</td>\n",
       "      <td>0</td>\n",
       "      <td>data/TRAIN/train_0/000002b66c9c498e.jpg</td>\n",
       "      <td>Person</td>\n",
       "    </tr>\n",
       "    <tr>\n",
       "      <td>1</td>\n",
       "      <td>000002b66c9c498e</td>\n",
       "      <td>xclick</td>\n",
       "      <td>/m/01g317</td>\n",
       "      <td>1</td>\n",
       "      <td>0.0250</td>\n",
       "      <td>0.276563</td>\n",
       "      <td>0.714063</td>\n",
       "      <td>0.948438</td>\n",
       "      <td>0</td>\n",
       "      <td>1</td>\n",
       "      <td>0</td>\n",
       "      <td>0</td>\n",
       "      <td>0</td>\n",
       "      <td>data/TRAIN/train_0/000002b66c9c498e.jpg</td>\n",
       "      <td>Person</td>\n",
       "    </tr>\n",
       "  </tbody>\n",
       "</table>\n",
       "</div>"
      ],
      "text/plain": [
       "            ImageID  Source  LabelName  Confidence    XMin      XMax      YMin      YMax  IsOccluded  IsTruncated  IsGroupOf  IsDepiction  IsInside                                     Path LabelSemantic\n",
       "0  000002b66c9c498e  xclick  /m/01g317           1  0.0125  0.195312  0.148438  0.587500           0            1          0            0         0  data/TRAIN/train_0/000002b66c9c498e.jpg        Person\n",
       "1  000002b66c9c498e  xclick  /m/01g317           1  0.0250  0.276563  0.714063  0.948438           0            1          0            0         0  data/TRAIN/train_0/000002b66c9c498e.jpg        Person"
      ]
     },
     "execution_count": 3,
     "metadata": {},
     "output_type": "execute_result"
    }
   ],
   "source": [
    "df_train_raw.head(2)"
   ]
  },
  {
   "cell_type": "markdown",
   "metadata": {},
   "source": [
    "### Wrangling"
   ]
  },
  {
   "cell_type": "code",
   "execution_count": 4,
   "metadata": {},
   "outputs": [],
   "source": [
    "# cleaning\n",
    "df_train_raw = df_train_raw.drop_duplicates()\n",
    "df_val_raw = df_val_raw.drop_duplicates()\n",
    "df_test_raw = df_test_raw.drop_duplicates()"
   ]
  },
  {
   "cell_type": "code",
   "execution_count": 5,
   "metadata": {},
   "outputs": [],
   "source": [
    "# creating a hierarchical dict with semantic labels\n",
    "def changing_to_semantic(tree, *args):\n",
    "    try:\n",
    "        tree['LabelName'] = utils.semantic_name(tree['LabelName'])\n",
    "    except KeyError:\n",
    "        tree['LabelName'] = 'Entity'\n",
    "    \n",
    "    if 'Subcategory' in tree.keys():\n",
    "        for subcat in tree['Subcategory']:\n",
    "            changing_to_semantic(subcat, *args, tree['LabelName'])\n",
    "            \n",
    "dict_hierarchy = deepcopy(dict_hierarchy_raw)\n",
    "changing_to_semantic(dict_hierarchy)"
   ]
  },
  {
   "cell_type": "code",
   "execution_count": 6,
   "metadata": {},
   "outputs": [],
   "source": [
    "#adding label to the first node\n",
    "df_encodes = pd.concat([pd.DataFrame([['/m/0bl9f', 'Entity']],\n",
    "                                     columns=['class_encode', 'class_name']),\n",
    "                        df_classes_raw],\n",
    "                       ignore_index=True)"
   ]
  },
  {
   "cell_type": "code",
   "execution_count": 7,
   "metadata": {
    "run_control": {
     "marked": false
    }
   },
   "outputs": [],
   "source": [
    "# creating a df to show in a tabular form the relation between classes\n",
    "df_hierarchy = pd.DataFrame(utils.tabularize_hierarchy_dict(dict_hierarchy,\n",
    "                                                            df_encodes),\n",
    "                            columns=['Id', 'Label', 'IdParent',\n",
    "                                     'LabelParent', 'Depth', 'Leaf'])\n"
   ]
  },
  {
   "cell_type": "code",
   "execution_count": 8,
   "metadata": {},
   "outputs": [],
   "source": [
    "# creating a classes df\n",
    "df_classes = (df_hierarchy.merge(df_encodes, left_on='Label', right_on='class_name')\n",
    "                          .drop(columns=['class_name'])\n",
    "                          .rename(columns={'class_encode': 'Encode'})\n",
    "                          .merge(df_encodes, left_on='LabelParent', right_on='class_name')\n",
    "                          .drop(columns=['class_name'])\n",
    "                          .rename(columns={'class_encode': 'EncodeParent'})\n",
    "                          [['Id', 'Label', 'Encode',\n",
    "                            'IdParent', 'LabelParent', 'EncodeParent',\n",
    "                            'Depth', 'Leaf']])"
   ]
  },
  {
   "cell_type": "markdown",
   "metadata": {},
   "source": [
    "### Visualize DFs"
   ]
  },
  {
   "cell_type": "code",
   "execution_count": 9,
   "metadata": {},
   "outputs": [
    {
     "data": {
      "text/html": [
       "<div>\n",
       "<style scoped>\n",
       "    .dataframe tbody tr th:only-of-type {\n",
       "        vertical-align: middle;\n",
       "    }\n",
       "\n",
       "    .dataframe tbody tr th {\n",
       "        vertical-align: top;\n",
       "    }\n",
       "\n",
       "    .dataframe thead th {\n",
       "        text-align: right;\n",
       "    }\n",
       "</style>\n",
       "<table border=\"1\" class=\"dataframe\">\n",
       "  <thead>\n",
       "    <tr style=\"text-align: right;\">\n",
       "      <th></th>\n",
       "      <th>ImageID</th>\n",
       "      <th>Source</th>\n",
       "      <th>LabelName</th>\n",
       "      <th>Confidence</th>\n",
       "      <th>XMin</th>\n",
       "      <th>XMax</th>\n",
       "      <th>YMin</th>\n",
       "      <th>YMax</th>\n",
       "      <th>IsOccluded</th>\n",
       "      <th>IsTruncated</th>\n",
       "      <th>IsGroupOf</th>\n",
       "      <th>IsDepiction</th>\n",
       "      <th>IsInside</th>\n",
       "      <th>Path</th>\n",
       "      <th>LabelSemantic</th>\n",
       "    </tr>\n",
       "  </thead>\n",
       "  <tbody>\n",
       "    <tr>\n",
       "      <td>0</td>\n",
       "      <td>000002b66c9c498e</td>\n",
       "      <td>xclick</td>\n",
       "      <td>/m/01g317</td>\n",
       "      <td>1</td>\n",
       "      <td>0.0125</td>\n",
       "      <td>0.195312</td>\n",
       "      <td>0.148438</td>\n",
       "      <td>0.587500</td>\n",
       "      <td>0</td>\n",
       "      <td>1</td>\n",
       "      <td>0</td>\n",
       "      <td>0</td>\n",
       "      <td>0</td>\n",
       "      <td>data/TRAIN/train_0/000002b66c9c498e.jpg</td>\n",
       "      <td>Person</td>\n",
       "    </tr>\n",
       "    <tr>\n",
       "      <td>1</td>\n",
       "      <td>000002b66c9c498e</td>\n",
       "      <td>xclick</td>\n",
       "      <td>/m/01g317</td>\n",
       "      <td>1</td>\n",
       "      <td>0.0250</td>\n",
       "      <td>0.276563</td>\n",
       "      <td>0.714063</td>\n",
       "      <td>0.948438</td>\n",
       "      <td>0</td>\n",
       "      <td>1</td>\n",
       "      <td>0</td>\n",
       "      <td>0</td>\n",
       "      <td>0</td>\n",
       "      <td>data/TRAIN/train_0/000002b66c9c498e.jpg</td>\n",
       "      <td>Person</td>\n",
       "    </tr>\n",
       "  </tbody>\n",
       "</table>\n",
       "</div>"
      ],
      "text/plain": [
       "            ImageID  Source  LabelName  Confidence    XMin      XMax      YMin      YMax  IsOccluded  IsTruncated  IsGroupOf  IsDepiction  IsInside                                     Path LabelSemantic\n",
       "0  000002b66c9c498e  xclick  /m/01g317           1  0.0125  0.195312  0.148438  0.587500           0            1          0            0         0  data/TRAIN/train_0/000002b66c9c498e.jpg        Person\n",
       "1  000002b66c9c498e  xclick  /m/01g317           1  0.0250  0.276563  0.714063  0.948438           0            1          0            0         0  data/TRAIN/train_0/000002b66c9c498e.jpg        Person"
      ]
     },
     "metadata": {},
     "output_type": "display_data"
    },
    {
     "data": {
      "text/html": [
       "<div>\n",
       "<style scoped>\n",
       "    .dataframe tbody tr th:only-of-type {\n",
       "        vertical-align: middle;\n",
       "    }\n",
       "\n",
       "    .dataframe tbody tr th {\n",
       "        vertical-align: top;\n",
       "    }\n",
       "\n",
       "    .dataframe thead th {\n",
       "        text-align: right;\n",
       "    }\n",
       "</style>\n",
       "<table border=\"1\" class=\"dataframe\">\n",
       "  <thead>\n",
       "    <tr style=\"text-align: right;\">\n",
       "      <th></th>\n",
       "      <th>ImageID</th>\n",
       "      <th>Source</th>\n",
       "      <th>LabelName</th>\n",
       "      <th>Confidence</th>\n",
       "      <th>XMin</th>\n",
       "      <th>XMax</th>\n",
       "      <th>YMin</th>\n",
       "      <th>YMax</th>\n",
       "      <th>IsOccluded</th>\n",
       "      <th>IsTruncated</th>\n",
       "      <th>IsGroupOf</th>\n",
       "      <th>IsDepiction</th>\n",
       "      <th>IsInside</th>\n",
       "      <th>Path</th>\n",
       "      <th>LabelSemantic</th>\n",
       "    </tr>\n",
       "  </thead>\n",
       "  <tbody>\n",
       "    <tr>\n",
       "      <td>0</td>\n",
       "      <td>0001eeaf4aed83f9</td>\n",
       "      <td>xclick</td>\n",
       "      <td>/m/0cmf2</td>\n",
       "      <td>1</td>\n",
       "      <td>0.022673</td>\n",
       "      <td>0.9642</td>\n",
       "      <td>0.071038</td>\n",
       "      <td>0.800546</td>\n",
       "      <td>0</td>\n",
       "      <td>0</td>\n",
       "      <td>0</td>\n",
       "      <td>0</td>\n",
       "      <td>0</td>\n",
       "      <td>data/VALIDATION/validation/0001eeaf4aed83f9.jpg</td>\n",
       "      <td>Airplane</td>\n",
       "    </tr>\n",
       "    <tr>\n",
       "      <td>1</td>\n",
       "      <td>000595fe6fee6369</td>\n",
       "      <td>xclick</td>\n",
       "      <td>/m/02wbm</td>\n",
       "      <td>1</td>\n",
       "      <td>0.000000</td>\n",
       "      <td>1.0000</td>\n",
       "      <td>0.000000</td>\n",
       "      <td>1.000000</td>\n",
       "      <td>0</td>\n",
       "      <td>0</td>\n",
       "      <td>1</td>\n",
       "      <td>0</td>\n",
       "      <td>0</td>\n",
       "      <td>data/VALIDATION/validation/000595fe6fee6369.jpg</td>\n",
       "      <td>Food</td>\n",
       "    </tr>\n",
       "  </tbody>\n",
       "</table>\n",
       "</div>"
      ],
      "text/plain": [
       "            ImageID  Source LabelName  Confidence      XMin    XMax      YMin      YMax  IsOccluded  IsTruncated  IsGroupOf  IsDepiction  IsInside                                             Path LabelSemantic\n",
       "0  0001eeaf4aed83f9  xclick  /m/0cmf2           1  0.022673  0.9642  0.071038  0.800546           0            0          0            0         0  data/VALIDATION/validation/0001eeaf4aed83f9.jpg      Airplane\n",
       "1  000595fe6fee6369  xclick  /m/02wbm           1  0.000000  1.0000  0.000000  1.000000           0            0          1            0         0  data/VALIDATION/validation/000595fe6fee6369.jpg          Food"
      ]
     },
     "metadata": {},
     "output_type": "display_data"
    },
    {
     "data": {
      "text/html": [
       "<div>\n",
       "<style scoped>\n",
       "    .dataframe tbody tr th:only-of-type {\n",
       "        vertical-align: middle;\n",
       "    }\n",
       "\n",
       "    .dataframe tbody tr th {\n",
       "        vertical-align: top;\n",
       "    }\n",
       "\n",
       "    .dataframe thead th {\n",
       "        text-align: right;\n",
       "    }\n",
       "</style>\n",
       "<table border=\"1\" class=\"dataframe\">\n",
       "  <thead>\n",
       "    <tr style=\"text-align: right;\">\n",
       "      <th></th>\n",
       "      <th>ImageID</th>\n",
       "      <th>Source</th>\n",
       "      <th>LabelName</th>\n",
       "      <th>Confidence</th>\n",
       "      <th>XMin</th>\n",
       "      <th>XMax</th>\n",
       "      <th>YMin</th>\n",
       "      <th>YMax</th>\n",
       "      <th>IsOccluded</th>\n",
       "      <th>IsTruncated</th>\n",
       "      <th>IsGroupOf</th>\n",
       "      <th>IsDepiction</th>\n",
       "      <th>IsInside</th>\n",
       "      <th>Path</th>\n",
       "      <th>LabelSemantic</th>\n",
       "    </tr>\n",
       "  </thead>\n",
       "  <tbody>\n",
       "    <tr>\n",
       "      <td>0</td>\n",
       "      <td>000026e7ee790996</td>\n",
       "      <td>xclick</td>\n",
       "      <td>/m/07j7r</td>\n",
       "      <td>1</td>\n",
       "      <td>0.071875</td>\n",
       "      <td>0.145313</td>\n",
       "      <td>0.206250</td>\n",
       "      <td>0.391667</td>\n",
       "      <td>0</td>\n",
       "      <td>1</td>\n",
       "      <td>1</td>\n",
       "      <td>0</td>\n",
       "      <td>0</td>\n",
       "      <td>data/TEST/test/000026e7ee790996.jpg</td>\n",
       "      <td>Tree</td>\n",
       "    </tr>\n",
       "    <tr>\n",
       "      <td>1</td>\n",
       "      <td>000026e7ee790996</td>\n",
       "      <td>xclick</td>\n",
       "      <td>/m/07j7r</td>\n",
       "      <td>1</td>\n",
       "      <td>0.439063</td>\n",
       "      <td>0.571875</td>\n",
       "      <td>0.264583</td>\n",
       "      <td>0.435417</td>\n",
       "      <td>0</td>\n",
       "      <td>1</td>\n",
       "      <td>1</td>\n",
       "      <td>0</td>\n",
       "      <td>0</td>\n",
       "      <td>data/TEST/test/000026e7ee790996.jpg</td>\n",
       "      <td>Tree</td>\n",
       "    </tr>\n",
       "  </tbody>\n",
       "</table>\n",
       "</div>"
      ],
      "text/plain": [
       "            ImageID  Source LabelName  Confidence      XMin      XMax      YMin      YMax  IsOccluded  IsTruncated  IsGroupOf  IsDepiction  IsInside                                 Path LabelSemantic\n",
       "0  000026e7ee790996  xclick  /m/07j7r           1  0.071875  0.145313  0.206250  0.391667           0            1          1            0         0  data/TEST/test/000026e7ee790996.jpg          Tree\n",
       "1  000026e7ee790996  xclick  /m/07j7r           1  0.439063  0.571875  0.264583  0.435417           0            1          1            0         0  data/TEST/test/000026e7ee790996.jpg          Tree"
      ]
     },
     "metadata": {},
     "output_type": "display_data"
    },
    {
     "data": {
      "text/html": [
       "<div>\n",
       "<style scoped>\n",
       "    .dataframe tbody tr th:only-of-type {\n",
       "        vertical-align: middle;\n",
       "    }\n",
       "\n",
       "    .dataframe tbody tr th {\n",
       "        vertical-align: top;\n",
       "    }\n",
       "\n",
       "    .dataframe thead th {\n",
       "        text-align: right;\n",
       "    }\n",
       "</style>\n",
       "<table border=\"1\" class=\"dataframe\">\n",
       "  <thead>\n",
       "    <tr style=\"text-align: right;\">\n",
       "      <th></th>\n",
       "      <th>Id</th>\n",
       "      <th>Label</th>\n",
       "      <th>Encode</th>\n",
       "      <th>IdParent</th>\n",
       "      <th>LabelParent</th>\n",
       "      <th>EncodeParent</th>\n",
       "      <th>Depth</th>\n",
       "      <th>Leaf</th>\n",
       "    </tr>\n",
       "  </thead>\n",
       "  <tbody>\n",
       "    <tr>\n",
       "      <td>0</td>\n",
       "      <td>132</td>\n",
       "      <td>Coin</td>\n",
       "      <td>/m/0242l</td>\n",
       "      <td>0</td>\n",
       "      <td>Entity</td>\n",
       "      <td>/m/0bl9f</td>\n",
       "      <td>1</td>\n",
       "      <td>True</td>\n",
       "    </tr>\n",
       "    <tr>\n",
       "      <td>1</td>\n",
       "      <td>211</td>\n",
       "      <td>Flag</td>\n",
       "      <td>/m/03120</td>\n",
       "      <td>0</td>\n",
       "      <td>Entity</td>\n",
       "      <td>/m/0bl9f</td>\n",
       "      <td>1</td>\n",
       "      <td>True</td>\n",
       "    </tr>\n",
       "  </tbody>\n",
       "</table>\n",
       "</div>"
      ],
      "text/plain": [
       "    Id Label    Encode  IdParent LabelParent EncodeParent  Depth  Leaf\n",
       "0  132  Coin  /m/0242l         0      Entity     /m/0bl9f      1  True\n",
       "1  211  Flag  /m/03120         0      Entity     /m/0bl9f      1  True"
      ]
     },
     "metadata": {},
     "output_type": "display_data"
    }
   ],
   "source": [
    "display(df_train_raw.head(2))\n",
    "display(df_val_raw.head(2))\n",
    "display(df_test_raw.head(2))\n",
    "display(df_classes.head(2))"
   ]
  },
  {
   "cell_type": "markdown",
   "metadata": {},
   "source": [
    "### Preprocess data"
   ]
  },
  {
   "cell_type": "code",
   "execution_count": 10,
   "metadata": {},
   "outputs": [
    {
     "name": "stdout",
     "output_type": "stream",
     "text": [
      "CPU times: user 1e+03 ns, sys: 0 ns, total: 1e+03 ns\n",
      "Wall time: 3.34 µs\n"
     ]
    }
   ],
   "source": [
    "%%time\n",
    "# df_train = df_train_raw.groupby('ImageID')[['Path']].last()\n",
    "\n",
    "# for col in ['XMin', 'XMax', 'YMin', 'YMax']:\n",
    "#     df_train = df_train.join(df_train_raw.groupby('ImageID')\n",
    "#                                          [col]\n",
    "#                                          .apply(list))\n",
    "                     \n",
    "# df_train.head(2)"
   ]
  },
  {
   "cell_type": "code",
   "execution_count": 11,
   "metadata": {},
   "outputs": [
    {
     "name": "stdout",
     "output_type": "stream",
     "text": [
      "CPU times: user 1 µs, sys: 0 ns, total: 1 µs\n",
      "Wall time: 2.86 µs\n"
     ]
    }
   ],
   "source": [
    "%%time\n",
    "# df_train = df_train_raw.groupby('ImageID')[['Path']].last()\n",
    "\n",
    "# for col in ['XMin', 'XMax', 'YMin', 'YMax']:\n",
    "#     keys, values = df_train_raw[['ImageID', col]].sort_values('ImageID').values.T\n",
    "#     ukeys, index = np.unique(keys, True)\n",
    "#     arrays = np.split(values, index[1:])\n",
    "#     df_train = df_train.join(pd.DataFrame({'ImageID': ukeys,\n",
    "#                                            col:[list(a) for a in arrays]})\n",
    "#                                .set_index('ImageID'))\n",
    "\n",
    "# df_train.head(2)"
   ]
  },
  {
   "cell_type": "code",
   "execution_count": 12,
   "metadata": {},
   "outputs": [
    {
     "name": "stdout",
     "output_type": "stream",
     "text": [
      "CPU times: user 1min 47s, sys: 1.16 s, total: 1min 48s\n",
      "Wall time: 1min 48s\n"
     ]
    }
   ],
   "source": [
    "%%time\n",
    "df_train_raw.to_csv(METAPATH + \"/enriched_train_bbox.csv\", index=False)\n",
    "df_val_raw.to_csv(METAPATH + \"/enriched_val_bbox.csv\", index=False)\n",
    "df_test_raw.to_csv(METAPATH + \"/enriched_test_bbox.csv\", index=False)"
   ]
  }
 ],
 "metadata": {
  "kernelspec": {
   "display_name": "Python 3 [GPU]",
   "language": "python",
   "name": "python3-gpu"
  },
  "language_info": {
   "codemirror_mode": {
    "name": "ipython",
    "version": 3
   },
   "file_extension": ".py",
   "mimetype": "text/x-python",
   "name": "python",
   "nbconvert_exporter": "python",
   "pygments_lexer": "ipython3",
   "version": "3.7.3"
  },
  "toc": {
   "base_numbering": "",
   "nav_menu": {},
   "number_sections": false,
   "sideBar": true,
   "skip_h1_title": false,
   "title_cell": "Table of Contents",
   "title_sidebar": "Contents",
   "toc_cell": false,
   "toc_position": {},
   "toc_section_display": true,
   "toc_window_display": false
  }
 },
 "nbformat": 4,
 "nbformat_minor": 2
}
