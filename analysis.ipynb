{
 "cells": [
  {
   "cell_type": "markdown",
   "metadata": {
    "Collapsed": "false",
    "toc-hr-collapsed": false
   },
   "source": [
    "# Analysis - Object Detection\n",
    "\n",
    "This notebook is about the exploratory data analysis to Object Detection project"
   ]
  },
  {
   "cell_type": "code",
   "execution_count": null,
   "metadata": {
    "Collapsed": "false"
   },
   "outputs": [],
   "source": [
    "import os\n",
    "import random\n",
    "\n",
    "import pandas as pd\n",
    "import numpy as np\n",
    "\n",
    "from copy import deepcopy\n",
    "\n",
    "from matplotlib import pyplot as plt\n",
    "import seaborn as sns\n",
    "\n",
    "import json\n",
    "\n",
    "import project.download_content as content\n",
    "\n",
    "from collections import Counter\n",
    "\n",
    "import notebooks_utils.analysis as utils\n",
    "\n",
    "from IPython.display import display\n",
    "\n",
    "%matplotlib inline"
   ]
  },
  {
   "cell_type": "markdown",
   "metadata": {},
   "source": [
    "This analysis starts with the downloading of all the data. To do this, you could use the makefile created. Just open the terminal, go to where you clone this project and run `make download-content`, following the instructions to download files.\n",
    "\n",
    "**To run this analysis and reproduced it, you must download the METADATA files**. Besides that, in some cells, it is necessary to download the images (TRAIN, TEST, and VALIDATION image files). Because of that, to reproduce this analysis entirely, you should download these files also (download around 550Gb). If you did not download them, these cells are not going to run entirely, but the cell will notify you about this, and the process is going to follow.\n",
    "\n",
    "The analysis made with all the images files downloaded could be accessed in an HTML file that is in the project, called \"analysis.html\". You do not need to download all images to see it, open the file in your browser."
   ]
  },
  {
   "cell_type": "markdown",
   "metadata": {
    "Collapsed": "false"
   },
   "source": [
    "## Wrangling"
   ]
  },
  {
   "cell_type": "markdown",
   "metadata": {
    "Collapsed": "false"
   },
   "source": [
    "### Gather"
   ]
  },
  {
   "cell_type": "code",
   "execution_count": null,
   "metadata": {
    "Collapsed": "false",
    "code_folding": []
   },
   "outputs": [],
   "source": [
    "# Gathering all files\n",
    "if not content.does_metadata_exist():\n",
    "    raise OSError(f'There are metadata file(s) that did not downloaded yet...')\n",
    "print('All Metadata files exist...')\n",
    "\n",
    "METAPATH = os.path.join(content.DATAPATH, 'METADATA')\n",
    "\n",
    "# metadata general files\n",
    "print('Gathering all metadata files...', end='')\n",
    "\n",
    "df_classes_raw = pd.read_csv(METAPATH + \"/class-descriptions-boxable.csv\",\n",
    "                             names=['class_encode', 'class_name'])\n",
    "with open(METAPATH + \"/bbox_labels_600_hierarchy.json\") as f:\n",
    "    dict_hierarchy_raw = json.load(f)\n",
    "print('OK!')\n",
    "\n",
    "\n",
    "# train files\n",
    "print('Gathering all train files...', end='')\n",
    "df_train_bbox_raw = pd.read_csv(METAPATH + \"/train-annotations-bbox.csv\")\n",
    "df_train_labels_raw = pd.read_csv(\n",
    "    METAPATH + \"/train-annotations-human-imagelabels-boxable.csv\")\n",
    "print('OK!')\n",
    "\n",
    "\n",
    "# validation files\n",
    "print('Gathering all validation files...', end='')\n",
    "df_val_bbox_raw = pd.read_csv(METAPATH + \"/validation-annotations-bbox.csv\")\n",
    "df_val_labels_raw = pd.read_csv(\n",
    "    METAPATH + \"/validation-annotations-human-imagelabels-boxable.csv\")\n",
    "print('OK!')\n",
    "\n",
    "\n",
    "# test files\n",
    "print('Gathering all test files...', end='')\n",
    "df_test_bbox_raw = pd.read_csv(METAPATH + \"/test-annotations-bbox.csv\")\n",
    "df_test_labels_raw = pd.read_csv(\n",
    "    METAPATH + \"/test-annotations-human-imagelabels-boxable.csv\")\n",
    "print('OK!')\n",
    "\n",
    "# downloaded images\n",
    "if utils.all_images_downloaded():\n",
    "    print(\"Gathering labels of all images downloaded...\", end='')\n",
    "    df_images_train = utils.images_downloaded('TRAIN')\n",
    "    df_images_val = utils.images_downloaded('VALIDATION')\n",
    "    df_images_test = utils.images_downloaded('TEST')\n",
    "    print('Ok!')\n",
    "else:\n",
    "    print(\"\"\"\n",
    "Unfortunately you did not download the files...\n",
    "That's ok, you can follow, but some cells will not run properly.\n",
    "    \"\"\")"
   ]
  },
  {
   "cell_type": "markdown",
   "metadata": {
    "Collapsed": "false"
   },
   "source": [
    "### Assess"
   ]
  },
  {
   "cell_type": "markdown",
   "metadata": {
    "heading_collapsed": true
   },
   "source": [
    "#### Explaining data"
   ]
  },
  {
   "cell_type": "markdown",
   "metadata": {
    "hidden": true
   },
   "source": [
    "It is crucial to start the analysis to understand all the files downloaded.\n",
    "\n",
    "When you run the command `make download-content`, you should notice that the files are divided into four blocks, METADATA, TRAIN, VALIDATION, and TEST.\n",
    "\n",
    "The blocks TRAIN, VALIDATION, and TEST are about the images files, and there is nothing but that, the images.\n",
    "\n",
    "**The block METADATA is a must-have content**. In it, we are going to find eight files.\n",
    "\n",
    "**The first six files are essentially a split of two data**, the bounding box annotations *([type]-annotations-bbox.csv)* and the image-level annotations *([type]-annotations-human-imagelabels-boxable.csv)*.\n",
    "\n",
    "Image-level Annotations are manual data labeled by a human (from google and a crowdsourced system). These labels try to represent what the image has. More about this dataset could be found in [here](https://storage.googleapis.com/openimages/web/factsfigures.html) in session **Image-level Labels**.\n",
    "\n",
    "The Bounding Box Annotation is a dataset that defines, for each image, where are the objects annotated previously by the Image-level Annotation. These annotations are focused on the most specific labels in Image-level Annotations. More about this dataset could be founded [here](https://storage.googleapis.com/openimages/web/factsfigures.html) in session **Bonding Boxes**. \n",
    "\n",
    "These two datasets described above were divided by Google in three sets. Train, which is going to be used to train the model, Validation, which is going to be used to compare the models, and Test, which is going to be used to do the final evaluation of the chosen one model.\n",
    "\n",
    "The final two files are about the classes themselves.\n",
    "\n",
    "All the labels described in the paragraphs above are encoded representations of the classes. The CSV *class-descriptions-boxable.csv* maps each **encoded class name** (machine-understandable) **to a semantic class name** (human-understandable).\n",
    "\n",
    "Lastly, the JSON file *bbox_labels_600_hierarchy.json* **describes a hierarchical tree of all classes**, describing a hierarchy of each class. This file shows us, for example, that Woman derives from Person."
   ]
  },
  {
   "cell_type": "markdown",
   "metadata": {},
   "source": [
    "#### Assessing Data"
   ]
  },
  {
   "cell_type": "code",
   "execution_count": null,
   "metadata": {
    "Collapsed": "false",
    "code_folding": [],
    "run_control": {
     "marked": false
    }
   },
   "outputs": [],
   "source": [
    "#number of images by dataset\n",
    "print(f\"\"\"Number of bouding boxes: {(df_train_bbox_raw.shape[0]\n",
    "                                     + df_val_bbox_raw.shape[0]\n",
    "                                     + df_test_bbox_raw.shape[0]):,}\"\"\", end=\"\\n\"*2)\n",
    "\n",
    "print(f\"labels in train images: {df_train_labels_raw.shape[0]:,}\")\n",
    "print(f\"labels in validation images: {df_val_labels_raw.shape[0]:,}\")\n",
    "print(f\"labels in test images: {df_test_labels_raw.shape[0]:,}\", end=\"\\n\"*2)\n",
    "\n",
    "print(f\"bouding boxes labeled in train: {df_train_bbox_raw.shape[0]:,}\")\n",
    "print(f\"bouding boxes labeled in validation: {df_val_bbox_raw.shape[0]:,}\")\n",
    "print(f\"bouding boxes labeled in test: {df_test_bbox_raw.shape[0]:,}\")"
   ]
  },
  {
   "cell_type": "code",
   "execution_count": null,
   "metadata": {},
   "outputs": [],
   "source": [
    "utils.check_images_download()\n",
    "\n",
    "print(f\"images downloaded in train: {df_images_train.shape[0]:,}\")\n",
    "print(f\"images downloaded in validation: {df_images_val.shape[0]:,}\")\n",
    "print(f\"images downloaded in test: {df_images_test.shape[0]:,}\")"
   ]
  },
  {
   "cell_type": "markdown",
   "metadata": {},
   "source": [
    "#### Explaining more about the data"
   ]
  },
  {
   "cell_type": "markdown",
   "metadata": {
    "heading_collapsed": true
   },
   "source": [
    "###### Classes Mapping"
   ]
  },
  {
   "cell_type": "code",
   "execution_count": null,
   "metadata": {
    "Collapsed": "false",
    "code_folding": [],
    "hidden": true
   },
   "outputs": [],
   "source": [
    "# display classes and their encodes\n",
    "print(f\"total classes: {df_classes_raw.shape[0]}\")\n",
    "display(df_classes_raw.sample(2, random_state=17))"
   ]
  },
  {
   "cell_type": "markdown",
   "metadata": {
    "hidden": true
   },
   "source": [
    "In the cell above, all datasets are described:"
   ]
  },
  {
   "cell_type": "code",
   "execution_count": null,
   "metadata": {
    "Collapsed": "false",
    "code_folding": [],
    "hidden": true,
    "scrolled": false
   },
   "outputs": [],
   "source": [
    "# show info about all dfs\n",
    "for k, df in {'Train Bounding Boxes': df_train_bbox_raw,\n",
    "              'Train Labels': df_train_labels_raw,\n",
    "              'Validation Bounding Boxes': df_val_bbox_raw,\n",
    "              'Validation Labels': df_val_labels_raw,\n",
    "              'Test Bounding Boxes': df_test_bbox_raw,\n",
    "              'Test Labels': df_test_labels_raw}.items():\n",
    "    print(f\"####### {k.upper()} #######\", end=\"\\n\"*2)\n",
    "    print(f\"shape: {df.shape[0]:,} rows, {df.shape[1]} columns\")\n",
    "    print(f\"duplicated values: {df[df.duplicated(keep='first')].shape[0]} records\",\n",
    "          end=\"\\n\"*2)\n",
    "\n",
    "    print(\"Unique Values:\")\n",
    "    for col in df.columns:\n",
    "        print(\n",
    "            f\"   {str(col)+' ':-<15} {str(df[col].dtype).upper()+' ':-<10} Nulls = {df[col].isna().sum():,} | Uniques = {df[col].nunique():,}\")\n",
    "    display(df.sample(2, random_state=37))\n",
    "    print('_'*80, end=\"\\n\"*2)"
   ]
  },
  {
   "cell_type": "markdown",
   "metadata": {
    "heading_collapsed": true
   },
   "source": [
    "###### Classes Hierarchy"
   ]
  },
  {
   "cell_type": "code",
   "execution_count": null,
   "metadata": {
    "Collapsed": "false",
    "code_folding": [],
    "hidden": true,
    "run_control": {
     "marked": false
    }
   },
   "outputs": [],
   "source": [
    "# classes hierarchy\n",
    "\n",
    "num_classes, classes = utils.count_recursive(dict_hierarchy_raw)\n",
    "\n",
    "print(f\"There are {num_classes} classes in the JSON hierarchy\",\n",
    "      end=\"\\n\"*2)\n",
    "\n",
    "print(\"The first node class encode is:\",\n",
    "      dict_hierarchy_raw['LabelName'], end=\"\\n\"*2)\n",
    "\n",
    "# defining a node to consult\n",
    "i=17\n",
    "\n",
    "print(f\"the {i}th son encode of the first node:\",\n",
    "      dict_hierarchy_raw['Subcategory'][i]['LabelName'])\n",
    "print(f\"The sons of the {i}th node:\")\n",
    "for subcat in dict_hierarchy_raw['Subcategory'][i]['Subcategory']:\n",
    "    print(f\"   {subcat}\")"
   ]
  },
  {
   "cell_type": "code",
   "execution_count": null,
   "metadata": {
    "code_folding": [],
    "hidden": true,
    "run_control": {
     "marked": false
    }
   },
   "outputs": [],
   "source": [
    "# finding with some class in hierarchial has no human representation\n",
    "for encoded_name in classes:\n",
    "    try:\n",
    "        semantic_name = utils.semantic_name(encoded_name)\n",
    "    except KeyError:\n",
    "        print(f\"{encoded_name} - 'Undefined Human Representation'\")"
   ]
  },
  {
   "cell_type": "markdown",
   "metadata": {
    "hidden": true
   },
   "source": [
    "Import to notice that only the first node (\"the father of all\") has no semantic representation!"
   ]
  },
  {
   "cell_type": "markdown",
   "metadata": {
    "heading_collapsed": true
   },
   "source": [
    "###### About labels and image downloads"
   ]
  },
  {
   "cell_type": "code",
   "execution_count": null,
   "metadata": {
    "hidden": true
   },
   "outputs": [],
   "source": [
    "# assess the images downloaded\n",
    "utils.check_images_download()\n",
    "\n",
    "print('### Number of unique images in each dataframe ###', end='\\n'*2)\n",
    "train_labels   = pd.DataFrame(df_train_labels_raw.ImageID.unique(), columns=['ImageID'])\n",
    "train_bbox     = pd.DataFrame(df_train_bbox_raw.ImageID.unique(), columns=['ImageID'])\n",
    "train_download = pd.DataFrame(df_images_train.ImageID.unique(), columns=['ImageID'])\n",
    "\n",
    "print(f\"{'images in train images-level ':-<40}> {train_labels.shape[0]:,}\")\n",
    "print(f\"{'images in train bbox ':-<40}> {train_bbox.shape[0]:,}\")\n",
    "print(f\"{'images in train download folder ':-<40}> {train_download.shape[0]:,}\",\n",
    "      end='\\n'*2)\n",
    "\n",
    "val_labels   = pd.DataFrame(df_val_labels_raw.ImageID.unique(), columns=['ImageID'])\n",
    "val_bbox     = pd.DataFrame(df_val_bbox_raw.ImageID.unique(), columns=['ImageID'])\n",
    "val_download = pd.DataFrame(df_images_val.ImageID.unique(), columns=['ImageID'])\n",
    "\n",
    "print(f\"{'images in validation images-level ':-<40}> {val_labels.shape[0]:,}\")\n",
    "print(f\"{'images in validation bbox ':-<40}> {val_bbox.shape[0]:,}\")\n",
    "print(f\"{'images in valitation download folder ':-<40}> {val_download.shape[0]:,}\",\n",
    "      end='\\n'*2)\n",
    "\n",
    "test_labels   = pd.DataFrame(df_test_labels_raw.ImageID.unique(), columns=['ImageID'])\n",
    "test_bbox     = pd.DataFrame(df_test_bbox_raw.ImageID.unique(), columns=['ImageID'])\n",
    "test_download = pd.DataFrame(df_images_test.ImageID.unique(), columns=['ImageID'])\n",
    "\n",
    "print(f\"{'images in test images-level ':-<40}> {test_labels.shape[0]:,}\")\n",
    "print(f\"{'images in test bbox ':-<40}> {test_bbox.shape[0]:,}\")\n",
    "print(f\"{'images in test donwload folder ':-<40}> {test_download.shape[0]:,}\",\n",
    "      end='\\n'*2)"
   ]
  },
  {
   "cell_type": "code",
   "execution_count": null,
   "metadata": {
    "hidden": true
   },
   "outputs": [],
   "source": [
    "# joining train dfs\n",
    "train_labels['label'] = True\n",
    "train_bbox['bbox'] = True\n",
    "train_download['download'] = True\n",
    "\n",
    "df_train_imgs = (train_download.merge(train_labels, on='ImageID', how='outer')\n",
    "                               .merge(train_bbox, on='ImageID', how='outer'))\n",
    "df_train_imgs.fillna(False, inplace=True)\n",
    "\n",
    "# joining validation dfs\n",
    "val_labels['label'] = True\n",
    "val_bbox['bbox'] = True\n",
    "val_download['download'] = True\n",
    "\n",
    "df_val_imgs = (val_download.merge(val_labels, on='ImageID', how='outer')\n",
    "                           .merge(val_bbox, on='ImageID', how='outer'))\n",
    "df_val_imgs.fillna(False, inplace=True)\n",
    "\n",
    "# joining test dfs\n",
    "test_labels['label'] = True\n",
    "test_bbox['bbox'] = True\n",
    "test_download['download'] = True\n",
    "\n",
    "df_test_imgs = (test_download.merge(test_labels, on='ImageID', how='outer')\n",
    "                             .merge(test_bbox, on='ImageID', how='outer'))\n",
    "df_test_imgs.fillna(False, inplace=True)"
   ]
  },
  {
   "cell_type": "code",
   "execution_count": null,
   "metadata": {
    "hidden": true
   },
   "outputs": [],
   "source": [
    "ref = {'Train': df_train_imgs, 'Validation': df_val_imgs, 'Test': df_test_imgs}\n",
    "\n",
    "for label, df in ref.items():\n",
    "    not_down = df[df.download == False].shape[0]\n",
    "    not_label = df[(df.download == True) & (df.label == False)].shape[0]\n",
    "    not_bbox = df[(df.download == True) & (df.bbox == False)].shape[0]\n",
    "    label_not_bbox = df[(df.download == True) \n",
    "                        & (df.label == True)\n",
    "                        & (df.bbox == False)].shape[0]\n",
    "    bbox_not_label = df[(df.download == True) \n",
    "                        & (df.label == False)\n",
    "                        & (df.bbox == True)].shape[0]\n",
    "    \n",
    "    print(f\"About {label} data:\")\n",
    "    print(f\"   There are {not_down} images not downloaded\")\n",
    "    print(f\"   There are {not_label} images without label\")\n",
    "    print(f\"   There are {not_bbox} images without bounding boxes identified\")\n",
    "    print(f\"   There are {label_not_bbox} images with labels in image level, but without bounding boxes\")\n",
    "    print(f\"   There are {bbox_not_label} images without labels in image level, but having bounding boxes\", end='\\n'*2)"
   ]
  },
  {
   "cell_type": "markdown",
   "metadata": {
    "Collapsed": "false"
   },
   "source": [
    "### Clean"
   ]
  },
  {
   "cell_type": "markdown",
   "metadata": {},
   "source": [
    "#### Removing duplicate data"
   ]
  },
  {
   "cell_type": "code",
   "execution_count": null,
   "metadata": {},
   "outputs": [],
   "source": [
    "df_train_bbox_raw = df_train_bbox_raw.drop_duplicates()\n",
    "df_train_bbox_raw.shape"
   ]
  },
  {
   "cell_type": "markdown",
   "metadata": {},
   "source": [
    "#### Adding semantic class label"
   ]
  },
  {
   "cell_type": "code",
   "execution_count": null,
   "metadata": {},
   "outputs": [],
   "source": [
    "def semantic_label(df):\n",
    "    return (df.merge(df_classes_raw,\n",
    "                     left_on='LabelName',\n",
    "                     right_on='class_encode',\n",
    "                     how='inner')\n",
    "              .drop(['class_encode'], axis=1)\n",
    "              .rename(columns={'class_name': 'LabelSemantic'}))\n",
    "\n",
    "df_train_bbox   = semantic_label(df_train_bbox_raw)\n",
    "df_train_labels = semantic_label(df_train_labels_raw)\n",
    "df_val_bbox     = semantic_label(df_val_bbox_raw)\n",
    "df_val_labels   = semantic_label(df_val_labels_raw)\n",
    "df_test_bbox    = semantic_label(df_test_bbox_raw)\n",
    "df_test_labels  = semantic_label(df_test_labels_raw)"
   ]
  },
  {
   "cell_type": "markdown",
   "metadata": {},
   "source": [
    "#### Naming the first class in the hierarchy\n",
    "\n",
    "As I shown, the first node in the JSON hierarchy has no name. I am going to define it as \"Entity\" in the `df_classes`"
   ]
  },
  {
   "cell_type": "code",
   "execution_count": null,
   "metadata": {},
   "outputs": [],
   "source": [
    "df_classes = pd.concat([pd.DataFrame([['/m/0bl9f', 'Entity']],\n",
    "                                     columns=['class_encode', 'class_name']),\n",
    "                        df_classes_raw],\n",
    "                       ignore_index=True)\n",
    "df_classes.head(3)"
   ]
  },
  {
   "cell_type": "markdown",
   "metadata": {},
   "source": [
    "#### Creating a semantic dictionary of hierarchy"
   ]
  },
  {
   "cell_type": "code",
   "execution_count": null,
   "metadata": {},
   "outputs": [],
   "source": [
    "def changing_to_semantic(tree, *args):\n",
    "    try:\n",
    "        tree['LabelName'] = utils.semantic_name(tree['LabelName'])\n",
    "    except KeyError:\n",
    "        tree['LabelName'] = 'Entity'\n",
    "    \n",
    "    if 'Subcategory' in tree.keys():\n",
    "        for subcat in tree['Subcategory']:\n",
    "            changing_to_semantic(subcat, *args, tree['LabelName'])\n",
    "\n",
    "\n",
    "dict_semantic_hierarchy = deepcopy(dict_hierarchy_raw)\n",
    "changing_to_semantic(dict_semantic_hierarchy)"
   ]
  },
  {
   "cell_type": "code",
   "execution_count": null,
   "metadata": {},
   "outputs": [],
   "source": [
    "dict_semantic_hierarchy"
   ]
  },
  {
   "cell_type": "markdown",
   "metadata": {
    "Collapsed": "false"
   },
   "source": [
    "## EDA"
   ]
  },
  {
   "cell_type": "markdown",
   "metadata": {},
   "source": [
    "**Some classes could be in more then on subtree**, as shown above"
   ]
  },
  {
   "cell_type": "code",
   "execution_count": null,
   "metadata": {
    "scrolled": false
   },
   "outputs": [],
   "source": [
    "# duplicated paths\n",
    "ambiguous_paths = [k for k, c in Counter(classes).items() if c > 1]\n",
    "\n",
    "random.seed(57)\n",
    "for cat in random.choices(ambiguous_paths, k=3):\n",
    "    print(f\"{utils.semantic_name(cat)}\")\n",
    "    paths = utils.node_path(dict_hierarchy_raw, cat)\n",
    "    for path in paths:\n",
    "        print(f\"    \" + \" -> \".join([utils.semantic_name(k) for k in path]))"
   ]
  }
 ],
 "metadata": {
  "kernelspec": {
   "display_name": "Python 3",
   "language": "python",
   "name": "python3"
  },
  "language_info": {
   "codemirror_mode": {
    "name": "ipython",
    "version": 3
   },
   "file_extension": ".py",
   "mimetype": "text/x-python",
   "name": "python",
   "nbconvert_exporter": "python",
   "pygments_lexer": "ipython3",
   "version": "3.7.3"
  },
  "toc-autonumbering": false,
  "toc-showcode": true,
  "toc-showmarkdowntxt": false,
  "toc-showtags": false
 },
 "nbformat": 4,
 "nbformat_minor": 4
}
