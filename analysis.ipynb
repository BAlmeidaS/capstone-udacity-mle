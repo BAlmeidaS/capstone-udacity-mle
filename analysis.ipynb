{
 "cells": [
  {
   "cell_type": "markdown",
   "metadata": {
    "Collapsed": "false",
    "toc-hr-collapsed": false
   },
   "source": [
    "# Analysis - Object Detection\n",
    "\n",
    "This notebook is about the exploratory data analysis to Object Detection project"
   ]
  },
  {
   "cell_type": "code",
   "execution_count": 1,
   "metadata": {},
   "outputs": [],
   "source": [
    "import pandas as pd\n",
    "import numpy as np\n",
    "\n",
    "from matplotlib import pyplot as plt\n",
    "import seaborn as sns\n",
    "\n",
    "import json\n",
    "\n",
    "import project.download_content as content\n",
    "\n",
    "%matplotlib inline"
   ]
  },
  {
   "cell_type": "code",
   "execution_count": 5,
   "metadata": {},
   "outputs": [
    {
     "data": {
      "text/plain": [
       "['class-descriptions-boxable.csv',\n",
       " 'bbox_labels_600_hierarchy.json',\n",
       " 'train-annotations-human-imagelabels-boxable.csv',\n",
       " 'train-annotations-bbox.csv',\n",
       " 'validation-annotations-human-imagelabels-boxable.csv',\n",
       " 'validation-annotations-bbox.csv',\n",
       " 'test-annotations-human-imagelabels-boxable.csv',\n",
       " 'test-annotations-bbox.csv']"
      ]
     },
     "execution_count": 5,
     "metadata": {},
     "output_type": "execute_result"
    }
   ],
   "source": [
    "files = (ref.split('/')[-1] for ref in content.CONTENT['METADATA']['urls'])\n",
    "list(files)"
   ]
  },
  {
   "cell_type": "markdown",
   "metadata": {},
   "source": [
    "## Wrangling"
   ]
  },
  {
   "cell_type": "markdown",
   "metadata": {},
   "source": [
    "### Gather"
   ]
  },
  {
   "cell_type": "code",
   "execution_count": 6,
   "metadata": {
    "code_folding": []
   },
   "outputs": [
    {
     "name": "stdout",
     "output_type": "stream",
     "text": [
      "all folders exist...\n",
      "Gathering all metadata files...OK!\n",
      "Gathering all train files...OK!\n",
      "Gathering all validation files...OK!\n",
      "Gathering all test files...OK!\n"
     ]
    }
   ],
   "source": [
    "if not content.does_metadata_exist():\n",
    "    raise OSError(f'There are metadata file(s) that did not downloaded yet...')\n",
    "print('all folders exist...')\n",
    "\n",
    "METAPATH = content.DATAPATH + \"/METADATA\" \n",
    "\n",
    "# metadata general files\n",
    "print('Gathering all metadata files...', end='')\n",
    "\n",
    "df_classes_raw = pd.read_csv(METAPATH + \"/class-descriptions-boxable.csv\")\n",
    "with open(METAPATH + \"/bbox_labels_600_hierarchy.json\") as f:\n",
    "    dict_hierarchy_raw = json.load(f)\n",
    "print('OK!')\n",
    "\n",
    "\n",
    "# train files\n",
    "print('Gathering all train files...', end='')\n",
    "df_train_bbox_raw = pd.read_csv(METAPATH\n",
    "                                + \"/train-annotations-bbox.csv\")\n",
    "df_train_labels_raw = pd.read_csv(METAPATH\n",
    "                                  + \"/train-annotations-human-imagelabels-boxable.csv\")\n",
    "print('OK!')\n",
    "\n",
    "\n",
    "# validation files\n",
    "print('Gathering all validation files...', end='')\n",
    "df_val_bbox_raw = pd.read_csv(METAPATH\n",
    "                              + \"/validation-annotations-bbox.csv\")\n",
    "df_val_labels_raw = pd.read_csv(METAPATH\n",
    "                                + \"/validation-annotations-human-imagelabels-boxable.csv\")\n",
    "print('OK!')\n",
    "\n",
    "\n",
    "# test files\n",
    "print('Gathering all test files...', end='')\n",
    "df_test_bbox_raw = pd.read_csv(METAPATH\n",
    "                               + \"/test-annotations-bbox.csv\")\n",
    "df_test_labels_raw = pd.read_csv(METAPATH\n",
    "                                 + \"/test-annotations-human-imagelabels-boxable.csv\")\n",
    "print('OK!')"
   ]
  },
  {
   "cell_type": "markdown",
   "metadata": {},
   "source": [
    "### Assess"
   ]
  },
  {
   "cell_type": "code",
   "execution_count": null,
   "metadata": {},
   "outputs": [],
   "source": [
    "df_train_bbox_raw.shape[0] + df_val_bbox_raw.shape[0] + df_test_bbox_raw.shape[0]"
   ]
  },
  {
   "cell_type": "code",
   "execution_count": null,
   "metadata": {},
   "outputs": [],
   "source": [
    "df_train_bbox_challenge.shape[0] + df_val_bbox_challenge.shape[0]"
   ]
  },
  {
   "cell_type": "markdown",
   "metadata": {},
   "source": [
    "### Clean"
   ]
  },
  {
   "cell_type": "markdown",
   "metadata": {},
   "source": [
    "## EDA"
   ]
  },
  {
   "cell_type": "code",
   "execution_count": null,
   "metadata": {
    "Collapsed": "false",
    "cell_style": "center"
   },
   "outputs": [],
   "source": []
  },
  {
   "cell_type": "code",
   "execution_count": null,
   "metadata": {},
   "outputs": [],
   "source": []
  },
  {
   "cell_type": "code",
   "execution_count": null,
   "metadata": {},
   "outputs": [],
   "source": [
    "# loading all metadatas dateset\n",
    "\n",
    "df_test_"
   ]
  },
  {
   "cell_type": "code",
   "execution_count": null,
   "metadata": {},
   "outputs": [],
   "source": []
  },
  {
   "cell_type": "code",
   "execution_count": null,
   "metadata": {},
   "outputs": [],
   "source": [
    "df = pd.read_csv('./project/data/METADATA/validation-annotations-bbox.csv')\n",
    "df.head(500)"
   ]
  }
 ],
 "metadata": {
  "kernelspec": {
   "display_name": "Python 3",
   "language": "python",
   "name": "python3"
  },
  "language_info": {
   "codemirror_mode": {
    "name": "ipython",
    "version": 3
   },
   "file_extension": ".py",
   "mimetype": "text/x-python",
   "name": "python",
   "nbconvert_exporter": "python",
   "pygments_lexer": "ipython3",
   "version": "3.7.3"
  },
  "toc-autonumbering": false,
  "toc-showcode": true,
  "toc-showmarkdowntxt": false,
  "toc-showtags": false
 },
 "nbformat": 4,
 "nbformat_minor": 4
}
