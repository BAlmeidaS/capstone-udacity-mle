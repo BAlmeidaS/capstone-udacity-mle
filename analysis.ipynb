{
 "cells": [
  {
   "cell_type": "markdown",
   "metadata": {
    "Collapsed": "false",
    "toc-hr-collapsed": false
   },
   "source": [
    "# Analysis - Object Detection\n",
    "\n",
    "This notebook is about the exploratory data analysis to Object Detection project"
   ]
  },
  {
   "cell_type": "code",
   "execution_count": 1,
   "metadata": {
    "Collapsed": "false"
   },
   "outputs": [],
   "source": [
    "import os\n",
    "import random\n",
    "\n",
    "import pandas as pd\n",
    "import numpy as np\n",
    "\n",
    "from matplotlib import pyplot as plt\n",
    "import seaborn as sns\n",
    "\n",
    "import json\n",
    "\n",
    "import project.download_content as content\n",
    "\n",
    "from collections import Counter\n",
    "\n",
    "import notebooks_utils.analysis as utils\n",
    "\n",
    "from IPython.display import display\n",
    "\n",
    "\n",
    "\n",
    "\n",
    "%matplotlib inline"
   ]
  },
  {
   "cell_type": "markdown",
   "metadata": {},
   "source": [
    "This analysis starts with the downloading of all the data. To do this, you could use the makefile created. Just open the terminal, go to where you clone this project and run `make download-content`, following the instructions to download files.\n",
    "\n",
    "**To run this analysis and reproduced it, you must download the METADATA files**. Besides that, in some cells, it is necessary to download the images (TRAIN, TEST, and VALIDATION image files). Because of that, to reproduce this analysis entirely, you should download these files also (download around 550Gb). If you did not download them, these cells are not going to run entirely, but the cell will notify you about this, and the process is going to follow.\n",
    "\n",
    "The analysis made with all the images files downloaded could be accessed in an HTML file that is in the project, called \"analysis.html\". You do not need to download all images to see it, open the file in your browser."
   ]
  },
  {
   "cell_type": "markdown",
   "metadata": {
    "Collapsed": "false"
   },
   "source": [
    "## Wrangling"
   ]
  },
  {
   "cell_type": "markdown",
   "metadata": {
    "Collapsed": "false"
   },
   "source": [
    "### Gather"
   ]
  },
  {
   "cell_type": "code",
   "execution_count": 2,
   "metadata": {
    "Collapsed": "false",
    "code_folding": []
   },
   "outputs": [
    {
     "name": "stdout",
     "output_type": "stream",
     "text": [
      "All Metadata files exist...\n",
      "Gathering all metadata files...OK!\n",
      "Gathering all train files...OK!\n",
      "Gathering all validation files...OK!\n",
      "Gathering all test files...OK!\n",
      "Gathering labels of all images downloaded...Ok!\n"
     ]
    }
   ],
   "source": [
    "# Gathering all files\n",
    "if not content.does_metadata_exist():\n",
    "    raise OSError(f'There are metadata file(s) that did not downloaded yet...')\n",
    "print('All Metadata files exist...')\n",
    "\n",
    "METAPATH = os.path.join(content.DATAPATH, 'METADATA')\n",
    "\n",
    "# metadata general files\n",
    "print('Gathering all metadata files...', end='')\n",
    "\n",
    "df_classes_raw = pd.read_csv(METAPATH + \"/class-descriptions-boxable.csv\",\n",
    "                             names=['class_encode', 'class_name'])\n",
    "with open(METAPATH + \"/bbox_labels_600_hierarchy.json\") as f:\n",
    "    dict_hierarchy_raw = json.load(f)\n",
    "print('OK!')\n",
    "\n",
    "\n",
    "# train files\n",
    "print('Gathering all train files...', end='')\n",
    "df_train_bbox_raw = pd.read_csv(METAPATH + \"/train-annotations-bbox.csv\")\n",
    "df_train_labels_raw = pd.read_csv(\n",
    "    METAPATH + \"/train-annotations-human-imagelabels-boxable.csv\")\n",
    "print('OK!')\n",
    "\n",
    "\n",
    "# validation files\n",
    "print('Gathering all validation files...', end='')\n",
    "df_val_bbox_raw = pd.read_csv(METAPATH + \"/validation-annotations-bbox.csv\")\n",
    "df_val_labels_raw = pd.read_csv(\n",
    "    METAPATH + \"/validation-annotations-human-imagelabels-boxable.csv\")\n",
    "print('OK!')\n",
    "\n",
    "\n",
    "# test files\n",
    "print('Gathering all test files...', end='')\n",
    "df_test_bbox_raw = pd.read_csv(METAPATH + \"/test-annotations-bbox.csv\")\n",
    "df_test_labels_raw = pd.read_csv(\n",
    "    METAPATH + \"/test-annotations-human-imagelabels-boxable.csv\")\n",
    "print('OK!')\n",
    "\n",
    "# downloaded images\n",
    "if utils.all_images_downloaded():\n",
    "    print(\"Gathering labels of all images downloaded...\", end='')\n",
    "    df_images_train = utils.images_downloaded('TRAIN')\n",
    "    df_images_val = utils.images_downloaded('VALIDATION')\n",
    "    df_images_test = utils.images_downloaded('TEST')\n",
    "    print('Ok!')\n",
    "else:\n",
    "    print(\"\"\"\n",
    "Unfortunately you did not download the files...\n",
    "That's ok, you can follow, but some cells will not run properly.\n",
    "    \"\"\")"
   ]
  },
  {
   "cell_type": "markdown",
   "metadata": {
    "Collapsed": "false"
   },
   "source": [
    "### Assess"
   ]
  },
  {
   "cell_type": "markdown",
   "metadata": {
    "heading_collapsed": true
   },
   "source": [
    "#### Explaining data"
   ]
  },
  {
   "cell_type": "markdown",
   "metadata": {
    "hidden": true
   },
   "source": [
    "It is crucial to start the analysis to understand all the files downloaded.\n",
    "\n",
    "When you run the command `make download-content`, you should notice that the files are divided into four blocks, METADATA, TRAIN, VALIDATION, and TEST.\n",
    "\n",
    "The blocks TRAIN, VALIDATION, and TEST are about the images files, and there is nothing but that, the images.\n",
    "\n",
    "**The block METADATA is a must-have content**. In it, we are going to find eight files.\n",
    "\n",
    "**The first six files are essentially a split of two data**, the bounding box annotations *([type]-annotations-bbox.csv)* and the image-level annotations *([type]-annotations-human-imagelabels-boxable.csv)*.\n",
    "\n",
    "Image-level Annotations are manual data labeled by a human (from google and a crowdsourced system). These labels try to represent what the image has. More about this dataset could be found in [here](https://storage.googleapis.com/openimages/web/factsfigures.html) in session **Image-level Labels**.\n",
    "\n",
    "The Bounding Box Annotation is a dataset that defines, for each image, where are the objects annotated previously by the Image-level Annotation. These annotations are focused on the most specific labels in Image-level Annotations. More about this dataset could be founded [here](https://storage.googleapis.com/openimages/web/factsfigures.html) in session **Bonding Boxes**. \n",
    "\n",
    "These two datasets described above were divided by Google in three sets. Train, which is going to be used to train the model, Validation, which is going to be used to compare the models, and Test, which is going to be used to do the final evaluation of the chosen one model.\n",
    "\n",
    "The final two files are about the classes themselves.\n",
    "\n",
    "All the labels described in the paragraphs above are encoded representations of the classes. The CSV *class-descriptions-boxable.csv* maps each **encoded class name** (machine-understandable) **to a semantic class name** (human-understandable).\n",
    "\n",
    "Lastly, the JSON file *bbox_labels_600_hierarchy.json* **describes a hierarchical tree of all classes**, describing a hierarchy of each class. This file shows us, for example, that Woman derives from Person."
   ]
  },
  {
   "cell_type": "markdown",
   "metadata": {},
   "source": [
    "#### Assessing Data"
   ]
  },
  {
   "cell_type": "code",
   "execution_count": 3,
   "metadata": {
    "Collapsed": "false",
    "code_folding": [],
    "run_control": {
     "marked": false
    }
   },
   "outputs": [
    {
     "name": "stdout",
     "output_type": "stream",
     "text": [
      "Number of bouding boxes: 15,851,536\n",
      "\n",
      "labels in train images: 8,996,795\n",
      "labels in validation images: 256,707\n",
      "labels in test images: 772,776\n",
      "\n",
      "bouding boxes labeled in train: 14,610,229\n",
      "bouding boxes labeled in validation: 303,980\n",
      "bouding boxes labeled in test: 937,327\n"
     ]
    }
   ],
   "source": [
    "#number of images by dataset\n",
    "print(f\"\"\"Number of bouding boxes: {(df_train_bbox_raw.shape[0]\n",
    "                                     + df_val_bbox_raw.shape[0]\n",
    "                                     + df_test_bbox_raw.shape[0]):,}\"\"\", end=\"\\n\"*2)\n",
    "\n",
    "print(f\"labels in train images: {df_train_labels_raw.shape[0]:,}\")\n",
    "print(f\"labels in validation images: {df_val_labels_raw.shape[0]:,}\")\n",
    "print(f\"labels in test images: {df_test_labels_raw.shape[0]:,}\", end=\"\\n\"*2)\n",
    "\n",
    "print(f\"bouding boxes labeled in train: {df_train_bbox_raw.shape[0]:,}\")\n",
    "print(f\"bouding boxes labeled in validation: {df_val_bbox_raw.shape[0]:,}\")\n",
    "print(f\"bouding boxes labeled in test: {df_test_bbox_raw.shape[0]:,}\")"
   ]
  },
  {
   "cell_type": "code",
   "execution_count": 4,
   "metadata": {},
   "outputs": [
    {
     "name": "stdout",
     "output_type": "stream",
     "text": [
      "images downloaded in train: 1,743,042\n",
      "images downloaded in validation: 41,620\n",
      "images downloaded in test: 125,436\n"
     ]
    }
   ],
   "source": [
    "utils.check_images_download()\n",
    "\n",
    "print(f\"images downloaded in train: {df_images_train.shape[0]:,}\")\n",
    "print(f\"images downloaded in validation: {df_images_val.shape[0]:,}\")\n",
    "print(f\"images downloaded in test: {df_images_test.shape[0]:,}\")"
   ]
  },
  {
   "cell_type": "markdown",
   "metadata": {},
   "source": [
    "#### Explaining more about the data"
   ]
  },
  {
   "cell_type": "markdown",
   "metadata": {
    "heading_collapsed": true
   },
   "source": [
    "###### Classes Mapping"
   ]
  },
  {
   "cell_type": "code",
   "execution_count": 5,
   "metadata": {
    "Collapsed": "false",
    "code_folding": [],
    "hidden": true
   },
   "outputs": [
    {
     "name": "stdout",
     "output_type": "stream",
     "text": [
      "total classes: 601\n"
     ]
    },
    {
     "data": {
      "text/html": [
       "<div>\n",
       "<style scoped>\n",
       "    .dataframe tbody tr th:only-of-type {\n",
       "        vertical-align: middle;\n",
       "    }\n",
       "\n",
       "    .dataframe tbody tr th {\n",
       "        vertical-align: top;\n",
       "    }\n",
       "\n",
       "    .dataframe thead th {\n",
       "        text-align: right;\n",
       "    }\n",
       "</style>\n",
       "<table border=\"1\" class=\"dataframe\">\n",
       "  <thead>\n",
       "    <tr style=\"text-align: right;\">\n",
       "      <th></th>\n",
       "      <th>class_encode</th>\n",
       "      <th>class_name</th>\n",
       "    </tr>\n",
       "  </thead>\n",
       "  <tbody>\n",
       "    <tr>\n",
       "      <td>386</td>\n",
       "      <td>/m/07dd4</td>\n",
       "      <td>Torch</td>\n",
       "    </tr>\n",
       "    <tr>\n",
       "      <td>58</td>\n",
       "      <td>/m/01dws</td>\n",
       "      <td>Bear</td>\n",
       "    </tr>\n",
       "  </tbody>\n",
       "</table>\n",
       "</div>"
      ],
      "text/plain": [
       "    class_encode class_name\n",
       "386     /m/07dd4      Torch\n",
       "58      /m/01dws       Bear"
      ]
     },
     "metadata": {},
     "output_type": "display_data"
    }
   ],
   "source": [
    "# display classes and their encodes\n",
    "print(f\"total classes: {df_classes_raw.shape[0]}\")\n",
    "display(df_classes_raw.sample(2, random_state=17))"
   ]
  },
  {
   "cell_type": "markdown",
   "metadata": {
    "hidden": true
   },
   "source": [
    "In the cell above, all datasets are described:"
   ]
  },
  {
   "cell_type": "code",
   "execution_count": 6,
   "metadata": {
    "Collapsed": "false",
    "code_folding": [],
    "hidden": true,
    "scrolled": false
   },
   "outputs": [
    {
     "name": "stdout",
     "output_type": "stream",
     "text": [
      "####### TRAIN BOUNDING BOXES #######\n",
      "\n",
      "shape: 14,610,229 rows, 13 columns\n",
      "duplicated values: 558 records\n",
      "\n",
      "Unique Values:\n",
      "   ImageID ------- OBJECT --- Nulls = 0 | Uniques = 1,743,042\n",
      "   Source -------- OBJECT --- Nulls = 0 | Uniques = 2\n",
      "   LabelName ----- OBJECT --- Nulls = 0 | Uniques = 599\n",
      "   Confidence ---- INT64 ---- Nulls = 0 | Uniques = 1\n",
      "   XMin ---------- FLOAT64 -- Nulls = 0 | Uniques = 446,369\n",
      "   XMax ---------- FLOAT64 -- Nulls = 0 | Uniques = 446,839\n",
      "   YMin ---------- FLOAT64 -- Nulls = 0 | Uniques = 496,455\n",
      "   YMax ---------- FLOAT64 -- Nulls = 0 | Uniques = 476,443\n",
      "   IsOccluded ---- INT64 ---- Nulls = 0 | Uniques = 3\n",
      "   IsTruncated --- INT64 ---- Nulls = 0 | Uniques = 3\n",
      "   IsGroupOf ----- INT64 ---- Nulls = 0 | Uniques = 3\n",
      "   IsDepiction --- INT64 ---- Nulls = 0 | Uniques = 3\n",
      "   IsInside ------ INT64 ---- Nulls = 0 | Uniques = 3\n"
     ]
    },
    {
     "data": {
      "text/html": [
       "<div>\n",
       "<style scoped>\n",
       "    .dataframe tbody tr th:only-of-type {\n",
       "        vertical-align: middle;\n",
       "    }\n",
       "\n",
       "    .dataframe tbody tr th {\n",
       "        vertical-align: top;\n",
       "    }\n",
       "\n",
       "    .dataframe thead th {\n",
       "        text-align: right;\n",
       "    }\n",
       "</style>\n",
       "<table border=\"1\" class=\"dataframe\">\n",
       "  <thead>\n",
       "    <tr style=\"text-align: right;\">\n",
       "      <th></th>\n",
       "      <th>ImageID</th>\n",
       "      <th>Source</th>\n",
       "      <th>LabelName</th>\n",
       "      <th>Confidence</th>\n",
       "      <th>XMin</th>\n",
       "      <th>XMax</th>\n",
       "      <th>YMin</th>\n",
       "      <th>YMax</th>\n",
       "      <th>IsOccluded</th>\n",
       "      <th>IsTruncated</th>\n",
       "      <th>IsGroupOf</th>\n",
       "      <th>IsDepiction</th>\n",
       "      <th>IsInside</th>\n",
       "    </tr>\n",
       "  </thead>\n",
       "  <tbody>\n",
       "    <tr>\n",
       "      <td>2219686</td>\n",
       "      <td>2360d8f563dbb953</td>\n",
       "      <td>xclick</td>\n",
       "      <td>/m/01g317</td>\n",
       "      <td>1</td>\n",
       "      <td>0.378125</td>\n",
       "      <td>0.529688</td>\n",
       "      <td>0.375000</td>\n",
       "      <td>0.804167</td>\n",
       "      <td>1</td>\n",
       "      <td>0</td>\n",
       "      <td>0</td>\n",
       "      <td>0</td>\n",
       "      <td>0</td>\n",
       "    </tr>\n",
       "    <tr>\n",
       "      <td>9909796</td>\n",
       "      <td>a96113e785b31ec2</td>\n",
       "      <td>xclick</td>\n",
       "      <td>/m/07j7r</td>\n",
       "      <td>1</td>\n",
       "      <td>0.436250</td>\n",
       "      <td>0.498750</td>\n",
       "      <td>0.636961</td>\n",
       "      <td>0.779550</td>\n",
       "      <td>1</td>\n",
       "      <td>0</td>\n",
       "      <td>0</td>\n",
       "      <td>0</td>\n",
       "      <td>0</td>\n",
       "    </tr>\n",
       "  </tbody>\n",
       "</table>\n",
       "</div>"
      ],
      "text/plain": [
       "                  ImageID  Source  LabelName  Confidence      XMin      XMax      YMin      YMax  IsOccluded  IsTruncated  IsGroupOf  IsDepiction  IsInside\n",
       "2219686  2360d8f563dbb953  xclick  /m/01g317           1  0.378125  0.529688  0.375000  0.804167           1            0          0            0         0\n",
       "9909796  a96113e785b31ec2  xclick   /m/07j7r           1  0.436250  0.498750  0.636961  0.779550           1            0          0            0         0"
      ]
     },
     "metadata": {},
     "output_type": "display_data"
    },
    {
     "name": "stdout",
     "output_type": "stream",
     "text": [
      "________________________________________________________________________________\n",
      "\n",
      "####### TRAIN LABELS #######\n",
      "\n",
      "shape: 8,996,795 rows, 4 columns\n",
      "duplicated values: 0 records\n",
      "\n",
      "Unique Values:\n",
      "   ImageID ------- OBJECT --- Nulls = 0 | Uniques = 1,743,042\n",
      "   Source -------- OBJECT --- Nulls = 0 | Uniques = 2\n",
      "   LabelName ----- OBJECT --- Nulls = 0 | Uniques = 601\n",
      "   Confidence ---- INT64 ---- Nulls = 0 | Uniques = 2\n"
     ]
    },
    {
     "data": {
      "text/html": [
       "<div>\n",
       "<style scoped>\n",
       "    .dataframe tbody tr th:only-of-type {\n",
       "        vertical-align: middle;\n",
       "    }\n",
       "\n",
       "    .dataframe tbody tr th {\n",
       "        vertical-align: top;\n",
       "    }\n",
       "\n",
       "    .dataframe thead th {\n",
       "        text-align: right;\n",
       "    }\n",
       "</style>\n",
       "<table border=\"1\" class=\"dataframe\">\n",
       "  <thead>\n",
       "    <tr style=\"text-align: right;\">\n",
       "      <th></th>\n",
       "      <th>ImageID</th>\n",
       "      <th>Source</th>\n",
       "      <th>LabelName</th>\n",
       "      <th>Confidence</th>\n",
       "    </tr>\n",
       "  </thead>\n",
       "  <tbody>\n",
       "    <tr>\n",
       "      <td>7673221</td>\n",
       "      <td>d52ec8ea8095ceda</td>\n",
       "      <td>verification</td>\n",
       "      <td>/m/05r655</td>\n",
       "      <td>0</td>\n",
       "    </tr>\n",
       "    <tr>\n",
       "      <td>1702253</td>\n",
       "      <td>2793756b766d2b66</td>\n",
       "      <td>verification</td>\n",
       "      <td>/m/01bl7v</td>\n",
       "      <td>0</td>\n",
       "    </tr>\n",
       "  </tbody>\n",
       "</table>\n",
       "</div>"
      ],
      "text/plain": [
       "                  ImageID        Source  LabelName  Confidence\n",
       "7673221  d52ec8ea8095ceda  verification  /m/05r655           0\n",
       "1702253  2793756b766d2b66  verification  /m/01bl7v           0"
      ]
     },
     "metadata": {},
     "output_type": "display_data"
    },
    {
     "name": "stdout",
     "output_type": "stream",
     "text": [
      "________________________________________________________________________________\n",
      "\n",
      "####### VALIDATION BOUNDING BOXES #######\n",
      "\n",
      "shape: 303,980 rows, 13 columns\n",
      "duplicated values: 0 records\n",
      "\n",
      "Unique Values:\n",
      "   ImageID ------- OBJECT --- Nulls = 0 | Uniques = 37,306\n",
      "   Source -------- OBJECT --- Nulls = 0 | Uniques = 1\n",
      "   LabelName ----- OBJECT --- Nulls = 0 | Uniques = 570\n",
      "   Confidence ---- INT64 ---- Nulls = 0 | Uniques = 1\n",
      "   XMin ---------- FLOAT64 -- Nulls = 0 | Uniques = 52,066\n",
      "   XMax ---------- FLOAT64 -- Nulls = 0 | Uniques = 52,182\n",
      "   YMin ---------- FLOAT64 -- Nulls = 0 | Uniques = 45,696\n",
      "   YMax ---------- FLOAT64 -- Nulls = 0 | Uniques = 45,471\n",
      "   IsOccluded ---- INT64 ---- Nulls = 0 | Uniques = 2\n",
      "   IsTruncated --- INT64 ---- Nulls = 0 | Uniques = 2\n",
      "   IsGroupOf ----- INT64 ---- Nulls = 0 | Uniques = 2\n",
      "   IsDepiction --- INT64 ---- Nulls = 0 | Uniques = 2\n",
      "   IsInside ------ INT64 ---- Nulls = 0 | Uniques = 2\n"
     ]
    },
    {
     "data": {
      "text/html": [
       "<div>\n",
       "<style scoped>\n",
       "    .dataframe tbody tr th:only-of-type {\n",
       "        vertical-align: middle;\n",
       "    }\n",
       "\n",
       "    .dataframe tbody tr th {\n",
       "        vertical-align: top;\n",
       "    }\n",
       "\n",
       "    .dataframe thead th {\n",
       "        text-align: right;\n",
       "    }\n",
       "</style>\n",
       "<table border=\"1\" class=\"dataframe\">\n",
       "  <thead>\n",
       "    <tr style=\"text-align: right;\">\n",
       "      <th></th>\n",
       "      <th>ImageID</th>\n",
       "      <th>Source</th>\n",
       "      <th>LabelName</th>\n",
       "      <th>Confidence</th>\n",
       "      <th>XMin</th>\n",
       "      <th>XMax</th>\n",
       "      <th>YMin</th>\n",
       "      <th>YMax</th>\n",
       "      <th>IsOccluded</th>\n",
       "      <th>IsTruncated</th>\n",
       "      <th>IsGroupOf</th>\n",
       "      <th>IsDepiction</th>\n",
       "      <th>IsInside</th>\n",
       "    </tr>\n",
       "  </thead>\n",
       "  <tbody>\n",
       "    <tr>\n",
       "      <td>265694</td>\n",
       "      <td>df011533a62a094a</td>\n",
       "      <td>xclick</td>\n",
       "      <td>/m/07mhn</td>\n",
       "      <td>1</td>\n",
       "      <td>0.137787</td>\n",
       "      <td>0.486430</td>\n",
       "      <td>0.607812</td>\n",
       "      <td>0.998437</td>\n",
       "      <td>1</td>\n",
       "      <td>1</td>\n",
       "      <td>0</td>\n",
       "      <td>0</td>\n",
       "      <td>0</td>\n",
       "    </tr>\n",
       "    <tr>\n",
       "      <td>158384</td>\n",
       "      <td>864d6c8df3d06b74</td>\n",
       "      <td>xclick</td>\n",
       "      <td>/m/01g317</td>\n",
       "      <td>1</td>\n",
       "      <td>0.159057</td>\n",
       "      <td>0.210604</td>\n",
       "      <td>0.232816</td>\n",
       "      <td>0.421286</td>\n",
       "      <td>1</td>\n",
       "      <td>0</td>\n",
       "      <td>0</td>\n",
       "      <td>0</td>\n",
       "      <td>0</td>\n",
       "    </tr>\n",
       "  </tbody>\n",
       "</table>\n",
       "</div>"
      ],
      "text/plain": [
       "                 ImageID  Source  LabelName  Confidence      XMin      XMax      YMin      YMax  IsOccluded  IsTruncated  IsGroupOf  IsDepiction  IsInside\n",
       "265694  df011533a62a094a  xclick   /m/07mhn           1  0.137787  0.486430  0.607812  0.998437           1            1          0            0         0\n",
       "158384  864d6c8df3d06b74  xclick  /m/01g317           1  0.159057  0.210604  0.232816  0.421286           1            0          0            0         0"
      ]
     },
     "metadata": {},
     "output_type": "display_data"
    },
    {
     "name": "stdout",
     "output_type": "stream",
     "text": [
      "________________________________________________________________________________\n",
      "\n",
      "####### VALIDATION LABELS #######\n",
      "\n",
      "shape: 256,707 rows, 4 columns\n",
      "duplicated values: 0 records\n",
      "\n",
      "Unique Values:\n",
      "   ImageID ------- OBJECT --- Nulls = 0 | Uniques = 41,151\n",
      "   Source -------- OBJECT --- Nulls = 0 | Uniques = 2\n",
      "   LabelName ----- OBJECT --- Nulls = 0 | Uniques = 577\n",
      "   Confidence ---- INT64 ---- Nulls = 0 | Uniques = 2\n"
     ]
    },
    {
     "data": {
      "text/html": [
       "<div>\n",
       "<style scoped>\n",
       "    .dataframe tbody tr th:only-of-type {\n",
       "        vertical-align: middle;\n",
       "    }\n",
       "\n",
       "    .dataframe tbody tr th {\n",
       "        vertical-align: top;\n",
       "    }\n",
       "\n",
       "    .dataframe thead th {\n",
       "        text-align: right;\n",
       "    }\n",
       "</style>\n",
       "<table border=\"1\" class=\"dataframe\">\n",
       "  <thead>\n",
       "    <tr style=\"text-align: right;\">\n",
       "      <th></th>\n",
       "      <th>ImageID</th>\n",
       "      <th>Source</th>\n",
       "      <th>LabelName</th>\n",
       "      <th>Confidence</th>\n",
       "    </tr>\n",
       "  </thead>\n",
       "  <tbody>\n",
       "    <tr>\n",
       "      <td>167771</td>\n",
       "      <td>a621ee5f23c3a6e3</td>\n",
       "      <td>verification</td>\n",
       "      <td>/m/05s2s</td>\n",
       "      <td>1</td>\n",
       "    </tr>\n",
       "    <tr>\n",
       "      <td>226733</td>\n",
       "      <td>e1a88f17eef86a15</td>\n",
       "      <td>verification</td>\n",
       "      <td>/m/026qbn5</td>\n",
       "      <td>0</td>\n",
       "    </tr>\n",
       "  </tbody>\n",
       "</table>\n",
       "</div>"
      ],
      "text/plain": [
       "                 ImageID        Source   LabelName  Confidence\n",
       "167771  a621ee5f23c3a6e3  verification    /m/05s2s           1\n",
       "226733  e1a88f17eef86a15  verification  /m/026qbn5           0"
      ]
     },
     "metadata": {},
     "output_type": "display_data"
    },
    {
     "name": "stdout",
     "output_type": "stream",
     "text": [
      "________________________________________________________________________________\n",
      "\n",
      "####### TEST BOUNDING BOXES #######\n",
      "\n",
      "shape: 937,327 rows, 13 columns\n",
      "duplicated values: 0 records\n",
      "\n",
      "Unique Values:\n",
      "   ImageID ------- OBJECT --- Nulls = 0 | Uniques = 112,194\n",
      "   Source -------- OBJECT --- Nulls = 0 | Uniques = 1\n",
      "   LabelName ----- OBJECT --- Nulls = 0 | Uniques = 583\n",
      "   Confidence ---- INT64 ---- Nulls = 0 | Uniques = 1\n",
      "   XMin ---------- FLOAT64 -- Nulls = 0 | Uniques = 101,542\n",
      "   XMax ---------- FLOAT64 -- Nulls = 0 | Uniques = 101,871\n",
      "   YMin ---------- FLOAT64 -- Nulls = 0 | Uniques = 82,929\n",
      "   YMax ---------- FLOAT64 -- Nulls = 0 | Uniques = 83,316\n",
      "   IsOccluded ---- INT64 ---- Nulls = 0 | Uniques = 2\n",
      "   IsTruncated --- INT64 ---- Nulls = 0 | Uniques = 2\n",
      "   IsGroupOf ----- INT64 ---- Nulls = 0 | Uniques = 2\n",
      "   IsDepiction --- INT64 ---- Nulls = 0 | Uniques = 2\n",
      "   IsInside ------ INT64 ---- Nulls = 0 | Uniques = 2\n"
     ]
    },
    {
     "data": {
      "text/html": [
       "<div>\n",
       "<style scoped>\n",
       "    .dataframe tbody tr th:only-of-type {\n",
       "        vertical-align: middle;\n",
       "    }\n",
       "\n",
       "    .dataframe tbody tr th {\n",
       "        vertical-align: top;\n",
       "    }\n",
       "\n",
       "    .dataframe thead th {\n",
       "        text-align: right;\n",
       "    }\n",
       "</style>\n",
       "<table border=\"1\" class=\"dataframe\">\n",
       "  <thead>\n",
       "    <tr style=\"text-align: right;\">\n",
       "      <th></th>\n",
       "      <th>ImageID</th>\n",
       "      <th>Source</th>\n",
       "      <th>LabelName</th>\n",
       "      <th>Confidence</th>\n",
       "      <th>XMin</th>\n",
       "      <th>XMax</th>\n",
       "      <th>YMin</th>\n",
       "      <th>YMax</th>\n",
       "      <th>IsOccluded</th>\n",
       "      <th>IsTruncated</th>\n",
       "      <th>IsGroupOf</th>\n",
       "      <th>IsDepiction</th>\n",
       "      <th>IsInside</th>\n",
       "    </tr>\n",
       "  </thead>\n",
       "  <tbody>\n",
       "    <tr>\n",
       "      <td>391592</td>\n",
       "      <td>6991ac65c79d307e</td>\n",
       "      <td>xclick</td>\n",
       "      <td>/m/0k65p</td>\n",
       "      <td>1</td>\n",
       "      <td>0.618037</td>\n",
       "      <td>0.854111</td>\n",
       "      <td>0.405</td>\n",
       "      <td>0.527500</td>\n",
       "      <td>0</td>\n",
       "      <td>0</td>\n",
       "      <td>0</td>\n",
       "      <td>0</td>\n",
       "      <td>0</td>\n",
       "    </tr>\n",
       "    <tr>\n",
       "      <td>96435</td>\n",
       "      <td>1928189562dc619a</td>\n",
       "      <td>xclick</td>\n",
       "      <td>/m/03q69</td>\n",
       "      <td>1</td>\n",
       "      <td>0.000000</td>\n",
       "      <td>0.457227</td>\n",
       "      <td>0.000</td>\n",
       "      <td>0.951327</td>\n",
       "      <td>0</td>\n",
       "      <td>1</td>\n",
       "      <td>0</td>\n",
       "      <td>0</td>\n",
       "      <td>0</td>\n",
       "    </tr>\n",
       "  </tbody>\n",
       "</table>\n",
       "</div>"
      ],
      "text/plain": [
       "                 ImageID  Source LabelName  Confidence      XMin      XMax   YMin      YMax  IsOccluded  IsTruncated  IsGroupOf  IsDepiction  IsInside\n",
       "391592  6991ac65c79d307e  xclick  /m/0k65p           1  0.618037  0.854111  0.405  0.527500           0            0          0            0         0\n",
       "96435   1928189562dc619a  xclick  /m/03q69           1  0.000000  0.457227  0.000  0.951327           0            1          0            0         0"
      ]
     },
     "metadata": {},
     "output_type": "display_data"
    },
    {
     "name": "stdout",
     "output_type": "stream",
     "text": [
      "________________________________________________________________________________\n",
      "\n",
      "####### TEST LABELS #######\n",
      "\n",
      "shape: 772,776 rows, 4 columns\n",
      "duplicated values: 0 records\n",
      "\n",
      "Unique Values:\n",
      "   ImageID ------- OBJECT --- Nulls = 0 | Uniques = 123,926\n",
      "   Source -------- OBJECT --- Nulls = 0 | Uniques = 2\n",
      "   LabelName ----- OBJECT --- Nulls = 0 | Uniques = 589\n",
      "   Confidence ---- INT64 ---- Nulls = 0 | Uniques = 2\n"
     ]
    },
    {
     "data": {
      "text/html": [
       "<div>\n",
       "<style scoped>\n",
       "    .dataframe tbody tr th:only-of-type {\n",
       "        vertical-align: middle;\n",
       "    }\n",
       "\n",
       "    .dataframe tbody tr th {\n",
       "        vertical-align: top;\n",
       "    }\n",
       "\n",
       "    .dataframe thead th {\n",
       "        text-align: right;\n",
       "    }\n",
       "</style>\n",
       "<table border=\"1\" class=\"dataframe\">\n",
       "  <thead>\n",
       "    <tr style=\"text-align: right;\">\n",
       "      <th></th>\n",
       "      <th>ImageID</th>\n",
       "      <th>Source</th>\n",
       "      <th>LabelName</th>\n",
       "      <th>Confidence</th>\n",
       "    </tr>\n",
       "  </thead>\n",
       "  <tbody>\n",
       "    <tr>\n",
       "      <td>144973</td>\n",
       "      <td>2f1eb82880cafec3</td>\n",
       "      <td>verification</td>\n",
       "      <td>/m/0f4s2w</td>\n",
       "      <td>0</td>\n",
       "    </tr>\n",
       "    <tr>\n",
       "      <td>237070</td>\n",
       "      <td>4d2e86d6498d365b</td>\n",
       "      <td>verification</td>\n",
       "      <td>/m/01prls</td>\n",
       "      <td>1</td>\n",
       "    </tr>\n",
       "  </tbody>\n",
       "</table>\n",
       "</div>"
      ],
      "text/plain": [
       "                 ImageID        Source  LabelName  Confidence\n",
       "144973  2f1eb82880cafec3  verification  /m/0f4s2w           0\n",
       "237070  4d2e86d6498d365b  verification  /m/01prls           1"
      ]
     },
     "metadata": {},
     "output_type": "display_data"
    },
    {
     "name": "stdout",
     "output_type": "stream",
     "text": [
      "________________________________________________________________________________\n",
      "\n"
     ]
    }
   ],
   "source": [
    "# show info about all dfs\n",
    "for k, df in {'Train Bounding Boxes': df_train_bbox_raw,\n",
    "              'Train Labels': df_train_labels_raw,\n",
    "              'Validation Bounding Boxes': df_val_bbox_raw,\n",
    "              'Validation Labels': df_val_labels_raw,\n",
    "              'Test Bounding Boxes': df_test_bbox_raw,\n",
    "              'Test Labels': df_test_labels_raw}.items():\n",
    "    print(f\"####### {k.upper()} #######\", end=\"\\n\"*2)\n",
    "    print(f\"shape: {df.shape[0]:,} rows, {df.shape[1]} columns\")\n",
    "    print(f\"duplicated values: {df[df.duplicated(keep='first')].shape[0]} records\",\n",
    "          end=\"\\n\"*2)\n",
    "\n",
    "    print(\"Unique Values:\")\n",
    "    for col in df.columns:\n",
    "        print(\n",
    "            f\"   {str(col)+' ':-<15} {str(df[col].dtype).upper()+' ':-<10} Nulls = {df[col].isna().sum():,} | Uniques = {df[col].nunique():,}\")\n",
    "    display(df.sample(2, random_state=37))\n",
    "    print('_'*80, end=\"\\n\"*2)"
   ]
  },
  {
   "cell_type": "markdown",
   "metadata": {
    "heading_collapsed": true
   },
   "source": [
    "###### Classes Hierarchy"
   ]
  },
  {
   "cell_type": "code",
   "execution_count": 7,
   "metadata": {
    "Collapsed": "false",
    "code_folding": [],
    "hidden": true,
    "run_control": {
     "marked": false
    }
   },
   "outputs": [
    {
     "name": "stdout",
     "output_type": "stream",
     "text": [
      "There are 671 classes in the JSON hierarchy\n",
      "\n",
      "The first node class encode is: /m/0bl9f\n",
      "\n",
      "the 17th son encode of the first node: /m/01x3z\n",
      "The sons of the 17th node:\n",
      "   {'LabelName': '/m/046dlr'}\n",
      "   {'LabelName': '/m/06_72j'}\n",
      "   {'LabelName': '/m/0h8mzrc'}\n"
     ]
    }
   ],
   "source": [
    "# classes hierarchy\n",
    "\n",
    "num_classes, classes = utils.count_recursive(dict_hierarchy_raw)\n",
    "\n",
    "print(f\"There are {num_classes} classes in the JSON hierarchy\",\n",
    "      end=\"\\n\"*2)\n",
    "\n",
    "print(\"The first node class encode is:\",\n",
    "      dict_hierarchy_raw['LabelName'], end=\"\\n\"*2)\n",
    "\n",
    "# defining a node to consult\n",
    "i=17\n",
    "\n",
    "print(f\"the {i}th son encode of the first node:\",\n",
    "      dict_hierarchy_raw['Subcategory'][i]['LabelName'])\n",
    "print(f\"The sons of the {i}th node:\")\n",
    "for subcat in dict_hierarchy_raw['Subcategory'][i]['Subcategory']:\n",
    "    print(f\"   {subcat}\")"
   ]
  },
  {
   "cell_type": "code",
   "execution_count": 8,
   "metadata": {
    "code_folding": [],
    "hidden": true,
    "run_control": {
     "marked": false
    }
   },
   "outputs": [
    {
     "name": "stdout",
     "output_type": "stream",
     "text": [
      "/m/0bl9f - 'Undefined Human Representation'\n"
     ]
    }
   ],
   "source": [
    "# finding with some class in hierarchial has no human representation\n",
    "for encoded_name in classes:\n",
    "    try:\n",
    "        semantic_name = utils.semantic_name(encoded_name)\n",
    "    except KeyError:\n",
    "        print(f\"{encoded_name} - 'Undefined Human Representation'\")"
   ]
  },
  {
   "cell_type": "markdown",
   "metadata": {
    "hidden": true
   },
   "source": [
    "Import to notice that only the first node (\"the father of all\") has no semantic representation!"
   ]
  },
  {
   "cell_type": "markdown",
   "metadata": {
    "heading_collapsed": true
   },
   "source": [
    "###### About labels and image downloads"
   ]
  },
  {
   "cell_type": "code",
   "execution_count": 9,
   "metadata": {
    "hidden": true
   },
   "outputs": [
    {
     "name": "stdout",
     "output_type": "stream",
     "text": [
      "### Number of unique images in each dataframe ###\n",
      "\n",
      "images in train images-level -----------> 1,743,042\n",
      "images in train bbox -------------------> 1,743,042\n",
      "images in train download folder --------> 1,743,042\n",
      "\n",
      "images in validation images-level ------> 41,151\n",
      "images in validation bbox --------------> 37,306\n",
      "images in valitation download folder ---> 41,620\n",
      "\n",
      "images in test images-level ------------> 123,926\n",
      "images in test bbox --------------------> 112,194\n",
      "images in test donwload folder ---------> 125,436\n",
      "\n"
     ]
    }
   ],
   "source": [
    "# assess the images downloaded\n",
    "utils.check_images_download()\n",
    "\n",
    "print('### Number of unique images in each dataframe ###', end='\\n'*2)\n",
    "train_labels   = pd.DataFrame(df_train_labels_raw.ImageID.unique(), columns=['ImageID'])\n",
    "train_bbox     = pd.DataFrame(df_train_bbox_raw.ImageID.unique(), columns=['ImageID'])\n",
    "train_download = pd.DataFrame(df_images_train.ImageID.unique(), columns=['ImageID'])\n",
    "\n",
    "print(f\"{'images in train images-level ':-<40}> {train_labels.shape[0]:,}\")\n",
    "print(f\"{'images in train bbox ':-<40}> {train_bbox.shape[0]:,}\")\n",
    "print(f\"{'images in train download folder ':-<40}> {train_download.shape[0]:,}\",\n",
    "      end='\\n'*2)\n",
    "\n",
    "val_labels   = pd.DataFrame(df_val_labels_raw.ImageID.unique(), columns=['ImageID'])\n",
    "val_bbox     = pd.DataFrame(df_val_bbox_raw.ImageID.unique(), columns=['ImageID'])\n",
    "val_download = pd.DataFrame(df_images_val.ImageID.unique(), columns=['ImageID'])\n",
    "\n",
    "print(f\"{'images in validation images-level ':-<40}> {val_labels.shape[0]:,}\")\n",
    "print(f\"{'images in validation bbox ':-<40}> {val_bbox.shape[0]:,}\")\n",
    "print(f\"{'images in valitation download folder ':-<40}> {val_download.shape[0]:,}\",\n",
    "      end='\\n'*2)\n",
    "\n",
    "test_labels   = pd.DataFrame(df_test_labels_raw.ImageID.unique(), columns=['ImageID'])\n",
    "test_bbox     = pd.DataFrame(df_test_bbox_raw.ImageID.unique(), columns=['ImageID'])\n",
    "test_download = pd.DataFrame(df_images_test.ImageID.unique(), columns=['ImageID'])\n",
    "\n",
    "print(f\"{'images in test images-level ':-<40}> {test_labels.shape[0]:,}\")\n",
    "print(f\"{'images in test bbox ':-<40}> {test_bbox.shape[0]:,}\")\n",
    "print(f\"{'images in test donwload folder ':-<40}> {test_download.shape[0]:,}\",\n",
    "      end='\\n'*2)"
   ]
  },
  {
   "cell_type": "code",
   "execution_count": 10,
   "metadata": {
    "hidden": true
   },
   "outputs": [],
   "source": [
    "# joining train dfs\n",
    "train_labels['label'] = True\n",
    "train_bbox['bbox'] = True\n",
    "train_download['download'] = True\n",
    "\n",
    "df_train_imgs = (train_download.merge(train_labels, on='ImageID', how='outer')\n",
    "                               .merge(train_bbox, on='ImageID', how='outer'))\n",
    "df_train_imgs.fillna(False, inplace=True)\n",
    "\n",
    "# joining validation dfs\n",
    "val_labels['label'] = True\n",
    "val_bbox['bbox'] = True\n",
    "val_download['download'] = True\n",
    "\n",
    "df_val_imgs = (val_download.merge(val_labels, on='ImageID', how='outer')\n",
    "                           .merge(val_bbox, on='ImageID', how='outer'))\n",
    "df_val_imgs.fillna(False, inplace=True)\n",
    "\n",
    "# joining test dfs\n",
    "test_labels['label'] = True\n",
    "test_bbox['bbox'] = True\n",
    "test_download['download'] = True\n",
    "\n",
    "df_test_imgs = (test_download.merge(test_labels, on='ImageID', how='outer')\n",
    "                             .merge(test_bbox, on='ImageID', how='outer'))\n",
    "df_test_imgs.fillna(False, inplace=True)"
   ]
  },
  {
   "cell_type": "code",
   "execution_count": 11,
   "metadata": {
    "hidden": true
   },
   "outputs": [
    {
     "name": "stdout",
     "output_type": "stream",
     "text": [
      "About Train data:\n",
      "   There are 0 images not downloaded\n",
      "   There are 0 images without label\n",
      "   There are 0 images without bounding boxes identified\n",
      "   There are 0 images with labels in image level, but without bounding boxes\n",
      "   There are 0 images without labels in image level, but having bounding boxes\n",
      "\n",
      "About Validation data:\n",
      "   There are 0 images not downloaded\n",
      "   There are 469 images without label\n",
      "   There are 4314 images without bounding boxes identified\n",
      "   There are 3845 images with labels in image level, but without bounding boxes\n",
      "   There are 0 images without labels in image level, but having bounding boxes\n",
      "\n",
      "About Test data:\n",
      "   There are 0 images not downloaded\n",
      "   There are 1510 images without label\n",
      "   There are 13242 images without bounding boxes identified\n",
      "   There are 11732 images with labels in image level, but without bounding boxes\n",
      "   There are 0 images without labels in image level, but having bounding boxes\n",
      "\n"
     ]
    }
   ],
   "source": [
    "ref = {'Train': df_train_imgs, 'Validation': df_val_imgs, 'Test': df_test_imgs}\n",
    "\n",
    "for label, df in ref.items():\n",
    "    not_down = df[df.download == False].shape[0]\n",
    "    not_label = df[(df.download == True) & (df.label == False)].shape[0]\n",
    "    not_bbox = df[(df.download == True) & (df.bbox == False)].shape[0]\n",
    "    label_not_bbox = df[(df.download == True) \n",
    "                        & (df.label == True)\n",
    "                        & (df.bbox == False)].shape[0]\n",
    "    bbox_not_label = df[(df.download == True) \n",
    "                        & (df.label == False)\n",
    "                        & (df.bbox == True)].shape[0]\n",
    "    \n",
    "    print(f\"About {label} data:\")\n",
    "    print(f\"   There are {not_down} images not downloaded\")\n",
    "    print(f\"   There are {not_label} images without label\")\n",
    "    print(f\"   There are {not_bbox} images without bounding boxes identified\")\n",
    "    print(f\"   There are {label_not_bbox} images with labels in image level, but without bounding boxes\")\n",
    "    print(f\"   There are {bbox_not_label} images without labels in image level, but having bounding boxes\", end='\\n'*2)"
   ]
  },
  {
   "cell_type": "markdown",
   "metadata": {
    "Collapsed": "false"
   },
   "source": [
    "### Clean"
   ]
  },
  {
   "cell_type": "markdown",
   "metadata": {},
   "source": [
    "#### Removing duplicate data"
   ]
  },
  {
   "cell_type": "code",
   "execution_count": 12,
   "metadata": {},
   "outputs": [
    {
     "data": {
      "text/plain": [
       "(14609671, 13)"
      ]
     },
     "execution_count": 12,
     "metadata": {},
     "output_type": "execute_result"
    }
   ],
   "source": [
    "df_train_bbox_raw = df_train_bbox_raw.drop_duplicates()\n",
    "df_train_bbox_raw.shape"
   ]
  },
  {
   "cell_type": "markdown",
   "metadata": {},
   "source": [
    "#### Adding semantic class label"
   ]
  },
  {
   "cell_type": "code",
   "execution_count": 13,
   "metadata": {},
   "outputs": [],
   "source": [
    "def semantic_label(df):\n",
    "    return (df.merge(df_classes_raw,\n",
    "                     left_on='LabelName',\n",
    "                     right_on='class_encode',\n",
    "                     how='inner')\n",
    "              .drop(['class_encode'], axis=1)\n",
    "              .rename(columns={'class_name': 'LabelSemantic'}))\n",
    "\n",
    "df_train_bbox   = semantic_label(df_train_bbox_raw)\n",
    "df_train_labels = semantic_label(df_train_labels_raw)\n",
    "df_val_bbox     = semantic_label(df_val_bbox_raw)\n",
    "df_val_labels   = semantic_label(df_val_labels_raw)\n",
    "df_test_bbox    = semantic_label(df_test_bbox_raw)\n",
    "df_test_labels  = semantic_label(df_test_labels_raw)"
   ]
  },
  {
   "cell_type": "markdown",
   "metadata": {},
   "source": [
    "#### Naming the first class in the hierarchy\n",
    "\n",
    "As I shown, the first node in the JSON hierarchy has no name. I am going to define it as \"Entity\" in the `df_classes`"
   ]
  },
  {
   "cell_type": "code",
   "execution_count": 18,
   "metadata": {},
   "outputs": [
    {
     "data": {
      "text/html": [
       "<div>\n",
       "<style scoped>\n",
       "    .dataframe tbody tr th:only-of-type {\n",
       "        vertical-align: middle;\n",
       "    }\n",
       "\n",
       "    .dataframe tbody tr th {\n",
       "        vertical-align: top;\n",
       "    }\n",
       "\n",
       "    .dataframe thead th {\n",
       "        text-align: right;\n",
       "    }\n",
       "</style>\n",
       "<table border=\"1\" class=\"dataframe\">\n",
       "  <thead>\n",
       "    <tr style=\"text-align: right;\">\n",
       "      <th></th>\n",
       "      <th>index</th>\n",
       "      <th>class_encode</th>\n",
       "      <th>class_name</th>\n",
       "    </tr>\n",
       "  </thead>\n",
       "  <tbody>\n",
       "    <tr>\n",
       "      <td>0</td>\n",
       "      <td>0</td>\n",
       "      <td>/m/0bl9f</td>\n",
       "      <td>Entity</td>\n",
       "    </tr>\n",
       "    <tr>\n",
       "      <td>1</td>\n",
       "      <td>0</td>\n",
       "      <td>/m/011k07</td>\n",
       "      <td>Tortoise</td>\n",
       "    </tr>\n",
       "    <tr>\n",
       "      <td>2</td>\n",
       "      <td>1</td>\n",
       "      <td>/m/011q46kg</td>\n",
       "      <td>Container</td>\n",
       "    </tr>\n",
       "    <tr>\n",
       "      <td>3</td>\n",
       "      <td>2</td>\n",
       "      <td>/m/012074</td>\n",
       "      <td>Magpie</td>\n",
       "    </tr>\n",
       "    <tr>\n",
       "      <td>4</td>\n",
       "      <td>3</td>\n",
       "      <td>/m/0120dh</td>\n",
       "      <td>Sea turtle</td>\n",
       "    </tr>\n",
       "    <tr>\n",
       "      <td>...</td>\n",
       "      <td>...</td>\n",
       "      <td>...</td>\n",
       "      <td>...</td>\n",
       "    </tr>\n",
       "    <tr>\n",
       "      <td>597</td>\n",
       "      <td>596</td>\n",
       "      <td>/m/0qmmr</td>\n",
       "      <td>Wheelchair</td>\n",
       "    </tr>\n",
       "    <tr>\n",
       "      <td>598</td>\n",
       "      <td>597</td>\n",
       "      <td>/m/0wdt60w</td>\n",
       "      <td>Rugby ball</td>\n",
       "    </tr>\n",
       "    <tr>\n",
       "      <td>599</td>\n",
       "      <td>598</td>\n",
       "      <td>/m/0xfy</td>\n",
       "      <td>Armadillo</td>\n",
       "    </tr>\n",
       "    <tr>\n",
       "      <td>600</td>\n",
       "      <td>599</td>\n",
       "      <td>/m/0xzly</td>\n",
       "      <td>Maracas</td>\n",
       "    </tr>\n",
       "    <tr>\n",
       "      <td>601</td>\n",
       "      <td>600</td>\n",
       "      <td>/m/0zvk5</td>\n",
       "      <td>Helmet</td>\n",
       "    </tr>\n",
       "  </tbody>\n",
       "</table>\n",
       "<p>602 rows × 3 columns</p>\n",
       "</div>"
      ],
      "text/plain": [
       "     index class_encode  class_name\n",
       "0        0     /m/0bl9f      Entity\n",
       "1        0    /m/011k07    Tortoise\n",
       "2        1  /m/011q46kg   Container\n",
       "3        2    /m/012074      Magpie\n",
       "4        3    /m/0120dh  Sea turtle\n",
       "..     ...          ...         ...\n",
       "597    596     /m/0qmmr  Wheelchair\n",
       "598    597   /m/0wdt60w  Rugby ball\n",
       "599    598      /m/0xfy   Armadillo\n",
       "600    599     /m/0xzly     Maracas\n",
       "601    600     /m/0zvk5      Helmet\n",
       "\n",
       "[602 rows x 3 columns]"
      ]
     },
     "execution_count": 18,
     "metadata": {},
     "output_type": "execute_result"
    }
   ],
   "source": [
    "df_classes = \n",
    "df_classes = df_classes.append(df_classes_raw).reset_index()\n",
    "\n",
    "df_classes = pd.concat([pd.DataFrame([['/m/0bl9f', 'Entity']], columns=['class_encode', 'class_name']),\n",
    "                        df_classes_raw],\n",
    "...                     ignore_index=True)"
   ]
  },
  {
   "cell_type": "markdown",
   "metadata": {
    "Collapsed": "false"
   },
   "source": [
    "## EDA"
   ]
  },
  {
   "cell_type": "markdown",
   "metadata": {},
   "source": [
    "**Some classes could be in more then on subtree**, as shown above"
   ]
  },
  {
   "cell_type": "code",
   "execution_count": 15,
   "metadata": {
    "scrolled": false
   },
   "outputs": [
    {
     "name": "stdout",
     "output_type": "stream",
     "text": [
      "Oven\n"
     ]
    },
    {
     "ename": "KeyError",
     "evalue": "'/m/0bl9f'",
     "output_type": "error",
     "traceback": [
      "\u001b[0;31m---------------------------------------------------------------------------\u001b[0m",
      "\u001b[0;31mKeyError\u001b[0m                                  Traceback (most recent call last)",
      "\u001b[0;32m<ipython-input-15-dce51967a1dc>\u001b[0m in \u001b[0;36m<module>\u001b[0;34m\u001b[0m\n\u001b[1;32m      7\u001b[0m     \u001b[0mpaths\u001b[0m \u001b[0;34m=\u001b[0m \u001b[0mutils\u001b[0m\u001b[0;34m.\u001b[0m\u001b[0mnode_path\u001b[0m\u001b[0;34m(\u001b[0m\u001b[0mdict_hierarchy_raw\u001b[0m\u001b[0;34m,\u001b[0m \u001b[0mcat\u001b[0m\u001b[0;34m)\u001b[0m\u001b[0;34m\u001b[0m\u001b[0;34m\u001b[0m\u001b[0m\n\u001b[1;32m      8\u001b[0m     \u001b[0;32mfor\u001b[0m \u001b[0mpath\u001b[0m \u001b[0;32min\u001b[0m \u001b[0mpaths\u001b[0m\u001b[0;34m:\u001b[0m\u001b[0;34m\u001b[0m\u001b[0;34m\u001b[0m\u001b[0m\n\u001b[0;32m----> 9\u001b[0;31m         \u001b[0mprint\u001b[0m\u001b[0;34m(\u001b[0m\u001b[0;34mf\"    \"\u001b[0m \u001b[0;34m+\u001b[0m \u001b[0;34m\" -> \"\u001b[0m\u001b[0;34m.\u001b[0m\u001b[0mjoin\u001b[0m\u001b[0;34m(\u001b[0m\u001b[0;34m[\u001b[0m\u001b[0mutils\u001b[0m\u001b[0;34m.\u001b[0m\u001b[0msemantic_name\u001b[0m\u001b[0;34m(\u001b[0m\u001b[0mk\u001b[0m\u001b[0;34m)\u001b[0m \u001b[0;32mfor\u001b[0m \u001b[0mk\u001b[0m \u001b[0;32min\u001b[0m \u001b[0mpath\u001b[0m\u001b[0;34m]\u001b[0m\u001b[0;34m)\u001b[0m\u001b[0;34m)\u001b[0m\u001b[0;34m\u001b[0m\u001b[0;34m\u001b[0m\u001b[0m\n\u001b[0m",
      "\u001b[0;32m<ipython-input-15-dce51967a1dc>\u001b[0m in \u001b[0;36m<listcomp>\u001b[0;34m(.0)\u001b[0m\n\u001b[1;32m      7\u001b[0m     \u001b[0mpaths\u001b[0m \u001b[0;34m=\u001b[0m \u001b[0mutils\u001b[0m\u001b[0;34m.\u001b[0m\u001b[0mnode_path\u001b[0m\u001b[0;34m(\u001b[0m\u001b[0mdict_hierarchy_raw\u001b[0m\u001b[0;34m,\u001b[0m \u001b[0mcat\u001b[0m\u001b[0;34m)\u001b[0m\u001b[0;34m\u001b[0m\u001b[0;34m\u001b[0m\u001b[0m\n\u001b[1;32m      8\u001b[0m     \u001b[0;32mfor\u001b[0m \u001b[0mpath\u001b[0m \u001b[0;32min\u001b[0m \u001b[0mpaths\u001b[0m\u001b[0;34m:\u001b[0m\u001b[0;34m\u001b[0m\u001b[0;34m\u001b[0m\u001b[0m\n\u001b[0;32m----> 9\u001b[0;31m         \u001b[0mprint\u001b[0m\u001b[0;34m(\u001b[0m\u001b[0;34mf\"    \"\u001b[0m \u001b[0;34m+\u001b[0m \u001b[0;34m\" -> \"\u001b[0m\u001b[0;34m.\u001b[0m\u001b[0mjoin\u001b[0m\u001b[0;34m(\u001b[0m\u001b[0;34m[\u001b[0m\u001b[0mutils\u001b[0m\u001b[0;34m.\u001b[0m\u001b[0msemantic_name\u001b[0m\u001b[0;34m(\u001b[0m\u001b[0mk\u001b[0m\u001b[0;34m)\u001b[0m \u001b[0;32mfor\u001b[0m \u001b[0mk\u001b[0m \u001b[0;32min\u001b[0m \u001b[0mpath\u001b[0m\u001b[0;34m]\u001b[0m\u001b[0;34m)\u001b[0m\u001b[0;34m)\u001b[0m\u001b[0;34m\u001b[0m\u001b[0;34m\u001b[0m\u001b[0m\n\u001b[0m",
      "\u001b[0;32m~/projetos/capstone-udacity-mle/notebooks_utils/analysis.py\u001b[0m in \u001b[0;36msemantic_name\u001b[0;34m(encoded_name)\u001b[0m\n\u001b[1;32m     16\u001b[0m \u001b[0;34m\u001b[0m\u001b[0m\n\u001b[1;32m     17\u001b[0m \u001b[0;32mdef\u001b[0m \u001b[0msemantic_name\u001b[0m\u001b[0;34m(\u001b[0m\u001b[0mencoded_name\u001b[0m\u001b[0;34m:\u001b[0m \u001b[0mstr\u001b[0m\u001b[0;34m)\u001b[0m\u001b[0;34m:\u001b[0m\u001b[0;34m\u001b[0m\u001b[0;34m\u001b[0m\u001b[0m\n\u001b[0;32m---> 18\u001b[0;31m     \u001b[0;32mreturn\u001b[0m \u001b[0mclasses_map\u001b[0m\u001b[0;34m[\u001b[0m\u001b[0mencoded_name\u001b[0m\u001b[0;34m]\u001b[0m\u001b[0;34m\u001b[0m\u001b[0;34m\u001b[0m\u001b[0m\n\u001b[0m\u001b[1;32m     19\u001b[0m \u001b[0;34m\u001b[0m\u001b[0m\n\u001b[1;32m     20\u001b[0m \u001b[0;34m\u001b[0m\u001b[0m\n",
      "\u001b[0;31mKeyError\u001b[0m: '/m/0bl9f'"
     ]
    }
   ],
   "source": [
    "# duplicated paths\n",
    "ambiguous_paths = [k for k, c in Counter(classes).items() if c > 1]\n",
    "\n",
    "random.seed(57)\n",
    "for cat in random.choices(ambiguous_paths, k=3):\n",
    "    print(f\"{utils.semantic_name(cat)}\")\n",
    "    paths = utils.node_path(dict_hierarchy_raw, cat)\n",
    "    for path in paths:\n",
    "        print(f\"    \" + \" -> \".join([utils.semantic_name(k) for k in path]))"
   ]
  }
 ],
 "metadata": {
  "kernelspec": {
   "display_name": "Python 3",
   "language": "python",
   "name": "python3"
  },
  "language_info": {
   "codemirror_mode": {
    "name": "ipython",
    "version": 3
   },
   "file_extension": ".py",
   "mimetype": "text/x-python",
   "name": "python",
   "nbconvert_exporter": "python",
   "pygments_lexer": "ipython3",
   "version": "3.7.3"
  },
  "toc-autonumbering": false,
  "toc-showcode": true,
  "toc-showmarkdowntxt": false,
  "toc-showtags": false
 },
 "nbformat": 4,
 "nbformat_minor": 4
}
